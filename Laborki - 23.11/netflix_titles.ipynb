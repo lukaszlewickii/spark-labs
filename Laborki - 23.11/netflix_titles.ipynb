{
  "nbformat": 4,
  "nbformat_minor": 0,
  "metadata": {
    "colab": {
      "provenance": []
    },
    "kernelspec": {
      "name": "python3",
      "display_name": "Python 3"
    },
    "language_info": {
      "name": "python"
    }
  },
  "cells": [
    {
      "cell_type": "code",
      "execution_count": 1,
      "metadata": {
        "colab": {
          "base_uri": "https://localhost:8080/"
        },
        "id": "CpSFrYcLAUPl",
        "outputId": "4ad8dbc4-09ca-4747-84a5-94abc80f7dcc"
      },
      "outputs": [
        {
          "output_type": "stream",
          "name": "stdout",
          "text": [
            "Collecting pyspark\n",
            "  Downloading pyspark-3.5.0.tar.gz (316.9 MB)\n",
            "\u001b[2K     \u001b[90m━━━━━━━━━━━━━━━━━━━━━━━━━━━━━━━━━━━━━━━━\u001b[0m \u001b[32m316.9/316.9 MB\u001b[0m \u001b[31m4.4 MB/s\u001b[0m eta \u001b[36m0:00:00\u001b[0m\n",
            "\u001b[?25h  Preparing metadata (setup.py) ... \u001b[?25l\u001b[?25hdone\n",
            "Requirement already satisfied: py4j==0.10.9.7 in /usr/local/lib/python3.10/dist-packages (from pyspark) (0.10.9.7)\n",
            "Building wheels for collected packages: pyspark\n",
            "  Building wheel for pyspark (setup.py) ... \u001b[?25l\u001b[?25hdone\n",
            "  Created wheel for pyspark: filename=pyspark-3.5.0-py2.py3-none-any.whl size=317425344 sha256=deef6f57effe91217d8f51b8d3364136c665187c46d762b3d646a0380150f3de\n",
            "  Stored in directory: /root/.cache/pip/wheels/41/4e/10/c2cf2467f71c678cfc8a6b9ac9241e5e44a01940da8fbb17fc\n",
            "Successfully built pyspark\n",
            "Installing collected packages: pyspark\n",
            "Successfully installed pyspark-3.5.0\n"
          ]
        }
      ],
      "source": [
        "!pip install pyspark"
      ]
    },
    {
      "cell_type": "code",
      "source": [
        "import pandas as pd\n",
        "from pyspark.sql import SparkSession\n",
        "from pyspark.sql.types import StructType, StructField, IntegerType, StringType, DateType\n",
        "from pyspark.sql.functions import col"
      ],
      "metadata": {
        "id": "DZfqDCwPAeEC"
      },
      "execution_count": 23,
      "outputs": []
    },
    {
      "cell_type": "code",
      "source": [
        "spark = SparkSession.builder.appName(\"YourAppName\").getOrCreate()"
      ],
      "metadata": {
        "id": "HXEBKmL1Bsai"
      },
      "execution_count": 12,
      "outputs": []
    },
    {
      "cell_type": "code",
      "source": [
        "schema = StructType([\n",
        "    StructField(\"Movie ID\", IntegerType(), True),\n",
        "    StructField(\"Type\", StringType(), True),\n",
        "    StructField(\"Title\", StringType(), True),\n",
        "    StructField(\"Director\", StringType(), True),\n",
        "    StructField(\"Starring\", StringType(), True),\n",
        "    StructField(\"Country\", StringType(), True),\n",
        "    StructField(\"Added to Netflix\", DateType(), True),\n",
        "    StructField(\"Release Year\", IntegerType(), True),\n",
        "    StructField(\"Rating\", StringType(), True),\n",
        "    StructField(\"Runtime\", StringType(), True),\n",
        "    StructField(\"Broadcasted on\", StringType(), True),\n",
        "    StructField(\"Description\", StringType(), True),\n",
        "])"
      ],
      "metadata": {
        "id": "W8dC2sO6Ba3v"
      },
      "execution_count": 27,
      "outputs": []
    },
    {
      "cell_type": "code",
      "source": [
        "df = spark.read.csv('./netflix_titles_dirty_01.csv', header=False, sep='\\t', schema=schema, dateFormat='MMMM d, yyyy')"
      ],
      "metadata": {
        "id": "PpQBRXtcAmPV"
      },
      "execution_count": 28,
      "outputs": []
    },
    {
      "cell_type": "code",
      "source": [
        "df.show()"
      ],
      "metadata": {
        "colab": {
          "base_uri": "https://localhost:8080/"
        },
        "id": "Bme5XR5eAu8M",
        "outputId": "f163ded4-5f09-4514-8343-1fa5fab9e068"
      },
      "execution_count": 29,
      "outputs": [
        {
          "output_type": "stream",
          "name": "stdout",
          "text": [
            "+--------+-------+--------------------+--------------------+--------------------+--------------------+----------------+------------+--------+--------+--------------------+--------------------+\n",
            "|Movie ID|   Type|               Title|            Director|            Starring|             Country|Added to Netflix|Release Year|  Rating| Runtime|      Broadcasted on|         Description|\n",
            "+--------+-------+--------------------+--------------------+--------------------+--------------------+----------------+------------+--------+--------+--------------------+--------------------+\n",
            "|81145628|  Movie|Norm of the North...|Richard Finn, Tim...|Alan Marriott, An...|United States, In...|      2019-09-09|        2019|   TV-PG|  90 min|Children & Family...|Before planning a...|\n",
            "|80117401|  Movie|Jandino: Whatever...|                NULL|    Jandino Asporaat|      United Kingdom|      2016-09-09|        2016|   TV-MA|  94 min|     Stand-Up Comedy|Jandino Asporaat ...|\n",
            "|70234439|TV Show|  Transformers Prime|                NULL|Peter Cullen, Sum...|       United States|      2018-09-08|        2013|TV-Y7-FV|1 Season|            Kids' TV|With the help of ...|\n",
            "|80058654|TV Show|Transformers: Rob...|                NULL|Will Friedle, Dar...|       United States|      2018-09-08|        2016|   TV-Y7|1 Season|            Kids' TV|When a prison shi...|\n",
            "|80125979|  Movie|        #realityhigh|    Fernando Lebrija|Nesta Cooper, Kat...|       United States|      2017-09-08|        2017|   TV-14|  99 min|            Comedies|When nerdy high s...|\n",
            "|80163890|TV Show|             Apaches|                NULL|Alberto Ammann, E...|               Spain|      2017-09-08|        2016|   TV-MA|1 Season|Crime TV Shows, I...|A young journalis...|\n",
            "|70304989|  Movie|            Automata|         Gabe Ibáñez|Antonio Banderas,...|Bulgaria, United ...|      2017-09-08|        2014|       R| 110 min|International Mov...|In a dystopian fu...|\n",
            "|80164077|  Movie|Fabrizio Copano: ...|Rodrigo Toro, Fra...|     Fabrizio Copano|               Chile|      2017-09-08|        2017|   TV-MA|  60 min|     Stand-Up Comedy|Fabrizio Copano t...|\n",
            "|80117902|TV Show|        Fire Chasers|                NULL|                NULL|       United States|      2017-09-08|        2017|   TV-MA|1 Season|Docuseries, Scien...|As California's 2...|\n",
            "|70304990|  Movie|         Good People|   Henrik Ruben Genz|James Franco, Kat...|United States, Un...|      2017-09-08|        2014|       R|  90 min|Action & Adventur...|A struggling coup...|\n",
            "|80169755|  Movie|Joaquín Reyes: Un...|José Miguel Contr...|       Joaquín Reyes|                NULL|      2017-09-08|        2017|   TV-MA|  78 min|     Stand-Up Comedy|Comedian and cele...|\n",
            "|70299204|  Movie|Kidnapping Mr. He...|    Daniel Alfredson|Jim Sturgess, Sam...|Netherlands, Belg...|      2017-09-08|        2015|       R|  95 min|Action & Adventur...|When beer magnate...|\n",
            "|80182480|  Movie|Krish Trish and B...|                NULL|Damandeep Singh B...|                NULL|      2017-09-08|        2009|   TV-Y7|  58 min|Children & Family...|A team of minstre...|\n",
            "|80182483|  Movie|Krish Trish and B...|Munjal Shroff, Ti...|Damandeep Singh B...|                NULL|      2017-09-08|        2013|   TV-Y7|  62 min|Children & Family...|An artisan is che...|\n",
            "|80182596|  Movie|Krish Trish and B...|Munjal Shroff, Ti...|Damandeep Singh B...|                NULL|      2017-09-08|        2016|    TV-Y|  65 min|Children & Family...|A cat, monkey and...|\n",
            "|80182482|  Movie|Krish Trish and B...|        Tilak Shetty|Damandeep Singh B...|                NULL|      2017-09-08|        2012|   TV-Y7|  61 min|Children & Family...|In three comic-st...|\n",
            "|80182597|  Movie|Krish Trish and B...|        Tilak Shetty|Rishi Gambhir, Sm...|                NULL|      2017-09-08|        2017|   TV-Y7|  65 min|Children & Family...|A cat, monkey and...|\n",
            "|80182481|  Movie|Krish Trish and B...|                NULL|Damandeep Singh B...|                NULL|      2017-09-08|        2010|   TV-Y7|  58 min|Children & Family...|Animal minstrels ...|\n",
            "|80182621|  Movie|Krish Trish and B...|Munjal Shroff, Ti...|Damandeep Singh B...|                NULL|      2017-09-08|        2013|   TV-Y7|  60 min|Children & Family...|The consequences ...|\n",
            "|80057969|  Movie|                Love|          Gaspar Noé|Karl Glusman, Kla...|     France, Belgium|      2017-09-08|        2015|      NR| 135 min|Cult Movies, Dram...|A man in an unsat...|\n",
            "+--------+-------+--------------------+--------------------+--------------------+--------------------+----------------+------------+--------+--------+--------------------+--------------------+\n",
            "only showing top 20 rows\n",
            "\n"
          ]
        }
      ]
    },
    {
      "cell_type": "code",
      "source": [
        "for column in df.columns:\n",
        "    missing_count = df.where(col(column).isNull()).count()\n",
        "    print(f\"{column}: {missing_count} missing values\")"
      ],
      "metadata": {
        "colab": {
          "base_uri": "https://localhost:8080/"
        },
        "id": "yLLo4ciXBx9n",
        "outputId": "2785398b-cf51-442b-e231-97c3421e158b"
      },
      "execution_count": 32,
      "outputs": [
        {
          "output_type": "stream",
          "name": "stdout",
          "text": [
            "Movie ID: 9 missing values\n",
            "Type: 8 missing values\n",
            "Title: 8 missing values\n",
            "Director: 272 missing values\n",
            "Starring: 107 missing values\n",
            "Country: 111 missing values\n",
            "Added to Netflix: 11 missing values\n",
            "Release Year: 14 missing values\n",
            "Rating: 14 missing values\n",
            "Runtime: 12 missing values\n",
            "Broadcasted on: 12 missing values\n",
            "Description: 12 missing values\n"
          ]
        }
      ]
    },
    {
      "cell_type": "code",
      "source": [
        "#wyczyścić zbiór\n",
        "#usunąć outliery"
      ],
      "metadata": {
        "id": "4InBlbclDLU1"
      },
      "execution_count": null,
      "outputs": []
    }
  ]
}