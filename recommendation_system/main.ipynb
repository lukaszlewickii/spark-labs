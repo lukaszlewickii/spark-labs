{
  "nbformat": 4,
  "nbformat_minor": 0,
  "metadata": {
    "colab": {
      "provenance": [],
      "authorship_tag": "ABX9TyO8IQTlURSYUoVc7xqPdH0N",
      "include_colab_link": true
    },
    "kernelspec": {
      "name": "python3",
      "display_name": "Python 3"
    },
    "language_info": {
      "name": "python"
    }
  },
  "cells": [
    {
      "cell_type": "markdown",
      "metadata": {
        "id": "view-in-github",
        "colab_type": "text"
      },
      "source": [
        "<a href=\"https://colab.research.google.com/github/lukaszlewickii/spark-labs/blob/main/recommendation_system/main.ipynb\" target=\"_parent\"><img src=\"https://colab.research.google.com/assets/colab-badge.svg\" alt=\"Open In Colab\"/></a>"
      ]
    },
    {
      "cell_type": "code",
      "execution_count": 1,
      "metadata": {
        "colab": {
          "base_uri": "https://localhost:8080/"
        },
        "id": "2BU8e2N3D2G3",
        "outputId": "a8195231-f416-4a09-ca31-15d07b755918"
      },
      "outputs": [
        {
          "output_type": "stream",
          "name": "stdout",
          "text": [
            "Collecting pyspark\n",
            "  Downloading pyspark-3.5.0.tar.gz (316.9 MB)\n",
            "\u001b[2K     \u001b[90m━━━━━━━━━━━━━━━━━━━━━━━━━━━━━━━━━━━━━━━━\u001b[0m \u001b[32m316.9/316.9 MB\u001b[0m \u001b[31m3.0 MB/s\u001b[0m eta \u001b[36m0:00:00\u001b[0m\n",
            "\u001b[?25h  Preparing metadata (setup.py) ... \u001b[?25l\u001b[?25hdone\n",
            "Requirement already satisfied: py4j==0.10.9.7 in /usr/local/lib/python3.10/dist-packages (from pyspark) (0.10.9.7)\n",
            "Building wheels for collected packages: pyspark\n",
            "  Building wheel for pyspark (setup.py) ... \u001b[?25l\u001b[?25hdone\n",
            "  Created wheel for pyspark: filename=pyspark-3.5.0-py2.py3-none-any.whl size=317425345 sha256=9bec2d711276a2baccd48ecf2dea0b702479b7b0dcfb69fd5d9dff8317a88b28\n",
            "  Stored in directory: /root/.cache/pip/wheels/41/4e/10/c2cf2467f71c678cfc8a6b9ac9241e5e44a01940da8fbb17fc\n",
            "Successfully built pyspark\n",
            "Installing collected packages: pyspark\n",
            "Successfully installed pyspark-3.5.0\n"
          ]
        }
      ],
      "source": [
        "!pip install pyspark"
      ]
    },
    {
      "cell_type": "code",
      "source": [
        "from pyspark.sql import SparkSession\n",
        "from pyspark.ml.evaluation import RegressionEvaluator\n",
        "from pyspark.ml.recommendation import ALS\n",
        "from pyspark.sql.functions import col, isnan, when, count"
      ],
      "metadata": {
        "id": "lUVHcMZhD6zO"
      },
      "execution_count": 18,
      "outputs": []
    },
    {
      "cell_type": "code",
      "source": [
        "spark = SparkSession.builder.appName(\"RecommenderSystem\").getOrCreate()"
      ],
      "metadata": {
        "id": "0XxG5vpQD-0X"
      },
      "execution_count": 3,
      "outputs": []
    },
    {
      "cell_type": "code",
      "source": [
        "data = spark.read.csv('./books_with_header.csv', header=True)"
      ],
      "metadata": {
        "id": "XvPBR2BzEAsm"
      },
      "execution_count": 5,
      "outputs": []
    },
    {
      "cell_type": "code",
      "source": [
        "data.columns"
      ],
      "metadata": {
        "colab": {
          "base_uri": "https://localhost:8080/"
        },
        "id": "r3o2EZ_DEJgs",
        "outputId": "8831b600-af82-4ac7-e976-04cbee51b159"
      },
      "execution_count": 6,
      "outputs": [
        {
          "output_type": "execute_result",
          "data": {
            "text/plain": [
              "['book_id',\n",
              " 'goodreads_book_id',\n",
              " 'best_book_id',\n",
              " 'work_id',\n",
              " 'books_count',\n",
              " 'isbn',\n",
              " 'isbn13',\n",
              " 'authors',\n",
              " 'original_publication_year',\n",
              " 'original_title',\n",
              " 'title',\n",
              " 'language_code',\n",
              " 'average_rating',\n",
              " 'ratings_count',\n",
              " 'work_ratings_count',\n",
              " 'work_text_reviews_count',\n",
              " 'ratings_1',\n",
              " 'ratings_2',\n",
              " 'ratings_3',\n",
              " 'ratings_4',\n",
              " 'ratings_5',\n",
              " 'image_url',\n",
              " 'small_image_url']"
            ]
          },
          "metadata": {},
          "execution_count": 6
        }
      ]
    },
    {
      "cell_type": "code",
      "source": [
        "null_counts = data.select([count(when(isnan(c) | col(c).isNull(), c)).alias(c) for c in data.columns])\n",
        "null_counts.show()"
      ],
      "metadata": {
        "colab": {
          "base_uri": "https://localhost:8080/"
        },
        "id": "HaP7QaXIFlSn",
        "outputId": "d1203ced-12fd-43d8-b258-0d05d9e03323"
      },
      "execution_count": 19,
      "outputs": [
        {
          "output_type": "stream",
          "name": "stdout",
          "text": [
            "+-------+-----------------+------------+-------+-----------+----+------+-------+-------------------------+--------------+-----+-------------+--------------+-------------+------------------+-----------------------+---------+---------+---------+---------+---------+---------+---------------+\n",
            "|book_id|goodreads_book_id|best_book_id|work_id|books_count|isbn|isbn13|authors|original_publication_year|original_title|title|language_code|average_rating|ratings_count|work_ratings_count|work_text_reviews_count|ratings_1|ratings_2|ratings_3|ratings_4|ratings_5|image_url|small_image_url|\n",
            "+-------+-----------------+------------+-------+-----------+----+------+-------+-------------------------+--------------+-----+-------------+--------------+-------------+------------------+-----------------------+---------+---------+---------+---------+---------+---------+---------------+\n",
            "|      0|                0|           0|      0|          0| 700|   585|      0|                       21|           585|    0|         1084|             0|            0|                 0|                      0|        0|        0|        0|        0|        0|        0|              0|\n",
            "+-------+-----------------+------------+-------+-----------+----+------+-------+-------------------------+--------------+-----+-------------+--------------+-------------+------------------+-----------------------+---------+---------+---------+---------+---------+---------+---------------+\n",
            "\n"
          ]
        }
      ]
    },
    {
      "cell_type": "code",
      "source": [
        "data = data.na.drop(subset=['average_rating'])"
      ],
      "metadata": {
        "id": "CHX04rQYGB2C"
      },
      "execution_count": 22,
      "outputs": []
    },
    {
      "cell_type": "code",
      "source": [
        "data.toPandas().shape"
      ],
      "metadata": {
        "colab": {
          "base_uri": "https://localhost:8080/"
        },
        "id": "bH--ePp9GGTK",
        "outputId": "c9422e3a-40eb-4871-f420-238b36bad87e"
      },
      "execution_count": 24,
      "outputs": [
        {
          "output_type": "execute_result",
          "data": {
            "text/plain": [
              "(10000, 23)"
            ]
          },
          "metadata": {},
          "execution_count": 24
        }
      ]
    },
    {
      "cell_type": "code",
      "source": [
        "ratings = data.select(\"book_id\", \"average_rating\")"
      ],
      "metadata": {
        "id": "sMw0rNSlEPiW"
      },
      "execution_count": 25,
      "outputs": []
    },
    {
      "cell_type": "code",
      "source": [
        "ratings = ratings.withColumn(\"book_id\", ratings[\"book_id\"].cast(\"int\"))\n",
        "ratings = ratings.withColumn(\"average_rating\", ratings[\"average_rating\"].cast(\"float\"))"
      ],
      "metadata": {
        "id": "OInaSh6METJ3"
      },
      "execution_count": 26,
      "outputs": []
    },
    {
      "cell_type": "code",
      "source": [
        "ratings.show()"
      ],
      "metadata": {
        "colab": {
          "base_uri": "https://localhost:8080/"
        },
        "id": "OcZiY-EAE3xZ",
        "outputId": "2c2c28ea-d475-4b7e-b008-5e86dc026c51"
      },
      "execution_count": 27,
      "outputs": [
        {
          "output_type": "stream",
          "name": "stdout",
          "text": [
            "+-------+--------------+\n",
            "|book_id|average_rating|\n",
            "+-------+--------------+\n",
            "|      1|          4.34|\n",
            "|      2|          4.44|\n",
            "|      3|          3.57|\n",
            "|      4|          4.25|\n",
            "|      5|          3.89|\n",
            "|      6|          4.26|\n",
            "|      7|          4.25|\n",
            "|      8|          3.79|\n",
            "|      9|          3.85|\n",
            "|     10|          4.24|\n",
            "|     11|          4.26|\n",
            "|     12|          4.24|\n",
            "|     13|          4.14|\n",
            "|     14|          3.87|\n",
            "|     15|           4.1|\n",
            "|     16|          4.11|\n",
            "|     17|           4.3|\n",
            "|     18|          4.53|\n",
            "|     19|          4.34|\n",
            "|     20|          4.03|\n",
            "+-------+--------------+\n",
            "only showing top 20 rows\n",
            "\n"
          ]
        }
      ]
    },
    {
      "cell_type": "code",
      "source": [
        "(train, test) = ratings.randomSplit([0.8, 0.2])"
      ],
      "metadata": {
        "id": "r0G7I6AKE6GF"
      },
      "execution_count": 28,
      "outputs": []
    },
    {
      "cell_type": "code",
      "source": [
        "als = ALS(maxIter=5, regParam=0.01, userCol=\"book_id\", itemCol=\"book_id\", ratingCol=\"average_rating\")\n",
        "model = als.fit(train)"
      ],
      "metadata": {
        "id": "-PSBCdLWE_U8"
      },
      "execution_count": 29,
      "outputs": []
    },
    {
      "cell_type": "code",
      "source": [
        "# Przygotowanie danych testowych dla ewaluacji\n",
        "predictions = model.transform(test)\n",
        "predictions.show()\n",
        "\n"
      ],
      "metadata": {
        "colab": {
          "base_uri": "https://localhost:8080/"
        },
        "id": "b_2sE4SuFCg2",
        "outputId": "153d97c8-d9d9-4d3a-8581-eaea2ee3d2d8"
      },
      "execution_count": 34,
      "outputs": [
        {
          "output_type": "stream",
          "name": "stdout",
          "text": [
            "+-------+--------------+----------+\n",
            "|book_id|average_rating|prediction|\n",
            "+-------+--------------+----------+\n",
            "|      2|          4.44|       NaN|\n",
            "|      5|          3.89|       NaN|\n",
            "|      9|          3.85|       NaN|\n",
            "|     14|          3.87|       NaN|\n",
            "|     24|          4.53|       NaN|\n",
            "|     33|          4.08|       NaN|\n",
            "|     43|           4.1|       NaN|\n",
            "|     48|          3.97|       NaN|\n",
            "|     59|          4.15|       NaN|\n",
            "|     62|          3.94|       NaN|\n",
            "|     64|          4.06|       NaN|\n",
            "|     66|          4.28|       NaN|\n",
            "|     70|           4.3|       NaN|\n",
            "|     81|          4.24|       NaN|\n",
            "|     82|          3.94|       NaN|\n",
            "|     94|          4.04|       NaN|\n",
            "|    104|          3.95|       NaN|\n",
            "|    106|          3.94|       NaN|\n",
            "|    107|          4.15|       NaN|\n",
            "|    111|          3.64|       NaN|\n",
            "+-------+--------------+----------+\n",
            "only showing top 20 rows\n",
            "\n"
          ]
        }
      ]
    },
    {
      "cell_type": "code",
      "source": [
        "# Obliczenie błędu prognoz za pomocą RegressionEvaluator\n",
        "evaluator = RegressionEvaluator(metricName=\"rmse\", labelCol=\"average_rating\", predictionCol=\"prediction\")\n",
        "rmse = evaluator.evaluate(predictions)\n",
        "print(\"Root Mean Squared Error (RMSE):\", rmse)"
      ],
      "metadata": {
        "id": "pPIeglvSGSds"
      },
      "execution_count": null,
      "outputs": []
    }
  ]
}