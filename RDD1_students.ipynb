{
  "cells": [
    {
      "cell_type": "markdown",
      "metadata": {
        "id": "view-in-github",
        "colab_type": "text"
      },
      "source": [
        "<a href=\"https://colab.research.google.com/github/lukaszlewickii/spark_labs/blob/main/RDD1_students.ipynb\" target=\"_parent\"><img src=\"https://colab.research.google.com/assets/colab-badge.svg\" alt=\"Open In Colab\"/></a>"
      ]
    },
    {
      "cell_type": "markdown",
      "metadata": {
        "id": "LaZYzZ26hYul"
      },
      "source": [
        "# SPARK RDD part 1"
      ]
    },
    {
      "cell_type": "code",
      "source": [
        "!pip install pyspark"
      ],
      "metadata": {
        "colab": {
          "base_uri": "https://localhost:8080/"
        },
        "id": "2BGdj4Rqhe74",
        "outputId": "63d344d1-1afe-4192-a4b2-50cfb74963da"
      },
      "execution_count": null,
      "outputs": [
        {
          "output_type": "stream",
          "name": "stdout",
          "text": [
            "Collecting pyspark\n",
            "  Downloading pyspark-3.5.0.tar.gz (316.9 MB)\n",
            "\u001b[2K     \u001b[90m━━━━━━━━━━━━━━━━━━━━━━━━━━━━━━━━━━━━━━━\u001b[0m \u001b[32m316.9/316.9 MB\u001b[0m \u001b[31m4.0 MB/s\u001b[0m eta \u001b[36m0:00:00\u001b[0m\n",
            "\u001b[?25h  Preparing metadata (setup.py) ... \u001b[?25l\u001b[?25hdone\n",
            "Requirement already satisfied: py4j==0.10.9.7 in /usr/local/lib/python3.10/dist-packages (from pyspark) (0.10.9.7)\n",
            "Building wheels for collected packages: pyspark\n",
            "  Building wheel for pyspark (setup.py) ... \u001b[?25l\u001b[?25hdone\n",
            "  Created wheel for pyspark: filename=pyspark-3.5.0-py2.py3-none-any.whl size=317425344 sha256=6db999d0f5e06eb83739cef95ce130bbcc67f0bcca03cec224754862ae0ba721\n",
            "  Stored in directory: /root/.cache/pip/wheels/41/4e/10/c2cf2467f71c678cfc8a6b9ac9241e5e44a01940da8fbb17fc\n",
            "Successfully built pyspark\n",
            "Installing collected packages: pyspark\n",
            "Successfully installed pyspark-3.5.0\n"
          ]
        }
      ]
    },
    {
      "cell_type": "code",
      "source": [
        "# install java\n",
        "!apt-get install openjdk-8-jdk-headless -qq > /dev/null\n",
        "\n",
        "# install spark (change the version number if needed)\n",
        "!wget -q https://archive.apache.org/dist/spark/spark-3.1.2/spark-3.1.2-bin-hadoop3.2.tgz\n",
        "\n",
        "# unzip the spark file to the current folder\n",
        "!tar xf spark-3.1.2-bin-hadoop3.2.tgz\n",
        "\n",
        "# set your spark folder to your system path environment.\n",
        "import os\n",
        "os.environ[\"JAVA_HOME\"] = \"/usr/lib/jvm/java-8-openjdk-amd64\"\n",
        "os.environ[\"SPARK_HOME\"] = \"/content/spark-3.1.2-bin-hadoop3.2\"\n",
        "\n",
        "# install findspark using pip\n",
        "!pip install -q findspark\n",
        "\n",
        "import findspark\n",
        "findspark.init()"
      ],
      "metadata": {
        "id": "Hf1lOS8zhh-X"
      },
      "execution_count": null,
      "outputs": []
    },
    {
      "cell_type": "code",
      "execution_count": null,
      "metadata": {
        "scrolled": true,
        "id": "FNhcBfIkhYuv"
      },
      "outputs": [],
      "source": [
        "import pyspark\n",
        "sc = pyspark.SparkContext(appName=\"RDDstart\")"
      ]
    },
    {
      "cell_type": "markdown",
      "metadata": {
        "id": "Ai0GFIZ2hYuy"
      },
      "source": [
        "### Tworzenie RDD"
      ]
    },
    {
      "cell_type": "markdown",
      "metadata": {
        "id": "mpT1hZqmhYuy"
      },
      "source": [
        "#### Lokalna kolekcja"
      ]
    },
    {
      "cell_type": "markdown",
      "metadata": {
        "id": "rym6Cqw1hYuz"
      },
      "source": [
        "W realnych zastosowaniach RDD tworzy się poprzez wczytanie danych z rozproszonych zasobów sieciowych takich jak na przykład HDFS, Cassandra, MongoDB, Amazon S3 i wielu innych. Mając doczynienia z dużo mniejszymi zbiorami, możemy je zaczytać w programie sterownika i przekształcić programowo w rozproszony zbiór RDD. Pomoże nam w tym funkcja parallelize."
      ]
    },
    {
      "cell_type": "code",
      "execution_count": null,
      "metadata": {
        "scrolled": true,
        "id": "HoXOp8VqhYu0"
      },
      "outputs": [],
      "source": [
        "RDDlist = sc.parallelize(list(range(10)))"
      ]
    },
    {
      "cell_type": "code",
      "execution_count": null,
      "metadata": {
        "colab": {
          "base_uri": "https://localhost:8080/"
        },
        "id": "Sz3Ejz4zhYu1",
        "outputId": "b366960d-af3a-482a-a9a3-2a9816603583"
      },
      "outputs": [
        {
          "output_type": "execute_result",
          "data": {
            "text/plain": [
              "ParallelCollectionRDD[0] at readRDDFromFile at PythonRDD.scala:274"
            ]
          },
          "metadata": {},
          "execution_count": 6
        }
      ],
      "source": [
        "RDDlist"
      ]
    },
    {
      "cell_type": "code",
      "execution_count": null,
      "metadata": {
        "scrolled": true,
        "colab": {
          "base_uri": "https://localhost:8080/"
        },
        "id": "WJG7kAP5hYu2",
        "outputId": "508a2142-25b1-46ed-c7e9-7dc96ff0ce32"
      },
      "outputs": [
        {
          "output_type": "execute_result",
          "data": {
            "text/plain": [
              "[0, 1, 2, 3, 4, 5, 6, 7, 8, 9]"
            ]
          },
          "metadata": {},
          "execution_count": 7
        }
      ],
      "source": [
        "RDDlist.collect()"
      ]
    },
    {
      "cell_type": "code",
      "execution_count": null,
      "metadata": {
        "scrolled": true,
        "colab": {
          "base_uri": "https://localhost:8080/"
        },
        "id": "bZwzbQS3hYu5",
        "outputId": "da23b2e0-c57b-457e-c5f4-c3f70618cd99"
      },
      "outputs": [
        {
          "output_type": "execute_result",
          "data": {
            "text/plain": [
              "[0, 1, 2, 3, 4]"
            ]
          },
          "metadata": {},
          "execution_count": 8
        }
      ],
      "source": [
        "RDDlist.take(5)"
      ]
    },
    {
      "cell_type": "code",
      "source": [
        "from google.colab import drive\n",
        "drive.mount('/content/drive')"
      ],
      "metadata": {
        "colab": {
          "base_uri": "https://localhost:8080/"
        },
        "id": "uReb61_0io2m",
        "outputId": "ed782353-752e-443c-e2c0-681c582c68fb"
      },
      "execution_count": null,
      "outputs": [
        {
          "output_type": "stream",
          "name": "stdout",
          "text": [
            "Mounted at /content/drive\n"
          ]
        }
      ]
    },
    {
      "cell_type": "markdown",
      "metadata": {
        "id": "CvMoy3xlhYu6"
      },
      "source": [
        "**_UWAGA: `collect` i `take` to niebezpieczne operacje - mogą doprowadzić do zapchania drivera i przerwania działania aplikacji_**"
      ]
    },
    {
      "cell_type": "markdown",
      "metadata": {
        "id": "0sm0H2qdhYu6"
      },
      "source": [
        "#### Plik"
      ]
    },
    {
      "cell_type": "code",
      "execution_count": null,
      "metadata": {
        "scrolled": true,
        "colab": {
          "base_uri": "https://localhost:8080/"
        },
        "id": "Dbu9mh3whYu7",
        "outputId": "3b00af4e-afe1-4efb-aa25-df5953fa057c"
      },
      "outputs": [
        {
          "output_type": "execute_result",
          "data": {
            "text/plain": [
              "/content/RDD.txt MapPartitionsRDD[9] at textFile at NativeMethodAccessorImpl.java:0"
            ]
          },
          "metadata": {},
          "execution_count": 15
        }
      ],
      "source": [
        "RDDfile = sc.textFile(\"/content/RDD.txt\")\n",
        "RDDfile"
      ]
    },
    {
      "cell_type": "code",
      "execution_count": null,
      "metadata": {
        "colab": {
          "base_uri": "https://localhost:8080/"
        },
        "id": "LojkD00IhYu7",
        "outputId": "3101553f-bcb1-48db-a488-b02717f8d1ab"
      },
      "outputs": [
        {
          "output_type": "execute_result",
          "data": {
            "text/plain": [
              "['0,1,2,3,4,5,6,7,8,9']"
            ]
          },
          "metadata": {},
          "execution_count": 16
        }
      ],
      "source": [
        "RDDfile.collect()"
      ]
    },
    {
      "cell_type": "code",
      "execution_count": null,
      "metadata": {
        "colab": {
          "base_uri": "https://localhost:8080/"
        },
        "id": "gyvVEo78hYu8",
        "outputId": "03cf0191-ed0a-44fa-ab43-b122eb8c7bcf"
      },
      "outputs": [
        {
          "output_type": "execute_result",
          "data": {
            "text/plain": [
              "['0,1,2,3,4,5,6,7,8,9']"
            ]
          },
          "metadata": {},
          "execution_count": 17
        }
      ],
      "source": [
        "RDDfile.take(5)"
      ]
    },
    {
      "cell_type": "markdown",
      "metadata": {
        "id": "eESvPtldhYu8"
      },
      "source": [
        "#### Inne RDD"
      ]
    },
    {
      "cell_type": "code",
      "execution_count": null,
      "metadata": {
        "id": "mJTpyX77hYu9"
      },
      "outputs": [],
      "source": [
        "RDDother = RDDfile.flatMap(lambda x: x.split(\",\"))"
      ]
    },
    {
      "cell_type": "code",
      "execution_count": null,
      "metadata": {
        "colab": {
          "base_uri": "https://localhost:8080/"
        },
        "id": "YY-cHs5WhYu9",
        "outputId": "f6834887-5c0b-46eb-ce8c-0514618706cc"
      },
      "outputs": [
        {
          "output_type": "execute_result",
          "data": {
            "text/plain": [
              "['0', '1', '2', '3', '4', '5', '6', '7', '8', '9']"
            ]
          },
          "metadata": {},
          "execution_count": 22
        }
      ],
      "source": [
        "RDDother.collect()"
      ]
    },
    {
      "cell_type": "code",
      "execution_count": null,
      "metadata": {
        "colab": {
          "base_uri": "https://localhost:8080/"
        },
        "id": "UCL1TSIqhYu9",
        "outputId": "b301d73b-1572-472d-c62b-ad98b952ec4a"
      },
      "outputs": [
        {
          "output_type": "execute_result",
          "data": {
            "text/plain": [
              "['0', '1', '2', '3', '4']"
            ]
          },
          "metadata": {},
          "execution_count": 23
        }
      ],
      "source": [
        "RDDother.take(5)"
      ]
    },
    {
      "cell_type": "markdown",
      "metadata": {
        "collapsed": true,
        "id": "xQOFL1jxhYu-"
      },
      "source": [
        "### Transformacje"
      ]
    },
    {
      "cell_type": "markdown",
      "metadata": {
        "id": "jKZBDS7ahYu-"
      },
      "source": [
        "##### map(fun)"
      ]
    },
    {
      "cell_type": "markdown",
      "metadata": {
        "id": "p6KgTrCNhYu-"
      },
      "source": [
        "Zwraca nowe RDD po zastosowaniu podanej funkcji na każdym elemencie oryginalnego RDD"
      ]
    },
    {
      "cell_type": "code",
      "execution_count": null,
      "metadata": {
        "colab": {
          "base_uri": "https://localhost:8080/"
        },
        "id": "wQdcwgFDhYu_",
        "outputId": "376671c9-f593-4efb-a12a-b128aad396fb"
      },
      "outputs": [
        {
          "output_type": "execute_result",
          "data": {
            "text/plain": [
              "[0, 1, 2, 3, 4, 5, 6, 7, 8, 9]"
            ]
          },
          "metadata": {},
          "execution_count": 24
        }
      ],
      "source": [
        "RDDmap1 = RDDother.map(lambda x: int(x))\n",
        "#Powyższe transformacje \"wykonały się\", ale nic się jeszcze nie stało. Nie dostaliśmy żadnego wyniku.\n",
        "#Dzieje się tak ponieważ transformacje są leniwe. Dzięki temu można stworzyć cały graf przetwarzania przed\n",
        "#jego uruchomieniem.\n",
        "RDDmap1.collect()"
      ]
    },
    {
      "cell_type": "code",
      "execution_count": null,
      "metadata": {
        "colab": {
          "base_uri": "https://localhost:8080/"
        },
        "id": "m5R885VHhYu_",
        "outputId": "d2572a9d-15ec-454e-d448-eaa7ce19edad"
      },
      "outputs": [
        {
          "output_type": "execute_result",
          "data": {
            "text/plain": [
              "[1, 2, 3, 4, 5, 6, 7, 8, 9, 10]"
            ]
          },
          "metadata": {},
          "execution_count": 25
        }
      ],
      "source": [
        "RDDmap1.map(lambda x: x+1).collect()"
      ]
    },
    {
      "cell_type": "code",
      "execution_count": null,
      "metadata": {
        "colab": {
          "base_uri": "https://localhost:8080/"
        },
        "id": "J0vLV262hYvA",
        "outputId": "4bca795b-b3e2-4a72-c58b-3bbb2ff4219b"
      },
      "outputs": [
        {
          "output_type": "execute_result",
          "data": {
            "text/plain": [
              "[(0, 1),\n",
              " (1, 1),\n",
              " (2, 1),\n",
              " (3, 1),\n",
              " (4, 1),\n",
              " (5, 1),\n",
              " (6, 1),\n",
              " (7, 1),\n",
              " (8, 1),\n",
              " (9, 1)]"
            ]
          },
          "metadata": {},
          "execution_count": 26
        }
      ],
      "source": [
        "RDDmap1.map(lambda x: (x,1)).collect()"
      ]
    },
    {
      "cell_type": "code",
      "execution_count": null,
      "metadata": {
        "id": "RHkhuYdQhYvA"
      },
      "outputs": [],
      "source": [
        "RDDlist2 = sc.parallelize([list(range(5)),list(range(5,10))])"
      ]
    },
    {
      "cell_type": "code",
      "execution_count": null,
      "metadata": {
        "colab": {
          "base_uri": "https://localhost:8080/"
        },
        "id": "Bsi4Xbi0hYvA",
        "outputId": "9efb2a87-6268-4e5c-f05b-b9ca7dde9b34"
      },
      "outputs": [
        {
          "output_type": "execute_result",
          "data": {
            "text/plain": [
              "[[0, 1, 2, 3, 4], [5, 6, 7, 8, 9]]"
            ]
          },
          "metadata": {},
          "execution_count": 28
        }
      ],
      "source": [
        "RDDlist2.collect()"
      ]
    },
    {
      "cell_type": "code",
      "execution_count": null,
      "metadata": {
        "scrolled": true,
        "colab": {
          "base_uri": "https://localhost:8080/"
        },
        "id": "vM7VCgiDhYvA",
        "outputId": "575dd090-e11a-432e-fea0-b456259ecbae"
      },
      "outputs": [
        {
          "output_type": "execute_result",
          "data": {
            "text/plain": [
              "[10, 35]"
            ]
          },
          "metadata": {},
          "execution_count": 29
        }
      ],
      "source": [
        "RDDlist2.map(sum).collect()"
      ]
    },
    {
      "cell_type": "code",
      "execution_count": null,
      "metadata": {
        "scrolled": true,
        "colab": {
          "base_uri": "https://localhost:8080/"
        },
        "id": "qRAfQVwnhYvB",
        "outputId": "3f4626ab-a105-4669-9696-66ef36817f8e"
      },
      "outputs": [
        {
          "output_type": "execute_result",
          "data": {
            "text/plain": [
              "[[1, 2, 3, 4, 5], [6, 7, 8, 9, 10]]"
            ]
          },
          "metadata": {},
          "execution_count": 30
        }
      ],
      "source": [
        "RDDlist2.map(lambda x: [y + 1 for y in x]).collect()"
      ]
    },
    {
      "cell_type": "markdown",
      "metadata": {
        "id": "XHg7ZaQyhYvB"
      },
      "source": [
        "> **TODO**: Oblicz sumę całkowitą RDDlist2"
      ]
    },
    {
      "cell_type": "code",
      "source": [
        "sum(RDDlist2.map(sum).collect())"
      ],
      "metadata": {
        "colab": {
          "base_uri": "https://localhost:8080/"
        },
        "id": "BVl6vOLclF4Z",
        "outputId": "59e71091-9c53-40ff-f4ae-6a798c072316"
      },
      "execution_count": null,
      "outputs": [
        {
          "output_type": "execute_result",
          "data": {
            "text/plain": [
              "45"
            ]
          },
          "metadata": {},
          "execution_count": 32
        }
      ]
    },
    {
      "cell_type": "code",
      "source": [
        "import os\n",
        "os.chdir('/content')"
      ],
      "metadata": {
        "id": "AfJ9UgEFlz7q"
      },
      "execution_count": null,
      "outputs": []
    },
    {
      "cell_type": "markdown",
      "metadata": {
        "id": "sZUUdH0fhYvB"
      },
      "source": [
        "##### flatMap(func)"
      ]
    },
    {
      "cell_type": "markdown",
      "metadata": {
        "id": "RzMHCPTnhYvC"
      },
      "source": [
        "Zwraca nowe RDD po zastosowaniu podanej funkcji na każdym elemencie oryginalnego RDD oraz spłaszczeniu rezultatu"
      ]
    },
    {
      "cell_type": "code",
      "execution_count": null,
      "metadata": {
        "scrolled": true,
        "colab": {
          "base_uri": "https://localhost:8080/"
        },
        "id": "ym9QL_E1hYvC",
        "outputId": "e9259c0d-2659-4c02-91df-cc0a7dd76f90"
      },
      "outputs": [
        {
          "output_type": "execute_result",
          "data": {
            "text/plain": [
              "[0, 1, 2, 3, 4, 5, 6, 7, 8, 9]"
            ]
          },
          "metadata": {},
          "execution_count": 35
        }
      ],
      "source": [
        "RDDlist2.flatMap(lambda x: x).collect()"
      ]
    },
    {
      "cell_type": "code",
      "execution_count": null,
      "metadata": {
        "colab": {
          "base_uri": "https://localhost:8080/"
        },
        "id": "_zjk4nv8hYvC",
        "outputId": "6b015a82-c361-430f-cb18-5f517fa54e64"
      },
      "outputs": [
        {
          "output_type": "execute_result",
          "data": {
            "text/plain": [
              "[0, 1, 2, 3, 4, 0, 1, 2, 3, 4, 5, 6, 7, 8, 9, 5, 6, 7, 8, 9]"
            ]
          },
          "metadata": {},
          "execution_count": 36
        }
      ],
      "source": [
        "RDDlist2.flatMap(lambda x: x*2).collect()"
      ]
    },
    {
      "cell_type": "code",
      "execution_count": null,
      "metadata": {
        "scrolled": true,
        "colab": {
          "base_uri": "https://localhost:8080/"
        },
        "id": "EMfxcSXfhYvD",
        "outputId": "b819722e-f3e7-417d-cb62-a89f06bc7fd5"
      },
      "outputs": [
        {
          "output_type": "execute_result",
          "data": {
            "text/plain": [
              "[0, 2, 4, 6, 8, 10, 12, 14, 16, 18]"
            ]
          },
          "metadata": {},
          "execution_count": 37
        }
      ],
      "source": [
        "RDDlist2.flatMap(lambda x: [y*2 for y in x]).collect()"
      ]
    },
    {
      "cell_type": "code",
      "execution_count": null,
      "metadata": {
        "colab": {
          "base_uri": "https://localhost:8080/"
        },
        "id": "HQ77tGk7hYvD",
        "outputId": "eaff6ba7-d221-4d24-9055-56ef98800a99"
      },
      "outputs": [
        {
          "output_type": "execute_result",
          "data": {
            "text/plain": [
              "[[[[0], [1]], [[2], [3]]], [[[4], [5]], [[6], [7]]]]"
            ]
          },
          "metadata": {},
          "execution_count": 38
        }
      ],
      "source": [
        "RDDlist3 = sc.parallelize([[[[0],[1]],[[2],[3]]],[[[4],[5]],[[6],[7]]]])\n",
        "RDDlist3.collect()"
      ]
    },
    {
      "cell_type": "code",
      "execution_count": null,
      "metadata": {
        "colab": {
          "base_uri": "https://localhost:8080/"
        },
        "id": "WwEE1Xh9hYvD",
        "outputId": "2770394c-07e8-4e90-e44c-237dd5b1eaee"
      },
      "outputs": [
        {
          "output_type": "execute_result",
          "data": {
            "text/plain": [
              "[[[0], [1]], [[2], [3]], [[4], [5]], [[6], [7]]]"
            ]
          },
          "metadata": {},
          "execution_count": 39
        }
      ],
      "source": [
        "RDDlist3.flatMap(lambda x: x).collect()"
      ]
    },
    {
      "cell_type": "code",
      "execution_count": null,
      "metadata": {
        "colab": {
          "base_uri": "https://localhost:8080/"
        },
        "id": "9iliH8UxhYvD",
        "outputId": "1f51b738-f722-445d-f9f1-7884a0130f2f"
      },
      "outputs": [
        {
          "output_type": "execute_result",
          "data": {
            "text/plain": [
              "[[0], [1], [2], [3], [4], [5], [6], [7]]"
            ]
          },
          "metadata": {},
          "execution_count": 40
        }
      ],
      "source": [
        "RDDlist3.flatMap(lambda x: x).flatMap(lambda x: x).collect()"
      ]
    },
    {
      "cell_type": "code",
      "execution_count": null,
      "metadata": {
        "colab": {
          "base_uri": "https://localhost:8080/"
        },
        "id": "gnsUs5eqhYvE",
        "outputId": "f3457313-a0b7-496c-a09a-62d20288c855"
      },
      "outputs": [
        {
          "output_type": "execute_result",
          "data": {
            "text/plain": [
              "[0, 1, 2, 3, 4, 5, 6, 7]"
            ]
          },
          "metadata": {},
          "execution_count": 41
        }
      ],
      "source": [
        "RDDlist3.flatMap(lambda x: x).flatMap(lambda x: x).flatMap(lambda x: x).collect()"
      ]
    },
    {
      "cell_type": "markdown",
      "metadata": {
        "id": "vOh09gKGhYvO"
      },
      "source": [
        "> **TODO**: Osiągnij taki sam wynik jak w komórce powyżej używając na RDDlist3: 1 x map i 2 x flatMap"
      ]
    },
    {
      "cell_type": "code",
      "source": [
        "RDDlist3.flatMap(lambda x: x).flatMap(lambda x: x).map(sum).collect()"
      ],
      "metadata": {
        "colab": {
          "base_uri": "https://localhost:8080/"
        },
        "id": "NPzOpoiTmOhR",
        "outputId": "d2a9e585-b44c-4017-8427-f64e682880d8"
      },
      "execution_count": null,
      "outputs": [
        {
          "output_type": "execute_result",
          "data": {
            "text/plain": [
              "[0, 1, 2, 3, 4, 5, 6, 7]"
            ]
          },
          "metadata": {},
          "execution_count": 44
        }
      ]
    },
    {
      "cell_type": "markdown",
      "metadata": {
        "id": "RBf8qvbjhYvP"
      },
      "source": [
        "##### mapValues(func)"
      ]
    },
    {
      "cell_type": "markdown",
      "metadata": {
        "id": "ekRA1W08hYvP"
      },
      "source": [
        "Zwraca nowe RDD po zastosowaniu podanej funkcji na każdej wartości oryginalnego RDD zawierającego pary klucz-wartość"
      ]
    },
    {
      "cell_type": "code",
      "execution_count": null,
      "metadata": {
        "colab": {
          "base_uri": "https://localhost:8080/"
        },
        "id": "X4Sllk9zhYvP",
        "outputId": "c9946e39-1720-4ba4-883c-7550307f8aaa"
      },
      "outputs": [
        {
          "output_type": "execute_result",
          "data": {
            "text/plain": [
              "[('A', ['Adam', 'Ada', 'Adrian']), ('B', ['Bonifacy', 'Barnaba'])]"
            ]
          },
          "metadata": {},
          "execution_count": 45
        }
      ],
      "source": [
        "RDDpair = sc.parallelize([(\"A\",[\"Adam\",\"Ada\",\"Adrian\"]),(\"B\",[\"Bonifacy\",\"Barnaba\"])])\n",
        "RDDpair.collect()"
      ]
    },
    {
      "cell_type": "code",
      "execution_count": null,
      "metadata": {
        "colab": {
          "base_uri": "https://localhost:8080/"
        },
        "id": "WQedK5MshYvQ",
        "outputId": "f9aed56f-9e0a-49a5-c023-4217dc8d8d53"
      },
      "outputs": [
        {
          "output_type": "execute_result",
          "data": {
            "text/plain": [
              "[('A', 3), ('B', 2)]"
            ]
          },
          "metadata": {},
          "execution_count": 46
        }
      ],
      "source": [
        "RDDpair.mapValues(lambda val: len(val)).collect()"
      ]
    },
    {
      "cell_type": "code",
      "execution_count": null,
      "metadata": {
        "colab": {
          "base_uri": "https://localhost:8080/"
        },
        "id": "gzEMlIohhYvQ",
        "outputId": "7299b4b1-3798-4fee-d418-64c7f943bf36"
      },
      "outputs": [
        {
          "output_type": "execute_result",
          "data": {
            "text/plain": [
              "[('A', 6), ('B', 4)]"
            ]
          },
          "metadata": {},
          "execution_count": 47
        }
      ],
      "source": [
        "RDDpair.mapValues(lambda val: len(val)).mapValues(lambda val: val*2).collect()"
      ]
    },
    {
      "cell_type": "code",
      "execution_count": null,
      "metadata": {
        "colab": {
          "base_uri": "https://localhost:8080/"
        },
        "id": "EnOaFmGThYvQ",
        "outputId": "33919814-3611-4d0a-fd5f-898d29981590"
      },
      "outputs": [
        {
          "output_type": "execute_result",
          "data": {
            "text/plain": [
              "[('A', 6), ('B', 4)]"
            ]
          },
          "metadata": {},
          "execution_count": 48
        }
      ],
      "source": [
        "RDDpair.mapValues(lambda val: len(val)*2).collect()"
      ]
    },
    {
      "cell_type": "markdown",
      "metadata": {
        "id": "N3i2D3EmhYvR"
      },
      "source": [
        "Te same rezultaty można osiągnąć używając `map`, jednak jest to mniej wygodne"
      ]
    },
    {
      "cell_type": "code",
      "execution_count": null,
      "metadata": {
        "colab": {
          "base_uri": "https://localhost:8080/"
        },
        "id": "6OD6-jLzhYvR",
        "outputId": "4c953cc1-98e8-4abe-a32e-cd9e91068767"
      },
      "outputs": [
        {
          "output_type": "execute_result",
          "data": {
            "text/plain": [
              "[('A', 3), ('B', 2)]"
            ]
          },
          "metadata": {},
          "execution_count": 49
        }
      ],
      "source": [
        "RDDpair.map(lambda x: (x[0],len(x[1]))).collect()"
      ]
    },
    {
      "cell_type": "code",
      "execution_count": null,
      "metadata": {
        "colab": {
          "base_uri": "https://localhost:8080/"
        },
        "id": "wudRWIPUhYvR",
        "outputId": "8a630e39-ffa8-40de-bf85-2ceba1b6f632"
      },
      "outputs": [
        {
          "output_type": "execute_result",
          "data": {
            "text/plain": [
              "[('A', 6), ('B', 4)]"
            ]
          },
          "metadata": {},
          "execution_count": 50
        }
      ],
      "source": [
        "RDDpair.map(lambda x: (x[0],len(x[1]))).map(lambda x: (x[0],x[1]*2)).collect()"
      ]
    },
    {
      "cell_type": "code",
      "execution_count": null,
      "metadata": {
        "id": "EPICKTSthYvS"
      },
      "outputs": [],
      "source": [
        "RDDpair.map(lambda x: (x[0],len(x[1]*2))).collect()"
      ]
    },
    {
      "cell_type": "markdown",
      "metadata": {
        "id": "Vh4-rxfIhYvS"
      },
      "source": [
        "> **TODO**: Zmodyfikuj wartości w RDDpair tak aby zawierały nie imiona a liczby liter w imionach, następnie zsumuj liczby liter, wykonaj zadanie w dwóch wariantach - używając tylko `mapValues` i tylko `map`"
      ]
    },
    {
      "cell_type": "code",
      "source": [
        "RDDpair.mapValues(lambda val: [len(name) for name in val]).collect()"
      ],
      "metadata": {
        "colab": {
          "base_uri": "https://localhost:8080/"
        },
        "id": "nQFTQXHqnpyg",
        "outputId": "72e6152f-8987-4146-fd1a-16902ad6ecf6"
      },
      "execution_count": null,
      "outputs": [
        {
          "output_type": "execute_result",
          "data": {
            "text/plain": [
              "[('A', [4, 3, 6]), ('B', [8, 7])]"
            ]
          },
          "metadata": {},
          "execution_count": 51
        }
      ]
    },
    {
      "cell_type": "markdown",
      "metadata": {
        "id": "Xggzgfh4hYvS"
      },
      "source": [
        "##### flatMapValues(func)"
      ]
    },
    {
      "cell_type": "markdown",
      "metadata": {
        "id": "jkgwOt7RhYvT"
      },
      "source": [
        "Zwraca nowe RDD po zastosowaniu podanej funkcji na każdej wartości oryginalnego RDD zawierającego pary klucz-wartość oraz spłaszczeniu rezultatu"
      ]
    },
    {
      "cell_type": "code",
      "execution_count": null,
      "metadata": {
        "scrolled": true,
        "colab": {
          "base_uri": "https://localhost:8080/"
        },
        "id": "8j4zvWsVhYvT",
        "outputId": "38013b38-ad33-4371-eb54-e8d7c5bcb4c0"
      },
      "outputs": [
        {
          "output_type": "execute_result",
          "data": {
            "text/plain": [
              "[('A', 'Adam'),\n",
              " ('A', 'Ada'),\n",
              " ('A', 'Adrian'),\n",
              " ('B', 'Bonifacy'),\n",
              " ('B', 'Barnaba')]"
            ]
          },
          "metadata": {},
          "execution_count": 52
        }
      ],
      "source": [
        "RDDpair.flatMapValues(lambda x: x).collect()"
      ]
    },
    {
      "cell_type": "code",
      "execution_count": null,
      "metadata": {
        "scrolled": true,
        "colab": {
          "base_uri": "https://localhost:8080/"
        },
        "id": "_NGzEhoShYvT",
        "outputId": "71c29dd1-71df-4d1d-9a53-55fd53f39f09"
      },
      "outputs": [
        {
          "output_type": "execute_result",
          "data": {
            "text/plain": [
              "[('A', 'adam'),\n",
              " ('A', 'ada'),\n",
              " ('A', 'adrian'),\n",
              " ('B', 'bonifacy'),\n",
              " ('B', 'barnaba')]"
            ]
          },
          "metadata": {},
          "execution_count": 53
        }
      ],
      "source": [
        "RDDpair.flatMapValues(lambda x: [y.lower() for y in x]).collect()"
      ]
    },
    {
      "cell_type": "markdown",
      "metadata": {
        "id": "eRg54f6KhYvU"
      },
      "source": [
        "> **TODO**: Na podstawie RDDpair stwórz RDD o następującej strukturze: (litera, (imię, l. liter))"
      ]
    },
    {
      "cell_type": "code",
      "source": [
        "RDDpair.flatMapValues(lambda x: [(name, len(name)) for name in x]).collect()"
      ],
      "metadata": {
        "colab": {
          "base_uri": "https://localhost:8080/"
        },
        "id": "6jMq_B1OozO9",
        "outputId": "9f8fa0f4-c286-456e-dfdf-ef8efc428e46"
      },
      "execution_count": null,
      "outputs": [
        {
          "output_type": "execute_result",
          "data": {
            "text/plain": [
              "[('A', ('Adam', 4)),\n",
              " ('A', ('Ada', 3)),\n",
              " ('A', ('Adrian', 6)),\n",
              " ('B', ('Bonifacy', 8)),\n",
              " ('B', ('Barnaba', 7))]"
            ]
          },
          "metadata": {},
          "execution_count": 72
        }
      ]
    },
    {
      "cell_type": "markdown",
      "metadata": {
        "id": "YzSe1uSQhYvU"
      },
      "source": [
        "##### keys(), values()"
      ]
    },
    {
      "cell_type": "markdown",
      "metadata": {
        "id": "VviVNDs8hYvV"
      },
      "source": [
        "Metody te tworzą nowe RDD odpowiednio z kluczy i wartości oryginalnego RDD (klucz, wartość)"
      ]
    },
    {
      "cell_type": "code",
      "execution_count": null,
      "metadata": {
        "colab": {
          "base_uri": "https://localhost:8080/"
        },
        "id": "zPwFmEPRhYvV",
        "outputId": "5ecf9fc0-b154-45af-8a5f-1fa1fcbc8cff"
      },
      "outputs": [
        {
          "output_type": "execute_result",
          "data": {
            "text/plain": [
              "[['Adam', 'Ada', 'Adrian'], ['Bonifacy', 'Barnaba']]"
            ]
          },
          "metadata": {},
          "execution_count": 57
        }
      ],
      "source": [
        "RDDpair.values().collect()"
      ]
    },
    {
      "cell_type": "code",
      "execution_count": null,
      "metadata": {
        "colab": {
          "base_uri": "https://localhost:8080/"
        },
        "id": "lMKclauAhYvV",
        "outputId": "295a5ebf-f6a8-412b-c5f4-ce38aca41c6b"
      },
      "outputs": [
        {
          "output_type": "execute_result",
          "data": {
            "text/plain": [
              "['A', 'B']"
            ]
          },
          "metadata": {},
          "execution_count": 58
        }
      ],
      "source": [
        "RDDpair.keys().collect()"
      ]
    },
    {
      "cell_type": "markdown",
      "metadata": {
        "id": "30oXQfIehYvV"
      },
      "source": [
        "> **TODO**: Na podstawie RDDpair stwórz RDD o następującej strukturze: (imię, l. liter)"
      ]
    },
    {
      "cell_type": "code",
      "source": [
        "RDDpair.flatMapValues(lambda x: [(name, len(name)) for name in x]).values().collect()"
      ],
      "metadata": {
        "colab": {
          "base_uri": "https://localhost:8080/"
        },
        "id": "mtGV4lfPrXi6",
        "outputId": "a80b033c-cfa1-4ab3-87a2-70493c264916"
      },
      "execution_count": null,
      "outputs": [
        {
          "output_type": "execute_result",
          "data": {
            "text/plain": [
              "[('Adam', 4), ('Ada', 3), ('Adrian', 6), ('Bonifacy', 8), ('Barnaba', 7)]"
            ]
          },
          "metadata": {},
          "execution_count": 75
        }
      ]
    },
    {
      "cell_type": "markdown",
      "metadata": {
        "collapsed": true,
        "id": "Wid5RqeghYvW"
      },
      "source": [
        "\n"
      ]
    },
    {
      "cell_type": "markdown",
      "metadata": {
        "id": "ZIGOQsgIhYvW"
      },
      "source": [
        "##### filter(func)"
      ]
    },
    {
      "cell_type": "markdown",
      "metadata": {
        "id": "_TNYdaEchYvW"
      },
      "source": [
        "Zwraca nowe RDD zawierające jedynie elementy które spełniają predykat"
      ]
    },
    {
      "cell_type": "code",
      "execution_count": null,
      "metadata": {
        "colab": {
          "base_uri": "https://localhost:8080/"
        },
        "id": "zXBfkBiPhYvX",
        "outputId": "0552097d-e945-4f6b-c9a0-dc24e5bff635"
      },
      "outputs": [
        {
          "output_type": "execute_result",
          "data": {
            "text/plain": [
              "[4, 5, 6, 7, 8, 9]"
            ]
          },
          "metadata": {},
          "execution_count": 59
        }
      ],
      "source": [
        "RDDmap1.filter(lambda x: x > 3).collect()"
      ]
    },
    {
      "cell_type": "code",
      "execution_count": null,
      "metadata": {
        "colab": {
          "base_uri": "https://localhost:8080/"
        },
        "id": "ZHUazgY4hYvX",
        "outputId": "c65e2e57-18b0-4ec0-c4f0-f4edc7255fd8"
      },
      "outputs": [
        {
          "output_type": "execute_result",
          "data": {
            "text/plain": [
              "[('A', ['Adam', 'Ada', 'Adrian'])]"
            ]
          },
          "metadata": {},
          "execution_count": 60
        }
      ],
      "source": [
        "RDDpair.filter(lambda x: x[0] == \"A\").collect()"
      ]
    },
    {
      "cell_type": "markdown",
      "metadata": {
        "id": "UNCP3yqkhYvY"
      },
      "source": [
        "Dobrą praktyką optymalizującą działanie programu jest filtrowanie RDD możliwie jak najwcześniej. Z poniższych dwóch komórek z kodem to druga jest bardziej optymalna."
      ]
    },
    {
      "cell_type": "code",
      "execution_count": null,
      "metadata": {
        "colab": {
          "base_uri": "https://localhost:8080/"
        },
        "id": "z2qTqvgIhYvZ",
        "outputId": "e3711810-5d5f-4556-8a96-fb9cfeddce25"
      },
      "outputs": [
        {
          "output_type": "execute_result",
          "data": {
            "text/plain": [
              "[('A', 'Adam'), ('A', 'Ada'), ('A', 'Adrian')]"
            ]
          },
          "metadata": {},
          "execution_count": 61
        }
      ],
      "source": [
        "RDDpair.flatMapValues(lambda x: x).filter(lambda x: x[0] != \"B\").collect()"
      ]
    },
    {
      "cell_type": "code",
      "execution_count": null,
      "metadata": {
        "colab": {
          "base_uri": "https://localhost:8080/"
        },
        "id": "bOGk-HjxhYva",
        "outputId": "6e5eec3e-8d0a-40f6-d908-4286030eb43e"
      },
      "outputs": [
        {
          "output_type": "execute_result",
          "data": {
            "text/plain": [
              "[('A', 'Adam'), ('A', 'Ada'), ('A', 'Adrian')]"
            ]
          },
          "metadata": {},
          "execution_count": 62
        }
      ],
      "source": [
        "RDDpair.filter(lambda x: x[0] != \"B\").flatMapValues(lambda x: x).collect()"
      ]
    },
    {
      "cell_type": "markdown",
      "metadata": {
        "id": "jtQKVwwohYva"
      },
      "source": [
        "> **TODO**: Odfiltruj parzyste liczby z RDDmap1"
      ]
    },
    {
      "cell_type": "code",
      "source": [
        "RDDmap1.filter(lambda x: x % 2 != 0).collect()"
      ],
      "metadata": {
        "colab": {
          "base_uri": "https://localhost:8080/"
        },
        "id": "8iYiKaKkp62Y",
        "outputId": "a831cabf-1a75-42a0-e2bb-1cf23b370d1e"
      },
      "execution_count": null,
      "outputs": [
        {
          "output_type": "execute_result",
          "data": {
            "text/plain": [
              "[1, 3, 5, 7, 9]"
            ]
          },
          "metadata": {},
          "execution_count": 63
        }
      ]
    },
    {
      "cell_type": "markdown",
      "metadata": {
        "id": "gSC7znrshYva"
      },
      "source": [
        "\n"
      ]
    },
    {
      "cell_type": "markdown",
      "metadata": {
        "id": "S8q6lcuchYvb"
      },
      "source": [
        "##### join(RDD)"
      ]
    },
    {
      "cell_type": "markdown",
      "metadata": {
        "id": "Ntq0ASd9hYvb"
      },
      "source": [
        "Zwraca RDD zawierające pary elementów z identycznymi kluczami w łączonych RDD."
      ]
    },
    {
      "cell_type": "code",
      "execution_count": null,
      "metadata": {
        "colab": {
          "base_uri": "https://localhost:8080/"
        },
        "id": "C8I9VqWOhYvb",
        "outputId": "2a447c95-e4fa-4b3e-c14f-c333ac4947bc"
      },
      "outputs": [
        {
          "output_type": "execute_result",
          "data": {
            "text/plain": [
              "[('A', (['Adam', 'Ada', 'Adrian'], 'Adam')),\n",
              " ('A', (['Adam', 'Ada', 'Adrian'], 'Ada')),\n",
              " ('A', (['Adam', 'Ada', 'Adrian'], 'Adrian')),\n",
              " ('B', (['Bonifacy', 'Barnaba'], 'Bonifacy')),\n",
              " ('B', (['Bonifacy', 'Barnaba'], 'Barnaba'))]"
            ]
          },
          "metadata": {},
          "execution_count": 64
        }
      ],
      "source": [
        "RDDpair.join(RDDpair.flatMapValues(lambda x: x)).collect()"
      ]
    },
    {
      "cell_type": "code",
      "execution_count": null,
      "metadata": {
        "colab": {
          "base_uri": "https://localhost:8080/"
        },
        "id": "HxmWwcONhYvc",
        "outputId": "307c4d0c-4789-4cc6-cfbf-505103d27619"
      },
      "outputs": [
        {
          "output_type": "execute_result",
          "data": {
            "text/plain": [
              "[('A', ['Adam', 'Ada', 'Adrian']), ('B', ['Bonifacy', 'Barnaba'])]"
            ]
          },
          "metadata": {},
          "execution_count": 65
        }
      ],
      "source": [
        "RDDpair.collect()"
      ]
    },
    {
      "cell_type": "code",
      "execution_count": null,
      "metadata": {
        "colab": {
          "base_uri": "https://localhost:8080/"
        },
        "id": "hOaVHbF5hYvc",
        "outputId": "aa9cf6f4-d11c-4437-dcc7-3d11d3e6ac61"
      },
      "outputs": [
        {
          "output_type": "execute_result",
          "data": {
            "text/plain": [
              "[('A', 'Adam'),\n",
              " ('A', 'Ada'),\n",
              " ('A', 'Adrian'),\n",
              " ('B', 'Bonifacy'),\n",
              " ('B', 'Barnaba')]"
            ]
          },
          "metadata": {},
          "execution_count": 66
        }
      ],
      "source": [
        "RDDpair.flatMapValues(lambda x: x).collect()"
      ]
    },
    {
      "cell_type": "markdown",
      "metadata": {
        "id": "p_xOfkQihYvc"
      },
      "source": [
        "\n"
      ]
    },
    {
      "cell_type": "markdown",
      "metadata": {
        "id": "Fnt-jKfyhYvc"
      },
      "source": [
        "##### union(RDD)"
      ]
    },
    {
      "cell_type": "markdown",
      "metadata": {
        "id": "rIFHl-dShYvd"
      },
      "source": [
        "Zwraca RDD wynikłe z połączenia dwóch RDD"
      ]
    },
    {
      "cell_type": "code",
      "execution_count": null,
      "metadata": {
        "colab": {
          "base_uri": "https://localhost:8080/"
        },
        "id": "tipozGbZhYvd",
        "outputId": "d1a722fd-2285-4534-98a4-60bef2a75ab9"
      },
      "outputs": [
        {
          "output_type": "execute_result",
          "data": {
            "text/plain": [
              "[0, 1, 2, 3, 4, 5, 6, 7, 8, 9, 0, 1, 2, 3, 4, 5, 6, 7, 8, 9]"
            ]
          },
          "metadata": {},
          "execution_count": 67
        }
      ],
      "source": [
        "RDDmap1.union(RDDlist).collect()"
      ]
    },
    {
      "cell_type": "markdown",
      "metadata": {
        "id": "F_mcN-KyhYvd"
      },
      "source": [
        "> **TODO**: Połącz dwa RDD powstałe na podstawie RDDpair o strukturze: (imię, l. liter) oraz (litera, imię), w wynikowym RDD mają znaleźć się jedynie obiekty których klucz zaczyna się na \"B\""
      ]
    },
    {
      "cell_type": "code",
      "source": [
        "rdd1 = RDDpair.flatMapValues(lambda x: ((name, len(name)) for name in x)).collect()\n",
        "rdd2 = RDDpair.flatMapValues(lambda x: x).collect()\n",
        "\n",
        "rdd1.union(rdd2).filter(lambda x: x[0] != \"B\").collect()"
      ],
      "metadata": {
        "colab": {
          "base_uri": "https://localhost:8080/",
          "height": 245
        },
        "id": "jJM6V3Q9qvGl",
        "outputId": "97c1224e-cfa7-4507-b1e8-aadc2e8be528"
      },
      "execution_count": null,
      "outputs": [
        {
          "output_type": "error",
          "ename": "AttributeError",
          "evalue": "ignored",
          "traceback": [
            "\u001b[0;31m---------------------------------------------------------------------------\u001b[0m",
            "\u001b[0;31mAttributeError\u001b[0m                            Traceback (most recent call last)",
            "\u001b[0;32m<ipython-input-77-1b3a3c38581d>\u001b[0m in \u001b[0;36m<cell line: 4>\u001b[0;34m()\u001b[0m\n\u001b[1;32m      2\u001b[0m \u001b[0mrdd2\u001b[0m \u001b[0;34m=\u001b[0m \u001b[0mRDDpair\u001b[0m\u001b[0;34m.\u001b[0m\u001b[0mflatMapValues\u001b[0m\u001b[0;34m(\u001b[0m\u001b[0;32mlambda\u001b[0m \u001b[0mx\u001b[0m\u001b[0;34m:\u001b[0m \u001b[0mx\u001b[0m\u001b[0;34m)\u001b[0m\u001b[0;34m.\u001b[0m\u001b[0mcollect\u001b[0m\u001b[0;34m(\u001b[0m\u001b[0;34m)\u001b[0m\u001b[0;34m\u001b[0m\u001b[0;34m\u001b[0m\u001b[0m\n\u001b[1;32m      3\u001b[0m \u001b[0;34m\u001b[0m\u001b[0m\n\u001b[0;32m----> 4\u001b[0;31m \u001b[0mrdd1\u001b[0m\u001b[0;34m.\u001b[0m\u001b[0munion\u001b[0m\u001b[0;34m(\u001b[0m\u001b[0mrdd2\u001b[0m\u001b[0;34m)\u001b[0m\u001b[0;34m.\u001b[0m\u001b[0mfilter\u001b[0m\u001b[0;34m(\u001b[0m\u001b[0;32mlambda\u001b[0m \u001b[0mx\u001b[0m\u001b[0;34m:\u001b[0m \u001b[0mx\u001b[0m\u001b[0;34m[\u001b[0m\u001b[0;36m0\u001b[0m\u001b[0;34m]\u001b[0m \u001b[0;34m!=\u001b[0m \u001b[0;34m\"B\"\u001b[0m\u001b[0;34m)\u001b[0m\u001b[0;34m.\u001b[0m\u001b[0mcollect\u001b[0m\u001b[0;34m(\u001b[0m\u001b[0;34m)\u001b[0m\u001b[0;34m\u001b[0m\u001b[0;34m\u001b[0m\u001b[0m\n\u001b[0m\u001b[1;32m      5\u001b[0m \u001b[0mprint\u001b[0m\u001b[0;34m(\u001b[0m\u001b[0mrdd1\u001b[0m\u001b[0;34m)\u001b[0m\u001b[0;34m\u001b[0m\u001b[0;34m\u001b[0m\u001b[0m\n\u001b[1;32m      6\u001b[0m \u001b[0mprint\u001b[0m\u001b[0;34m(\u001b[0m\u001b[0mrdd2\u001b[0m\u001b[0;34m)\u001b[0m\u001b[0;34m\u001b[0m\u001b[0;34m\u001b[0m\u001b[0m\n",
            "\u001b[0;31mAttributeError\u001b[0m: 'list' object has no attribute 'union'"
          ]
        }
      ]
    },
    {
      "cell_type": "markdown",
      "metadata": {
        "id": "CjJXjXUhhYve"
      },
      "source": [
        "\n"
      ]
    },
    {
      "cell_type": "markdown",
      "metadata": {
        "id": "pggqic6ChYve"
      },
      "source": [
        "##### distinct()"
      ]
    },
    {
      "cell_type": "markdown",
      "metadata": {
        "id": "f8a6F8wHhYve"
      },
      "source": [
        "Zwraca RDD zawierające jedynie unikalne wartości z oryginalnego RDD"
      ]
    },
    {
      "cell_type": "code",
      "execution_count": null,
      "metadata": {
        "id": "PimyprdwhYve"
      },
      "outputs": [],
      "source": [
        "RDDmap1.union(RDDlist).collect()"
      ]
    },
    {
      "cell_type": "code",
      "execution_count": null,
      "metadata": {
        "id": "EonZ187ghYvf"
      },
      "outputs": [],
      "source": [
        "RDDmap1.union(RDDlist).distinct().collect()"
      ]
    },
    {
      "cell_type": "markdown",
      "metadata": {
        "collapsed": true,
        "id": "NJwe4M0PhYvf"
      },
      "source": [
        "\n"
      ]
    },
    {
      "cell_type": "markdown",
      "metadata": {
        "id": "u6ppIAxohYvk"
      },
      "source": [
        "##### groupBy(func)"
      ]
    },
    {
      "cell_type": "markdown",
      "metadata": {
        "id": "nJ18S7KRhYvl"
      },
      "source": [
        "Zwraca RDD z pogrupowanymi elementami"
      ]
    },
    {
      "cell_type": "code",
      "execution_count": null,
      "metadata": {
        "id": "_p8mQ0zOhYvl"
      },
      "outputs": [],
      "source": [
        "RDDlist.groupBy(lambda x: x % 2).collect()"
      ]
    },
    {
      "cell_type": "code",
      "execution_count": null,
      "metadata": {
        "id": "f27oT88-hYvl"
      },
      "outputs": [],
      "source": [
        "RDDlist.groupBy(lambda x: x % 2).map(lambda x: (x[0], list(x[1]))).collect()"
      ]
    },
    {
      "cell_type": "code",
      "execution_count": null,
      "metadata": {
        "id": "UBOJfPGnhYvl"
      },
      "outputs": [],
      "source": [
        "RDDlist.groupBy(lambda x: x % 2).map(lambda x: (x[0], [y*3 for y in x[1]])).collect()"
      ]
    },
    {
      "cell_type": "code",
      "execution_count": null,
      "metadata": {
        "id": "wdIXJv9RhYvm"
      },
      "outputs": [],
      "source": [
        "RDDpair2 = sc.parallelize([('Adam', 4), ('Ada', 3), ('Adrian', 6), ('Bonifacy', 8), ('Barnaba', 7)])"
      ]
    },
    {
      "cell_type": "code",
      "execution_count": null,
      "metadata": {
        "id": "hE05XI10hYvm"
      },
      "outputs": [],
      "source": [
        "RDDpair2.groupBy(lambda x: \"l.l.>4\" if x[1] > 4 else \"l.l.<=4\").map(lambda x: (x[0], list(x[1]))).collect()"
      ]
    },
    {
      "cell_type": "markdown",
      "metadata": {
        "id": "Nc2VQOo1hYvm"
      },
      "source": [
        "> **TODO**: Pogrupuj RDDpair2 ze względu na pierwszą literę imienia"
      ]
    },
    {
      "cell_type": "markdown",
      "metadata": {
        "id": "wP6S-t7hhYvn"
      },
      "source": [
        "\n"
      ]
    },
    {
      "cell_type": "markdown",
      "metadata": {
        "id": "NjjKrYPphYvn"
      },
      "source": [
        "##### groupByKey()"
      ]
    },
    {
      "cell_type": "markdown",
      "metadata": {
        "id": "8g0eNFkPhYvn"
      },
      "source": [
        "Zwraca RDD z wartościami pogrupowanymi w pojedynczą sekwencję dla każdego klucza. (_Jeśli grupowanie wykonywane jest w celu przeprowadzenia agregacji dla każdego klucza, optymalniejsze będzie wykorzystanie `reduceByKey` lub `aggregateByKey`._)"
      ]
    },
    {
      "cell_type": "code",
      "execution_count": null,
      "metadata": {
        "id": "ZLytgOJqhYvn"
      },
      "outputs": [],
      "source": [
        "RDDpair3 = sc.parallelize([('A', 'Adam'),('A', 'Ada'),('A', 'Adrian'),('B', 'Bonifacy'),('B', 'Barnaba')])"
      ]
    },
    {
      "cell_type": "code",
      "execution_count": null,
      "metadata": {
        "id": "NsKdb8fChYvo"
      },
      "outputs": [],
      "source": [
        "RDDpair3.groupByKey().collect()"
      ]
    },
    {
      "cell_type": "code",
      "execution_count": null,
      "metadata": {
        "id": "pZiTsntshYvo"
      },
      "outputs": [],
      "source": [
        "RDDpair3.groupByKey().mapValues(list).collect()"
      ]
    },
    {
      "cell_type": "markdown",
      "metadata": {
        "id": "fsHcT_4uhYvp"
      },
      "source": [
        "> **TODO**: Na podstawie RDDpair stwórz RDD o następującej strukturze: (litera, (imię, l. liter)), następnie pogrupuj je po literze (zamień nowe wartości na listę tak aby były czytelne po użyciu `collect`)"
      ]
    },
    {
      "cell_type": "markdown",
      "metadata": {
        "id": "nG58fRRBhYvq"
      },
      "source": [
        "\n"
      ]
    },
    {
      "cell_type": "markdown",
      "metadata": {
        "id": "xyGC08YChYvq"
      },
      "source": [
        "##### reduceByKey(func)"
      ]
    },
    {
      "cell_type": "markdown",
      "metadata": {
        "id": "9l2SN_LwhYvq"
      },
      "source": [
        "Zwraca RDD z połączonymi wartościami dla każdego klucza. Funkcja redukująca musi być asocjacyjna _[(a x b) x c = a x (b x c)]_ i przemienna _[a x b = b x a]_."
      ]
    },
    {
      "cell_type": "code",
      "execution_count": null,
      "metadata": {
        "id": "xe84Fo_FhYvr"
      },
      "outputs": [],
      "source": [
        "RDDpair4 = RDDpair3.mapValues(len)\n",
        "RDDpair4.collect()"
      ]
    },
    {
      "cell_type": "code",
      "execution_count": null,
      "metadata": {
        "id": "-0rPnDXYhYvr"
      },
      "outputs": [],
      "source": [
        "RDDpair4.reduceByKey(lambda x,y: x+y).collect()"
      ]
    },
    {
      "cell_type": "markdown",
      "metadata": {
        "id": "WR9YBD2DhYvr"
      },
      "source": [
        "> **TODO**: Uzyskaj iloczyn dla każdego klucza w RDDpair4"
      ]
    },
    {
      "cell_type": "markdown",
      "metadata": {
        "id": "i870QRauhYvs"
      },
      "source": [
        "\n"
      ]
    },
    {
      "cell_type": "markdown",
      "metadata": {
        "id": "1R3fvnnlhYvs"
      },
      "source": [
        "##### aggregateByKey(zeroValue, seqFunc, combFunc)"
      ]
    },
    {
      "cell_type": "markdown",
      "metadata": {
        "id": "YgslZ-U8hYvs"
      },
      "source": [
        "Rozbudowana wersja `reduceByKey` pozwalająca na zwrócenie wartości o innym typie niż oryginalne. Konieczne jest podanie trzech parametrów:\n",
        "- zeroValue - domyślna wartość neutralna dla agregacji (dodawanie: 0, mnożenie: 1, tworzenie zbioru unikatowych wartości: pusty zbiór, itd.),\n",
        "- seqFunc - funkcja agregująca wartości w oryginalnym RDD, przyjmuje dwa parametry, gdzie drugi jest włączany (dodawany itp.) do pierwszego\n",
        "- combFunc - funkcja łącząca wartości uzyskane z pierwszej funkcji dla kluczy"
      ]
    },
    {
      "cell_type": "code",
      "execution_count": null,
      "metadata": {
        "id": "HwDxfsT7hYvs"
      },
      "outputs": [],
      "source": [
        "RDDpair3.collect()"
      ]
    },
    {
      "cell_type": "code",
      "execution_count": null,
      "metadata": {
        "id": "UV4WZIO6hYvt"
      },
      "outputs": [],
      "source": [
        "RDDpair3.aggregateByKey(0, (lambda acc,x: acc+len(x)), (lambda acc1,acc2: acc1+acc2)).collect()"
      ]
    },
    {
      "cell_type": "code",
      "execution_count": null,
      "metadata": {
        "id": "zycPUkq3hYvt"
      },
      "outputs": [],
      "source": [
        "RDDpair3.glom().collect()"
      ]
    },
    {
      "cell_type": "markdown",
      "metadata": {
        "id": "vhNW4AafhYvt"
      },
      "source": [
        "Co się wydarzyło powyżej?"
      ]
    },
    {
      "cell_type": "markdown",
      "metadata": {
        "id": "Vjkp-POThYvt"
      },
      "source": [
        "|RDDpair3 | seqFunc | seqFunc out. | combFunc | combFunc out. |\n",
        "|:--------|:--------|:-------------|:---------|:------------- |\n",
        "|('A', 'Adam') => | ('A', 0 + len('Adam')) => | ('A', 4) |  |  |\n",
        "|('A', 'Ada') => | ('A', 0 + len('Ada')) => | ('A', 3) |  |  |\n",
        "|('A', 'Adrian') => | ('A', 0 + len('Adrian')) => | ('A', 6) => | ('A', 4 + 3 + 6) => | ('A', 13) |\n",
        "|('B', 'Bonifacy') => | ('B', 0 + len('Bonifacy')) => | ('B', 8) => | ('B', 8 + 7) => | ('B', 15) |\n",
        "|('B', 'Barnaba') => | ('B', 0 + len('Barnaba')) => | ('B', 7) |  |  |"
      ]
    },
    {
      "cell_type": "code",
      "execution_count": null,
      "metadata": {
        "id": "e-KA01zBhYvu"
      },
      "outputs": [],
      "source": [
        "RDDpair3.aggregateByKey((0.,0.), (lambda acc,x: (acc[0]+len(x),acc[1]+1)), \\\n",
        "                        (lambda acc1,acc2: (acc1[0]+acc2[0],acc1[1]+acc2[1]))).collect()"
      ]
    },
    {
      "cell_type": "code",
      "execution_count": null,
      "metadata": {
        "id": "1ldNeyuRhYvu"
      },
      "outputs": [],
      "source": [
        "RDDpair3.aggregateByKey((0.,0.), (lambda acc,x: (acc[0]+len(x),acc[1]+1)), \\\n",
        "                        (lambda acc1,acc2: (acc1[0]+acc2[0],acc1[1]+acc2[1]))).mapValues(lambda x: x[0]/x[1]).collect()"
      ]
    },
    {
      "cell_type": "markdown",
      "metadata": {
        "id": "cjVqzAyihYvu"
      },
      "source": [
        "> **TODO**: Z RDDpair3 uzyskaj RDD (klucz, iloczyn długości imion)"
      ]
    },
    {
      "cell_type": "markdown",
      "metadata": {
        "id": "-Y339suEhYvu"
      },
      "source": [
        "\n"
      ]
    },
    {
      "cell_type": "markdown",
      "metadata": {
        "id": "3e0S2JPHhYvv"
      },
      "source": [
        "### Akcje"
      ]
    },
    {
      "cell_type": "markdown",
      "metadata": {
        "id": "xzvaCCGPhYvv"
      },
      "source": [
        "##### collect()"
      ]
    },
    {
      "cell_type": "markdown",
      "metadata": {
        "id": "Nl-zA03fhYvv"
      },
      "source": [
        "Zwraca elementy zbioru na driver."
      ]
    },
    {
      "cell_type": "code",
      "execution_count": null,
      "metadata": {
        "scrolled": true,
        "id": "SCwfA20EhYvv"
      },
      "outputs": [],
      "source": [
        "RDDlist.collect()"
      ]
    },
    {
      "cell_type": "markdown",
      "metadata": {
        "id": "ULmZLNA0hYvw"
      },
      "source": [
        "\n"
      ]
    },
    {
      "cell_type": "markdown",
      "metadata": {
        "id": "BkJdNDU6hYvw"
      },
      "source": [
        "##### collectAsMap()"
      ]
    },
    {
      "cell_type": "markdown",
      "metadata": {
        "id": "48Z5-UixhYvw"
      },
      "source": [
        "Zwraca RDD (K, V) jako słownik."
      ]
    },
    {
      "cell_type": "code",
      "execution_count": null,
      "metadata": {
        "id": "LJiZWJWphYvx"
      },
      "outputs": [],
      "source": [
        "RDDpair2.collectAsMap()"
      ]
    },
    {
      "cell_type": "markdown",
      "metadata": {
        "id": "DlforgfMhYvx"
      },
      "source": [
        "\n"
      ]
    },
    {
      "cell_type": "markdown",
      "metadata": {
        "id": "w5UalJwxhYvx"
      },
      "source": [
        "##### take(n)"
      ]
    },
    {
      "cell_type": "markdown",
      "metadata": {
        "id": "_UmB36_KhYvx"
      },
      "source": [
        "Zwraca `n` pierwszych elementów zbioru na driver."
      ]
    },
    {
      "cell_type": "code",
      "execution_count": null,
      "metadata": {
        "id": "DDBz_JRNhYvy"
      },
      "outputs": [],
      "source": [
        "RDDlist.take(2)"
      ]
    },
    {
      "cell_type": "markdown",
      "metadata": {
        "id": "drXxz2CRhYvy"
      },
      "source": [
        "\n"
      ]
    },
    {
      "cell_type": "markdown",
      "metadata": {
        "id": "lWjOjGSdhYvy"
      },
      "source": [
        "##### takeSample(withReplacement, num)"
      ]
    },
    {
      "cell_type": "markdown",
      "metadata": {
        "id": "vz5uWTychYvy"
      },
      "source": [
        "Zwraca losową próbę `num` elementów ze zwracaniem lub bez."
      ]
    },
    {
      "cell_type": "code",
      "execution_count": null,
      "metadata": {
        "id": "tqW39W3QhYvz"
      },
      "outputs": [],
      "source": [
        "RDDlist.takeSample(True,12)"
      ]
    },
    {
      "cell_type": "code",
      "execution_count": null,
      "metadata": {
        "id": "15tp0aivhYvz"
      },
      "outputs": [],
      "source": [
        "RDDlist.takeSample(False, 5)"
      ]
    },
    {
      "cell_type": "markdown",
      "metadata": {
        "id": "mDQ-fH0vhYvz"
      },
      "source": [
        "\n"
      ]
    },
    {
      "cell_type": "markdown",
      "metadata": {
        "id": "pFyFEuYZhYv0"
      },
      "source": [
        "##### takeOrdered(n, [key])"
      ]
    },
    {
      "cell_type": "markdown",
      "metadata": {
        "id": "v3hTcKMGhYv0"
      },
      "source": [
        "Zwraca `n` pierwszych elementów zbioru stosując naturalny porządek lub inny wskazany."
      ]
    },
    {
      "cell_type": "code",
      "execution_count": null,
      "metadata": {
        "id": "1mCXwqochYv0"
      },
      "outputs": [],
      "source": [
        "RDDlist.takeOrdered(5)"
      ]
    },
    {
      "cell_type": "code",
      "execution_count": null,
      "metadata": {
        "id": "lVZanw3GhYv0"
      },
      "outputs": [],
      "source": [
        "RDDlist.takeOrdered(5, (lambda x: -x))"
      ]
    },
    {
      "cell_type": "markdown",
      "metadata": {
        "id": "Txt5i0kahYv1"
      },
      "source": [
        "\n"
      ]
    },
    {
      "cell_type": "markdown",
      "metadata": {
        "id": "pFjtHyl5hYv1"
      },
      "source": [
        "##### first()"
      ]
    },
    {
      "cell_type": "markdown",
      "metadata": {
        "id": "gdZbvJvMhYv1"
      },
      "source": [
        "Zwraca pierwszy element zbioru. Podobne do `take(1)`."
      ]
    },
    {
      "cell_type": "code",
      "execution_count": null,
      "metadata": {
        "id": "hp0sOhMxhYv1"
      },
      "outputs": [],
      "source": [
        "RDDlist.first()"
      ]
    },
    {
      "cell_type": "markdown",
      "metadata": {
        "id": "IVEIaYT3hYv2"
      },
      "source": [
        "\n"
      ]
    },
    {
      "cell_type": "markdown",
      "metadata": {
        "id": "MxFM0QemhYv2"
      },
      "source": [
        "##### count()"
      ]
    },
    {
      "cell_type": "markdown",
      "metadata": {
        "id": "QoXqu6NehYv2"
      },
      "source": [
        "Zwraca liczbę elementów w zbiorze."
      ]
    },
    {
      "cell_type": "code",
      "execution_count": null,
      "metadata": {
        "id": "oIXRVYmLhYv2"
      },
      "outputs": [],
      "source": [
        "RDDlist.count()"
      ]
    },
    {
      "cell_type": "markdown",
      "metadata": {
        "id": "3ztG9VM4hYv3"
      },
      "source": [
        "\n"
      ]
    },
    {
      "cell_type": "markdown",
      "metadata": {
        "id": "0zTvRjHQhYv3"
      },
      "source": [
        "##### sum()"
      ]
    },
    {
      "cell_type": "markdown",
      "metadata": {
        "id": "RD51gbELhYv3"
      },
      "source": [
        "Zwraca sumę elementów w RDD"
      ]
    },
    {
      "cell_type": "code",
      "execution_count": null,
      "metadata": {
        "id": "OFZWvEBUhYv3"
      },
      "outputs": [],
      "source": [
        "RDDlist.sum()"
      ]
    },
    {
      "cell_type": "markdown",
      "metadata": {
        "id": "c49tbS_whYv4"
      },
      "source": [
        "\n"
      ]
    },
    {
      "cell_type": "markdown",
      "metadata": {
        "id": "ZNAxzQEkhYv4"
      },
      "source": [
        "##### countByKey()"
      ]
    },
    {
      "cell_type": "markdown",
      "metadata": {
        "id": "6dC5r1o0hYv4"
      },
      "source": [
        "Dla RDD (K, V) zwraca słownik (hashmap) typu (K, Int) z liczbą wystąpień kluczy."
      ]
    },
    {
      "cell_type": "code",
      "execution_count": null,
      "metadata": {
        "id": "I9YCQAE_hYv5"
      },
      "outputs": [],
      "source": [
        "RDDpair4.countByKey()"
      ]
    },
    {
      "cell_type": "code",
      "execution_count": null,
      "metadata": {
        "id": "GQhZdggfhYv5"
      },
      "outputs": [],
      "source": [
        "RDDpair4.countByKey()[\"A\"]"
      ]
    },
    {
      "cell_type": "markdown",
      "metadata": {
        "id": "tN3goM4ghYv5"
      },
      "source": [
        "\n"
      ]
    },
    {
      "cell_type": "markdown",
      "metadata": {
        "id": "9XLR9VuDhYv5"
      },
      "source": [
        "##### saveAsTextFile(path)"
      ]
    },
    {
      "cell_type": "markdown",
      "metadata": {
        "id": "NQM9-o7ChYv6"
      },
      "source": [
        "Zapisuje elementy zbioru do pliku (plików) tekstowych w podanym katalogu. Spark wywoła metodę `toString` na każdym elemencie RDD aby przekształcić je na linijkę teksu w pliku."
      ]
    },
    {
      "cell_type": "code",
      "execution_count": null,
      "metadata": {
        "id": "dAUYq1euhYv6"
      },
      "outputs": [],
      "source": [
        "RDDlist.saveAsTextFile(\"...\")"
      ]
    },
    {
      "cell_type": "markdown",
      "metadata": {
        "id": "HQqpsFzwhYv7"
      },
      "source": [
        "\n"
      ]
    },
    {
      "cell_type": "markdown",
      "metadata": {
        "id": "uatkxMZFhYv8"
      },
      "source": [
        "##### reduce(func)"
      ]
    },
    {
      "cell_type": "markdown",
      "metadata": {
        "id": "kAtD_ASOhYv8"
      },
      "source": [
        "Agreguje elementy zbioru wykorzystując podaną funkcję. Funkcja redukująca musi być asocjacyjna [(a x b) x c = a x (b x c)] i przemienna [a x b = b x a]."
      ]
    },
    {
      "cell_type": "code",
      "execution_count": null,
      "metadata": {
        "id": "KGr3srz8hYv8"
      },
      "outputs": [],
      "source": [
        "RDDlist.reduce(lambda x,y: x+y)"
      ]
    },
    {
      "cell_type": "code",
      "execution_count": null,
      "metadata": {
        "id": "okBqrywehYv9"
      },
      "outputs": [],
      "source": [
        "RDDlist2.reduce(lambda x,y: x+y)"
      ]
    },
    {
      "cell_type": "markdown",
      "metadata": {
        "id": "Bof9HzwohYv9"
      },
      "source": [
        "\n"
      ]
    },
    {
      "cell_type": "markdown",
      "metadata": {
        "id": "goUsMtVKhYv9"
      },
      "source": [
        "##### aggregate(zeroValue, seqOp, combOp)"
      ]
    },
    {
      "cell_type": "markdown",
      "metadata": {
        "id": "FpNIgcJfhYv-"
      },
      "source": [
        "Działa podobnie do `aggregateByKey`"
      ]
    },
    {
      "cell_type": "code",
      "execution_count": null,
      "metadata": {
        "id": "2CtG-909hYv-"
      },
      "outputs": [],
      "source": [
        "RDDother.aggregate(0, (lambda acc,x: acc + int(x)), (lambda acc1,acc2: acc1 + acc2))"
      ]
    },
    {
      "cell_type": "markdown",
      "metadata": {
        "id": "88-148vohYv_"
      },
      "source": [
        "> **TODO**: Po odfiltrowaniu \"0\" oblicz iloczyn wartości RDDother"
      ]
    },
    {
      "cell_type": "markdown",
      "metadata": {
        "id": "tFqj664-hYv_"
      },
      "source": [
        "\n"
      ]
    },
    {
      "cell_type": "markdown",
      "metadata": {
        "id": "qXL85vKKhYv_"
      },
      "source": [
        "##### fold(zeroValue, op)"
      ]
    },
    {
      "cell_type": "markdown",
      "metadata": {
        "id": "Rd6CGyyHhYv_"
      },
      "source": [
        "Zwraca zagregowane przy pomocy funkcji `op` wartości RDD. Funkcja `op` przyjmuje 2 wartości i musi być asocjacyjna _[(a x b) x c = a x (b x c)]_."
      ]
    },
    {
      "cell_type": "code",
      "execution_count": null,
      "metadata": {
        "id": "lMwwh2EfhYwA"
      },
      "outputs": [],
      "source": [
        "RDDlist.fold(0, (lambda acc,x: acc + x))"
      ]
    },
    {
      "cell_type": "markdown",
      "metadata": {
        "id": "1VeWfBMmhYwA"
      },
      "source": [
        "> **TODO**: Po odfiltrowaniu 0 i liczb nieparzystych oblicz iloczyn wartości RDDlist"
      ]
    },
    {
      "cell_type": "markdown",
      "metadata": {
        "id": "iUOZlu1KhYwA"
      },
      "source": [
        "##### max(), mean(), min(), stdev(), variance(), stats()"
      ]
    },
    {
      "cell_type": "code",
      "execution_count": null,
      "metadata": {
        "id": "I0d4SKYuhYwB"
      },
      "outputs": [],
      "source": [
        "RDDlist.max()"
      ]
    },
    {
      "cell_type": "code",
      "execution_count": null,
      "metadata": {
        "id": "XXkmfDi6hYwB"
      },
      "outputs": [],
      "source": [
        "RDDlist.mean()"
      ]
    },
    {
      "cell_type": "code",
      "execution_count": null,
      "metadata": {
        "id": "Yzey_WPehYwB"
      },
      "outputs": [],
      "source": [
        "RDDlist.min()"
      ]
    },
    {
      "cell_type": "code",
      "execution_count": null,
      "metadata": {
        "id": "xJ5uQKuhhYwB"
      },
      "outputs": [],
      "source": [
        "RDDlist.stdev()"
      ]
    },
    {
      "cell_type": "code",
      "execution_count": null,
      "metadata": {
        "id": "JKi23iUShYwC"
      },
      "outputs": [],
      "source": [
        "RDDlist.variance()"
      ]
    },
    {
      "cell_type": "code",
      "execution_count": null,
      "metadata": {
        "id": "RmIQuIFmhYwC"
      },
      "outputs": [],
      "source": [
        "RDDlist.stats()"
      ]
    },
    {
      "cell_type": "markdown",
      "metadata": {
        "id": "noXe64bShYwC"
      },
      "source": [
        "\n"
      ]
    },
    {
      "cell_type": "markdown",
      "metadata": {
        "id": "WcW3smQihYwC"
      },
      "source": [
        "##### reduceByKeyLocally(func)"
      ]
    },
    {
      "cell_type": "markdown",
      "metadata": {
        "id": "1LH5KikHhYwD"
      },
      "source": [
        "Działa analogicznie do `reduceByKey` z tym, że zwraca wynik do drivera."
      ]
    },
    {
      "cell_type": "code",
      "execution_count": null,
      "metadata": {
        "id": "lMbUXbachYwD"
      },
      "outputs": [],
      "source": [
        "RDDpair4.reduceByKeyLocally(lambda x,y: x+y)"
      ]
    },
    {
      "cell_type": "markdown",
      "metadata": {
        "id": "w6YEu05ehYwD"
      },
      "source": [
        "\n"
      ]
    },
    {
      "cell_type": "markdown",
      "metadata": {
        "id": "GzBLFVpUhYwD"
      },
      "source": [
        "\n"
      ]
    }
  ],
  "metadata": {
    "kernelspec": {
      "display_name": "Python 3 (ipykernel)",
      "language": "python",
      "name": "python3"
    },
    "language_info": {
      "codemirror_mode": {
        "name": "ipython",
        "version": 3
      },
      "file_extension": ".py",
      "mimetype": "text/x-python",
      "name": "python",
      "nbconvert_exporter": "python",
      "pygments_lexer": "ipython3",
      "version": "3.8.12"
    },
    "colab": {
      "provenance": [],
      "include_colab_link": true
    }
  },
  "nbformat": 4,
  "nbformat_minor": 0
}