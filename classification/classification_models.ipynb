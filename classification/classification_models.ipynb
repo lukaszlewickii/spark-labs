{
  "nbformat": 4,
  "nbformat_minor": 0,
  "metadata": {
    "colab": {
      "provenance": [],
      "authorship_tag": "ABX9TyOYRW9uFNxXKwicJMA9x14x",
      "include_colab_link": true
    },
    "kernelspec": {
      "name": "python3",
      "display_name": "Python 3"
    },
    "language_info": {
      "name": "python"
    }
  },
  "cells": [
    {
      "cell_type": "markdown",
      "metadata": {
        "id": "view-in-github",
        "colab_type": "text"
      },
      "source": [
        "<a href=\"https://colab.research.google.com/github/lukaszlewickii/spark-labs/blob/main/classification/classification_models.ipynb\" target=\"_parent\"><img src=\"https://colab.research.google.com/assets/colab-badge.svg\" alt=\"Open In Colab\"/></a>"
      ]
    },
    {
      "cell_type": "code",
      "execution_count": 1,
      "metadata": {
        "colab": {
          "base_uri": "https://localhost:8080/"
        },
        "id": "ipf6-q3HH7mS",
        "outputId": "1b47306a-c489-495a-8e31-87e0f68b70f5"
      },
      "outputs": [
        {
          "output_type": "stream",
          "name": "stdout",
          "text": [
            "Collecting pyspark\n",
            "  Downloading pyspark-3.5.0.tar.gz (316.9 MB)\n",
            "\u001b[2K     \u001b[90m━━━━━━━━━━━━━━━━━━━━━━━━━━━━━━━━━━━━━━━━\u001b[0m \u001b[32m316.9/316.9 MB\u001b[0m \u001b[31m4.6 MB/s\u001b[0m eta \u001b[36m0:00:00\u001b[0m\n",
            "\u001b[?25h  Preparing metadata (setup.py) ... \u001b[?25l\u001b[?25hdone\n",
            "Requirement already satisfied: py4j==0.10.9.7 in /usr/local/lib/python3.10/dist-packages (from pyspark) (0.10.9.7)\n",
            "Building wheels for collected packages: pyspark\n",
            "  Building wheel for pyspark (setup.py) ... \u001b[?25l\u001b[?25hdone\n",
            "  Created wheel for pyspark: filename=pyspark-3.5.0-py2.py3-none-any.whl size=317425345 sha256=49c7af8cd78174e08c554943a3c3c745302f3270714edf807ad17009a10942b0\n",
            "  Stored in directory: /root/.cache/pip/wheels/41/4e/10/c2cf2467f71c678cfc8a6b9ac9241e5e44a01940da8fbb17fc\n",
            "Successfully built pyspark\n",
            "Installing collected packages: pyspark\n",
            "Successfully installed pyspark-3.5.0\n"
          ]
        }
      ],
      "source": [
        "!pip install pyspark"
      ]
    },
    {
      "cell_type": "code",
      "source": [
        "from pyspark.sql import SparkSession\n",
        "from pyspark.sql.functions import when, col, monotonically_increasing_id\n",
        "from pyspark.ml.feature import VectorAssembler, StringIndexer\n",
        "from pyspark.ml.classification import LogisticRegression, RandomForestClassifier, DecisionTreeClassifier, LinearSVC\n",
        "from pyspark.ml import Pipeline\n",
        "from pyspark.ml.evaluation import BinaryClassificationEvaluator\n",
        "from pyspark.ml.tuning import ParamGridBuilder, CrossValidator"
      ],
      "metadata": {
        "id": "Z_sWfEYuJOCA"
      },
      "execution_count": 19,
      "outputs": []
    },
    {
      "cell_type": "code",
      "source": [
        "spark = SparkSession.builder.appName(\"BTTS_Prediction\").getOrCreate()"
      ],
      "metadata": {
        "id": "0HIU8LYxJQ28"
      },
      "execution_count": 3,
      "outputs": []
    },
    {
      "cell_type": "code",
      "source": [
        "season_18_19_data = spark.read.csv('/content/england-premier-league-matches-2018-to-2019-stats.csv', header=True)"
      ],
      "metadata": {
        "id": "2envVBh3JRG_"
      },
      "execution_count": 6,
      "outputs": []
    },
    {
      "cell_type": "code",
      "source": [
        "season_18_19_data.columns"
      ],
      "metadata": {
        "colab": {
          "base_uri": "https://localhost:8080/"
        },
        "id": "tPjRyGSlJsia",
        "outputId": "03663f2c-1558-460f-f4de-bcc922a5430c"
      },
      "execution_count": 7,
      "outputs": [
        {
          "output_type": "execute_result",
          "data": {
            "text/plain": [
              "['timestamp',\n",
              " 'date_GMT',\n",
              " 'status',\n",
              " 'attendance',\n",
              " 'home_team_name',\n",
              " 'away_team_name',\n",
              " 'referee',\n",
              " 'Game Week',\n",
              " 'Pre-Match PPG (Home)',\n",
              " 'Pre-Match PPG (Away)',\n",
              " 'home_ppg',\n",
              " 'away_ppg',\n",
              " 'home_team_goal_count',\n",
              " 'away_team_goal_count',\n",
              " 'total_goal_count',\n",
              " 'total_goals_at_half_time',\n",
              " 'home_team_goal_count_half_time',\n",
              " 'away_team_goal_count_half_time',\n",
              " 'home_team_goal_timings',\n",
              " 'away_team_goal_timings',\n",
              " 'home_team_corner_count',\n",
              " 'away_team_corner_count',\n",
              " 'home_team_yellow_cards',\n",
              " 'home_team_red_cards',\n",
              " 'away_team_yellow_cards',\n",
              " 'away_team_red_cards',\n",
              " 'home_team_first_half_cards',\n",
              " 'home_team_second_half_cards',\n",
              " 'away_team_first_half_cards',\n",
              " 'away_team_second_half_cards',\n",
              " 'home_team_shots',\n",
              " 'away_team_shots',\n",
              " 'home_team_shots_on_target',\n",
              " 'away_team_shots_on_target',\n",
              " 'home_team_shots_off_target',\n",
              " 'away_team_shots_off_target',\n",
              " 'home_team_fouls',\n",
              " 'away_team_fouls',\n",
              " 'home_team_possession',\n",
              " 'away_team_possession',\n",
              " 'Home Team Pre-Match xG',\n",
              " 'Away Team Pre-Match xG',\n",
              " 'team_a_xg',\n",
              " 'team_b_xg',\n",
              " 'average_goals_per_match_pre_match',\n",
              " 'btts_percentage_pre_match',\n",
              " 'over_15_percentage_pre_match',\n",
              " 'over_25_percentage_pre_match',\n",
              " 'over_35_percentage_pre_match',\n",
              " 'over_45_percentage_pre_match',\n",
              " 'over_15_HT_FHG_percentage_pre_match',\n",
              " 'over_05_HT_FHG_percentage_pre_match',\n",
              " 'over_15_2HG_percentage_pre_match',\n",
              " 'over_05_2HG_percentage_pre_match',\n",
              " 'average_corners_per_match_pre_match',\n",
              " 'average_cards_per_match_pre_match',\n",
              " 'odds_ft_home_team_win',\n",
              " 'odds_ft_draw',\n",
              " 'odds_ft_away_team_win',\n",
              " 'odds_ft_over15',\n",
              " 'odds_ft_over25',\n",
              " 'odds_ft_over35',\n",
              " 'odds_ft_over45',\n",
              " 'odds_btts_yes',\n",
              " 'odds_btts_no',\n",
              " 'stadium_name']"
            ]
          },
          "metadata": {},
          "execution_count": 7
        }
      ]
    },
    {
      "cell_type": "code",
      "source": [
        "#feature selection\n",
        "selected_features = ['home_team_name', 'away_team_name', 'home_team_goal_count', 'away_team_goal_count',\n",
        "                     'home_team_shots_on_target', 'away_team_shots_on_target',]"
      ],
      "metadata": {
        "id": "UtJnA0CqJt7h"
      },
      "execution_count": 15,
      "outputs": []
    },
    {
      "cell_type": "code",
      "source": [
        "#adding btts column\n",
        "df = season_18_19_data.select(selected_features).withColumn(\"btts\", when((col(\"home_team_goal_count\") > 0) & (col(\"away_team_goal_count\") > 0), 1).otherwise(0))\\\n",
        "                                                .withColumn('match_id', monotonically_increasing_id())"
      ],
      "metadata": {
        "id": "oqPE0pHlKZ2b"
      },
      "execution_count": 20,
      "outputs": []
    },
    {
      "cell_type": "code",
      "source": [
        "df.show()"
      ],
      "metadata": {
        "colab": {
          "base_uri": "https://localhost:8080/"
        },
        "id": "n1RqaZQtKnIh",
        "outputId": "747dbef9-571e-4903-ff1e-34f806f6980f"
      },
      "execution_count": 21,
      "outputs": [
        {
          "output_type": "stream",
          "name": "stdout",
          "text": [
            "+--------------------+--------------------+--------------------+--------------------+-------------------------+-------------------------+----+--------+\n",
            "|      home_team_name|      away_team_name|home_team_goal_count|away_team_goal_count|home_team_shots_on_target|away_team_shots_on_target|btts|match_id|\n",
            "+--------------------+--------------------+--------------------+--------------------+-------------------------+-------------------------+----+--------+\n",
            "|   Manchester United|      Leicester City|                   2|                   1|                        7|                        5|   1|       0|\n",
            "|    Newcastle United|   Tottenham Hotspur|                   1|                   2|                        3|                        6|   1|       1|\n",
            "|     AFC Bournemouth|        Cardiff City|                   2|                   0|                        5|                        2|   0|       2|\n",
            "|              Fulham|      Crystal Palace|                   0|                   2|                        7|                       11|   0|       3|\n",
            "|   Huddersfield Town|             Chelsea|                   0|                   3|                        2|                        5|   0|       4|\n",
            "|             Watford|Brighton & Hove A...|                   2|                   0|                        6|                        0|   0|       5|\n",
            "|Wolverhampton Wan...|             Everton|                   2|                   2|                        5|                        6|   1|       6|\n",
            "|           Liverpool|     West Ham United|                   4|                   0|                        9|                        3|   0|       7|\n",
            "|         Southampton|             Burnley|                   0|                   0|                        4|                        7|   0|       8|\n",
            "|             Arsenal|     Manchester City|                   0|                   2|                        4|                        9|   0|       9|\n",
            "|        Cardiff City|    Newcastle United|                   0|                   0|                        2|                        7|   0|      10|\n",
            "|             Everton|         Southampton|                   2|                   1|                        8|                        5|   1|      11|\n",
            "|      Leicester City|Wolverhampton Wan...|                   2|                   0|                        3|                        4|   0|      12|\n",
            "|   Tottenham Hotspur|              Fulham|                   3|                   1|                       12|                        4|   1|      13|\n",
            "|     West Ham United|     AFC Bournemouth|                   1|                   2|                        6|                        6|   1|      14|\n",
            "|             Chelsea|             Arsenal|                   3|                   2|                       12|                        7|   1|      15|\n",
            "|             Burnley|             Watford|                   1|                   3|                        4|                        7|   1|      16|\n",
            "|     Manchester City|   Huddersfield Town|                   6|                   1|                       15|                        2|   1|      17|\n",
            "|Brighton & Hove A...|   Manchester United|                   3|                   2|                        4|                        4|   1|      18|\n",
            "|      Crystal Palace|           Liverpool|                   0|                   2|                        3|                        7|   0|      19|\n",
            "+--------------------+--------------------+--------------------+--------------------+-------------------------+-------------------------+----+--------+\n",
            "only showing top 20 rows\n",
            "\n"
          ]
        }
      ]
    },
    {
      "cell_type": "code",
      "source": [
        "#converting dtypes\n",
        "df = df.withColumn(\"home_team_goal_count\", df[\"home_team_goal_count\"].cast(\"int\"))\n",
        "df = df.withColumn(\"away_team_goal_count\", df[\"away_team_goal_count\"].cast(\"int\"))\n",
        "df = df.withColumn(\"home_team_shots_on_target\", df[\"home_team_shots_on_target\"].cast(\"int\"))\n",
        "df = df.withColumn(\"away_team_shots_on_target\", df[\"away_team_shots_on_target\"].cast(\"int\"))"
      ],
      "metadata": {
        "id": "3z230xlOMiCv"
      },
      "execution_count": 23,
      "outputs": []
    },
    {
      "cell_type": "code",
      "source": [
        "#feature vector\n",
        "assembler = VectorAssembler(inputCols=['home_team_goal_count', 'away_team_goal_count',\n",
        "                                       'home_team_shots_on_target', 'away_team_shots_on_target'], outputCol='btts_prediction')"
      ],
      "metadata": {
        "id": "xMaJkFspKuRM"
      },
      "execution_count": 24,
      "outputs": []
    },
    {
      "cell_type": "code",
      "source": [
        "df = assembler.transform(df)"
      ],
      "metadata": {
        "id": "zGbyxM16L3IJ"
      },
      "execution_count": 26,
      "outputs": []
    },
    {
      "cell_type": "code",
      "source": [
        "(train_data, test_data) = df.randomSplit([0.8, 0.2], seed=42)"
      ],
      "metadata": {
        "id": "jndEGaMaM06c"
      },
      "execution_count": 27,
      "outputs": []
    },
    {
      "cell_type": "code",
      "source": [
        "#models initialization\n",
        "logistic_regression = LogisticRegression(labelCol=\"btts\", featuresCol=\"btts_prediction\", maxIter=10, regParam=0.3, elasticNetParam=0.8)\n",
        "linear_svc = LinearSVC(labelCol=\"btts\", featuresCol=\"btts_prediction\", maxIter=10, regParam=0.1)\n",
        "decision_tree = DecisionTreeClassifier(labelCol=\"btts\", featuresCol=\"btts_prediction\", maxDepth=5)\n",
        "random_forest = RandomForestClassifier(labelCol=\"btts\", featuresCol=\"btts_prediction\", numTrees=10)"
      ],
      "metadata": {
        "id": "6cW9jvOaM3EL"
      },
      "execution_count": 31,
      "outputs": []
    },
    {
      "cell_type": "code",
      "source": [
        "#pipelines\n",
        "pipeline_lr = Pipeline(stages=[logistic_regression])\n",
        "pipeline_svc = Pipeline(stages=[linear_svc])\n",
        "pipeline_dt = Pipeline(stages=[decision_tree])\n",
        "pipeline_rf = Pipeline(stages=[random_forest])"
      ],
      "metadata": {
        "id": "mt94rmZrM4fa"
      },
      "execution_count": 32,
      "outputs": []
    },
    {
      "cell_type": "code",
      "source": [
        "model_lr = pipeline_lr.fit(train_data)\n",
        "model_svc = pipeline_svc.fit(train_data)\n",
        "model_dt = pipeline_dt.fit(train_data)\n",
        "model_rf = pipeline_rf.fit(train_data)"
      ],
      "metadata": {
        "id": "cev5eOn3M7E0"
      },
      "execution_count": 33,
      "outputs": []
    },
    {
      "cell_type": "code",
      "source": [
        "#predictions\n",
        "predictions_lr = model_lr.transform(test_data)\n",
        "predictions_svc = model_svc.transform(test_data)\n",
        "predictions_dt = model_dt.transform(test_data)\n",
        "predictions_rf = model_rf.transform(test_data)"
      ],
      "metadata": {
        "id": "kkoL7qSvM8f3"
      },
      "execution_count": 34,
      "outputs": []
    },
    {
      "cell_type": "code",
      "source": [
        "#evaluation\n",
        "evaluator = BinaryClassificationEvaluator(labelCol=\"btts\")\n",
        "\n",
        "accuracy_lr = evaluator.evaluate(predictions_lr)\n",
        "accuracy_svc = evaluator.evaluate(predictions_svc)\n",
        "accuracy_dt = evaluator.evaluate(predictions_dt)\n",
        "accuracy_rf = evaluator.evaluate(predictions_rf)\n",
        "\n",
        "#accuracy scores\n",
        "print(\"Logistic Regression Accuracy: {:.2f}%\".format(accuracy_lr * 100))\n",
        "print(\"Linear SVC Accuracy: {:.2f}%\".format(accuracy_svc * 100))\n",
        "print(\"Decision Tree Accuracy: {:.2f}%\".format(accuracy_dt * 100))\n",
        "print(\"Random Forest Accuracy: {:.2f}%\".format(accuracy_rf * 100))\n",
        "\n",
        "#for notice: just a template, not necessary working atm :P"
      ],
      "metadata": {
        "colab": {
          "base_uri": "https://localhost:8080/"
        },
        "id": "jyUP7ZnoNOoO",
        "outputId": "310bc7e8-10d0-4043-da47-f3725b730a65"
      },
      "execution_count": 35,
      "outputs": [
        {
          "output_type": "stream",
          "name": "stdout",
          "text": [
            "Logistic Regression Accuracy: 50.00%\n",
            "Linear SVC Accuracy: 86.67%\n",
            "Decision Tree Accuracy: 100.00%\n",
            "Random Forest Accuracy: 100.00%\n"
          ]
        }
      ]
    }
  ]
}