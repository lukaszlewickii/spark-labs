{
  "cells": [
    {
      "cell_type": "markdown",
      "id": "0faa9187",
      "metadata": {
        "id": "0faa9187"
      },
      "source": [
        "**Zaliczenie części Wprowadzenie do Sparka**"
      ]
    },
    {
      "cell_type": "code",
      "source": [
        "!pip install pyspark"
      ],
      "metadata": {
        "id": "OCoHFSMtp1Er",
        "outputId": "d6258f93-60d5-4511-9643-68c0be34c08a",
        "colab": {
          "base_uri": "https://localhost:8080/"
        }
      },
      "id": "OCoHFSMtp1Er",
      "execution_count": 1,
      "outputs": [
        {
          "output_type": "stream",
          "name": "stdout",
          "text": [
            "Collecting pyspark\n",
            "  Downloading pyspark-3.5.0.tar.gz (316.9 MB)\n",
            "\u001b[2K     \u001b[90m━━━━━━━━━━━━━━━━━━━━━━━━━━━━━━━━━━━━━━━━\u001b[0m \u001b[32m316.9/316.9 MB\u001b[0m \u001b[31m4.1 MB/s\u001b[0m eta \u001b[36m0:00:00\u001b[0m\n",
            "\u001b[?25h  Preparing metadata (setup.py) ... \u001b[?25l\u001b[?25hdone\n",
            "Requirement already satisfied: py4j==0.10.9.7 in /usr/local/lib/python3.10/dist-packages (from pyspark) (0.10.9.7)\n",
            "Building wheels for collected packages: pyspark\n",
            "  Building wheel for pyspark (setup.py) ... \u001b[?25l\u001b[?25hdone\n",
            "  Created wheel for pyspark: filename=pyspark-3.5.0-py2.py3-none-any.whl size=317425344 sha256=691945c2a32769fed067d500cbac6e879771d921fbd0b034a4cf48dcd64f2c79\n",
            "  Stored in directory: /root/.cache/pip/wheels/41/4e/10/c2cf2467f71c678cfc8a6b9ac9241e5e44a01940da8fbb17fc\n",
            "Successfully built pyspark\n",
            "Installing collected packages: pyspark\n",
            "Successfully installed pyspark-3.5.0\n"
          ]
        }
      ]
    },
    {
      "cell_type": "markdown",
      "id": "f2b6ed2e",
      "metadata": {
        "id": "f2b6ed2e"
      },
      "source": [
        "Zbior danych to oceny filmow. Dane pochodza z projektu https://movielens.org/\n",
        "Wiecej informacji o danych mozna znalezc pod adresem: http://files.grouplens.org/datasets/movielens/ml-latest-small-README.html"
      ]
    },
    {
      "cell_type": "code",
      "source": [
        "import pandas as pd"
      ],
      "metadata": {
        "id": "j1Q473M6qOaA"
      },
      "id": "j1Q473M6qOaA",
      "execution_count": 3,
      "outputs": []
    },
    {
      "cell_type": "code",
      "execution_count": 2,
      "id": "2b2be38c",
      "metadata": {
        "id": "2b2be38c"
      },
      "outputs": [],
      "source": [
        "from pyspark.sql import SparkSession\n",
        "spark = SparkSession.builder.appName('DataFrame_add').master('local[*]').getOrCreate()\n",
        "\n",
        "data_path = '/'"
      ]
    },
    {
      "cell_type": "markdown",
      "id": "620da2a8",
      "metadata": {
        "id": "620da2a8"
      },
      "source": [
        "Do rozważenia: Zalecanym formatem przechowywania danych jest Apache Parquet.\n",
        "Wiecej o tym formacie danych mozna sie dowiedziec np. tutaj: https://parquet.apache.org/.\n",
        "W skrocie, tak strona projektu podsumowuje misje stojaca za tym formatem:\n",
        "\"We created Parquet to make the advantages of compressed, efficient columnar data representation available to any project in the Hadoop ecosystem\"."
      ]
    },
    {
      "cell_type": "markdown",
      "id": "3a873c49",
      "metadata": {
        "id": "3a873c49"
      },
      "source": [
        "Przyjrzyj sie danym i przeanalizuj.\n",
        "\n",
        "Sugestie:\n",
        "1. Z jakich kolumn skladaja sie wczytane powyzej zbiory?\n",
        "2. Informacje o ilu filmach znajduja sie w dostarczonym zbiorze?\n",
        "3. Oceny ilu uzytkownikow znajduja sie w zbiorze?\n",
        "4. Czy w zbiorze znajduja sie braki danych?\n",
        "5. Ile filmow nie ma ocen? Ktore filmy nie maja ocen?\n",
        "6. Ktory film ma najlepsza srednia ocen? Jesli jest takich wiele podaj ten z najwieksza liczba glosow.\n",
        "7. Jaki procent filmow ma tylko maksymalne oceny?\n",
        "8. Ktory film na najwyzsza minimalna ocene? Jesli jest takich wiele podaj ten z najwieksza liczba glosow.\n",
        "9. Jaki jest rozklad ocen?\n",
        "10. Ile jest filmow zaklasyfikowanych jako dokumentalne 'documentary'?\n",
        "11. Ktory z filmow dokumentalnych z conajmniej 10 glosami ma najwysza srednia ocene?\n",
        "12. Jakie sa roznice pomiedzy liczba filmow w zbiorze z roku na rok? Zaloz, ze timestamp reprezentuje liczbe sekund od roku 1960.\n",
        "13. Ile srednio kategorii przypisanych jest do 1 filmu? Ktory film ma najwiecej kategorii (+co to za kategorie)?"
      ]
    },
    {
      "cell_type": "code",
      "source": [
        "#Wczytanie zbiorów\n",
        "\n",
        "links_df = spark.read.csv('links.csv', header=True, inferSchema=True)\n",
        "movies_df = spark.read.csv('movies.csv', header=True, inferSchema=True)\n",
        "ratings_df = spark.read.csv('ratings.csv', header=True, inferSchema=True)\n",
        "tags_df = spark.read.csv('tags.csv', header=True, inferSchema=True)"
      ],
      "metadata": {
        "id": "XMKT0YXp-pud"
      },
      "id": "XMKT0YXp-pud",
      "execution_count": 46,
      "outputs": []
    },
    {
      "cell_type": "code",
      "execution_count": 9,
      "id": "f96a3871",
      "metadata": {
        "id": "f96a3871",
        "outputId": "d9aff00e-358d-4026-eeda-83bc84e686d1",
        "colab": {
          "base_uri": "https://localhost:8080/"
        }
      },
      "outputs": [
        {
          "output_type": "stream",
          "name": "stdout",
          "text": [
            "Columns in links.csv: ['movieId', 'imdbId', 'tmdbId']\n",
            "Columns in movies.csv: ['movieId', 'title', 'genres']\n",
            "Columns in ratings.csv: ['userId', 'movieId', 'rating', 'timestamp']\n",
            "Columns in tags.csv: ['userId', 'movieId', 'tag', 'timestamp']\n"
          ]
        }
      ],
      "source": [
        "#1. Z jakich kolumn składają się zbiory?\n",
        "print(f\"Columns in links.csv: {pd.read_csv('links.csv').columns.to_list()}\")\n",
        "print(f\"Columns in movies.csv: {pd.read_csv('movies.csv').columns.to_list()}\")\n",
        "print(f\"Columns in ratings.csv: {pd.read_csv('ratings.csv').columns.to_list()}\")\n",
        "print(f\"Columns in tags.csv: {pd.read_csv('tags.csv').columns.to_list()}\")"
      ]
    },
    {
      "cell_type": "code",
      "source": [
        "#2. Informacje o ilu filmach znajduja sie w dostarczonym zbiorze?\n",
        "print(f\"links.csv: {pd.read_csv('links.csv').shape}\")\n",
        "print(f\"movies.csv: {pd.read_csv('movies.csv').shape}\")\n",
        "print(f\"ratings.csv: {pd.read_csv('ratings.csv').shape}\")\n",
        "print(f\"tags.csv: {pd.read_csv('tags.csv').shape}\")"
      ],
      "metadata": {
        "id": "vB-7IXBhusWH",
        "outputId": "8655cd61-0ac1-4464-b999-c7327fea9526",
        "colab": {
          "base_uri": "https://localhost:8080/"
        }
      },
      "id": "vB-7IXBhusWH",
      "execution_count": 11,
      "outputs": [
        {
          "output_type": "stream",
          "name": "stdout",
          "text": [
            "links.csv: (9742, 3)\n",
            "movies.csv: (9742, 3)\n",
            "ratings.csv: (100836, 4)\n",
            "tags.csv: (3683, 4)\n"
          ]
        }
      ]
    },
    {
      "cell_type": "code",
      "source": [
        "#3. Oceny ilu uzytkownikow znajduja sie w zbiorze?\n",
        "pd.read_csv('ratings.csv')['userId'].drop_duplicates().count()"
      ],
      "metadata": {
        "id": "bmd9_uux3RYl",
        "outputId": "2be317bb-d6e4-4193-fb37-d7bd78bfd9d3",
        "colab": {
          "base_uri": "https://localhost:8080/"
        }
      },
      "id": "bmd9_uux3RYl",
      "execution_count": 23,
      "outputs": [
        {
          "output_type": "execute_result",
          "data": {
            "text/plain": [
              "610"
            ]
          },
          "metadata": {},
          "execution_count": 23
        }
      ]
    },
    {
      "cell_type": "code",
      "source": [
        "#4. Czy w zbiorze znajduja sie braki danych?\n",
        "import os\n",
        "\n",
        "csvs = [file for file in os.listdir('/content') if os.path.splitext(file)[1] == '.csv']\n",
        "\n",
        "missing_values = 0\n",
        "for csv in csvs:\n",
        "  na = pd.read_csv(csv).isnull().sum().sum()\n",
        "  if na != 0:\n",
        "    print(f'{na} braków danych w {csv}')\n",
        "  missing_values += na\n",
        "\n",
        "print(f'Łącznie {missing_values} braków danych w całym zbiorze')"
      ],
      "metadata": {
        "id": "avqtd8SI5KD6",
        "outputId": "365dd1e8-c39e-49ae-ca00-41229d8914cf",
        "colab": {
          "base_uri": "https://localhost:8080/"
        }
      },
      "id": "avqtd8SI5KD6",
      "execution_count": 39,
      "outputs": [
        {
          "output_type": "stream",
          "name": "stdout",
          "text": [
            "8 braków danych w links.csv\n",
            "Łącznie 8 braków danych w całym zbiorze\n"
          ]
        }
      ]
    },
    {
      "cell_type": "code",
      "source": [
        "#5. Ile filmow nie ma ocen? Ktore filmy nie maja ocen?\n",
        "\n",
        "movies_with_ratings = movies_df.join(ratings_df, on=['movieId'], how='left')\n",
        "movies_with_no_ratings = movies_with_ratings.filter(movies_with_ratings.rating.isNull())\n",
        "\n",
        "# Filmy bez ocen\n",
        "print(\"Ilość filmów bez ocen:\", movies_with_no_ratings.count())\n",
        "movies_with_no_ratings.select(\"movieId\", \"title\").show()"
      ],
      "metadata": {
        "id": "t20brQnL6o6O",
        "outputId": "17f1546e-0390-4c52-bd90-29cfac70d3c9",
        "colab": {
          "base_uri": "https://localhost:8080/"
        }
      },
      "id": "t20brQnL6o6O",
      "execution_count": 47,
      "outputs": [
        {
          "output_type": "stream",
          "name": "stdout",
          "text": [
            "Ilość filmów bez ocen: 18\n",
            "+-------+--------------------+\n",
            "|movieId|               title|\n",
            "+-------+--------------------+\n",
            "|   1076|Innocents, The (1...|\n",
            "|   2939|      Niagara (1953)|\n",
            "|   3338|For All Mankind (...|\n",
            "|   3456|Color of Paradise...|\n",
            "|   4194|I Know Where I'm ...|\n",
            "|   5721|  Chosen, The (1981)|\n",
            "|   6668|Road Home, The (W...|\n",
            "|   6849|      Scrooge (1970)|\n",
            "|   7020|        Proof (1991)|\n",
            "|   7792|Parallax View, Th...|\n",
            "|   8765|This Gun for Hire...|\n",
            "|  25855|Roaring Twenties,...|\n",
            "|  26085|Mutiny on the Bou...|\n",
            "|  30892|In the Realms of ...|\n",
            "|  32160|Twentieth Century...|\n",
            "|  32371|Call Northside 77...|\n",
            "|  34482|Browning Version,...|\n",
            "|  85565|  Chalet Girl (2011)|\n",
            "+-------+--------------------+\n",
            "\n"
          ]
        }
      ]
    },
    {
      "cell_type": "code",
      "source": [
        "#6. Ktory film ma najlepsza srednia ocen? Jesli jest takich wiele podaj ten z najwieksza liczba glosow.\n",
        "\n",
        "from pyspark.sql.functions import col, avg, count\n",
        "\n",
        "# Średnie oceny dla filmów\n",
        "movie_ratings = ratings_df.groupBy(\"movieId\").agg(avg(\"rating\").alias(\"average_rating\"), count(\"rating\").alias(\"num_ratings\"))\n",
        "\n",
        "# Film z najlepszą średnią oceną\n",
        "best_rated_movie = movie_ratings.orderBy(col(\"average_rating\").desc(), col(\"num_ratings\").desc()).limit(1)\n",
        "\n",
        "# Znalezienie tytułu najlepiej ocenionego filmu\n",
        "best_rated_movie.show()\n",
        "best_rated_movie_title = best_rated_movie.join(movies_df, on=[\"movieId\"], how=\"left\")\n",
        "best_rated_movie_title.select(\"title\", \"average_rating\").show()"
      ],
      "metadata": {
        "id": "XGGaJxyX9I5P",
        "outputId": "fe68590a-8add-4885-d1b1-7c093aabc67a",
        "colab": {
          "base_uri": "https://localhost:8080/"
        }
      },
      "id": "XGGaJxyX9I5P",
      "execution_count": 48,
      "outputs": [
        {
          "output_type": "stream",
          "name": "stdout",
          "text": [
            "+-------+--------------+-----------+\n",
            "|movieId|average_rating|num_ratings|\n",
            "+-------+--------------+-----------+\n",
            "|     53|           5.0|          2|\n",
            "+-------+--------------+-----------+\n",
            "\n",
            "+---------------+--------------+\n",
            "|          title|average_rating|\n",
            "+---------------+--------------+\n",
            "|Lamerica (1994)|           5.0|\n",
            "+---------------+--------------+\n",
            "\n"
          ]
        }
      ]
    },
    {
      "cell_type": "code",
      "source": [
        "# Znalezienie liczby ocen dla każdego filmu\n",
        "movie_ratings_count = ratings_df.groupBy(\"movieId\").count()\n",
        "\n",
        "# Znalezienie filmów, które mają tylko maksymalne oceny\n",
        "max_rated_movies = movie_ratings_count.filter(col(\"rating\") == 5.0)\n",
        "num_max_rated_movies = max_rated_movies.count()\n",
        "\n",
        "# Znalezienie liczby wszystkich filmów\n",
        "total_movies = ratings_df.select(\"movieId\").distinct().count()\n",
        "\n",
        "# Obliczenie procentu filmów z tylko maksymalnymi ocenami\n",
        "percentage = (num_max_rated_movies / total_movies) * 100\n",
        "\n",
        "# Wyświetlenie wyniku\n",
        "print(f\"Procent filmów z tylko maksymalnymi ocenami: {percentage:.2f}%\")"
      ],
      "metadata": {
        "id": "G_V6jyKg-Sbr",
        "outputId": "f6144d5d-119e-44a7-d7c2-e26f77ca918b",
        "colab": {
          "base_uri": "https://localhost:8080/",
          "height": 459
        }
      },
      "id": "G_V6jyKg-Sbr",
      "execution_count": 82,
      "outputs": [
        {
          "output_type": "error",
          "ename": "AnalysisException",
          "evalue": "ignored",
          "traceback": [
            "\u001b[0;31m---------------------------------------------------------------------------\u001b[0m",
            "\u001b[0;31mAnalysisException\u001b[0m                         Traceback (most recent call last)",
            "\u001b[0;32m<ipython-input-82-0356e26cdadf>\u001b[0m in \u001b[0;36m<cell line: 5>\u001b[0;34m()\u001b[0m\n\u001b[1;32m      3\u001b[0m \u001b[0;34m\u001b[0m\u001b[0m\n\u001b[1;32m      4\u001b[0m \u001b[0;31m# Znalezienie filmów, które mają tylko maksymalne oceny\u001b[0m\u001b[0;34m\u001b[0m\u001b[0;34m\u001b[0m\u001b[0m\n\u001b[0;32m----> 5\u001b[0;31m \u001b[0mmax_rated_movies\u001b[0m \u001b[0;34m=\u001b[0m \u001b[0mmovie_ratings_count\u001b[0m\u001b[0;34m.\u001b[0m\u001b[0mfilter\u001b[0m\u001b[0;34m(\u001b[0m\u001b[0mcol\u001b[0m\u001b[0;34m(\u001b[0m\u001b[0;34m\"rating\"\u001b[0m\u001b[0;34m)\u001b[0m \u001b[0;34m==\u001b[0m \u001b[0;36m5.0\u001b[0m\u001b[0;34m)\u001b[0m\u001b[0;34m\u001b[0m\u001b[0;34m\u001b[0m\u001b[0m\n\u001b[0m\u001b[1;32m      6\u001b[0m \u001b[0mnum_max_rated_movies\u001b[0m \u001b[0;34m=\u001b[0m \u001b[0mmax_rated_movies\u001b[0m\u001b[0;34m.\u001b[0m\u001b[0mcount\u001b[0m\u001b[0;34m(\u001b[0m\u001b[0;34m)\u001b[0m\u001b[0;34m\u001b[0m\u001b[0;34m\u001b[0m\u001b[0m\n\u001b[1;32m      7\u001b[0m \u001b[0;34m\u001b[0m\u001b[0m\n",
            "\u001b[0;32m/usr/local/lib/python3.10/dist-packages/pyspark/sql/dataframe.py\u001b[0m in \u001b[0;36mfilter\u001b[0;34m(self, condition)\u001b[0m\n\u001b[1;32m   3323\u001b[0m             \u001b[0mjdf\u001b[0m \u001b[0;34m=\u001b[0m \u001b[0mself\u001b[0m\u001b[0;34m.\u001b[0m\u001b[0m_jdf\u001b[0m\u001b[0;34m.\u001b[0m\u001b[0mfilter\u001b[0m\u001b[0;34m(\u001b[0m\u001b[0mcondition\u001b[0m\u001b[0;34m)\u001b[0m\u001b[0;34m\u001b[0m\u001b[0;34m\u001b[0m\u001b[0m\n\u001b[1;32m   3324\u001b[0m         \u001b[0;32melif\u001b[0m \u001b[0misinstance\u001b[0m\u001b[0;34m(\u001b[0m\u001b[0mcondition\u001b[0m\u001b[0;34m,\u001b[0m \u001b[0mColumn\u001b[0m\u001b[0;34m)\u001b[0m\u001b[0;34m:\u001b[0m\u001b[0;34m\u001b[0m\u001b[0;34m\u001b[0m\u001b[0m\n\u001b[0;32m-> 3325\u001b[0;31m             \u001b[0mjdf\u001b[0m \u001b[0;34m=\u001b[0m \u001b[0mself\u001b[0m\u001b[0;34m.\u001b[0m\u001b[0m_jdf\u001b[0m\u001b[0;34m.\u001b[0m\u001b[0mfilter\u001b[0m\u001b[0;34m(\u001b[0m\u001b[0mcondition\u001b[0m\u001b[0;34m.\u001b[0m\u001b[0m_jc\u001b[0m\u001b[0;34m)\u001b[0m\u001b[0;34m\u001b[0m\u001b[0;34m\u001b[0m\u001b[0m\n\u001b[0m\u001b[1;32m   3326\u001b[0m         \u001b[0;32melse\u001b[0m\u001b[0;34m:\u001b[0m\u001b[0;34m\u001b[0m\u001b[0;34m\u001b[0m\u001b[0m\n\u001b[1;32m   3327\u001b[0m             raise PySparkTypeError(\n",
            "\u001b[0;32m/usr/local/lib/python3.10/dist-packages/py4j/java_gateway.py\u001b[0m in \u001b[0;36m__call__\u001b[0;34m(self, *args)\u001b[0m\n\u001b[1;32m   1320\u001b[0m \u001b[0;34m\u001b[0m\u001b[0m\n\u001b[1;32m   1321\u001b[0m         \u001b[0manswer\u001b[0m \u001b[0;34m=\u001b[0m \u001b[0mself\u001b[0m\u001b[0;34m.\u001b[0m\u001b[0mgateway_client\u001b[0m\u001b[0;34m.\u001b[0m\u001b[0msend_command\u001b[0m\u001b[0;34m(\u001b[0m\u001b[0mcommand\u001b[0m\u001b[0;34m)\u001b[0m\u001b[0;34m\u001b[0m\u001b[0;34m\u001b[0m\u001b[0m\n\u001b[0;32m-> 1322\u001b[0;31m         return_value = get_return_value(\n\u001b[0m\u001b[1;32m   1323\u001b[0m             answer, self.gateway_client, self.target_id, self.name)\n\u001b[1;32m   1324\u001b[0m \u001b[0;34m\u001b[0m\u001b[0m\n",
            "\u001b[0;32m/usr/local/lib/python3.10/dist-packages/pyspark/errors/exceptions/captured.py\u001b[0m in \u001b[0;36mdeco\u001b[0;34m(*a, **kw)\u001b[0m\n\u001b[1;32m    183\u001b[0m                 \u001b[0;31m# Hide where the exception came from that shows a non-Pythonic\u001b[0m\u001b[0;34m\u001b[0m\u001b[0;34m\u001b[0m\u001b[0m\n\u001b[1;32m    184\u001b[0m                 \u001b[0;31m# JVM exception message.\u001b[0m\u001b[0;34m\u001b[0m\u001b[0;34m\u001b[0m\u001b[0m\n\u001b[0;32m--> 185\u001b[0;31m                 \u001b[0;32mraise\u001b[0m \u001b[0mconverted\u001b[0m \u001b[0;32mfrom\u001b[0m \u001b[0;32mNone\u001b[0m\u001b[0;34m\u001b[0m\u001b[0;34m\u001b[0m\u001b[0m\n\u001b[0m\u001b[1;32m    186\u001b[0m             \u001b[0;32melse\u001b[0m\u001b[0;34m:\u001b[0m\u001b[0;34m\u001b[0m\u001b[0;34m\u001b[0m\u001b[0m\n\u001b[1;32m    187\u001b[0m                 \u001b[0;32mraise\u001b[0m\u001b[0;34m\u001b[0m\u001b[0;34m\u001b[0m\u001b[0m\n",
            "\u001b[0;31mAnalysisException\u001b[0m: [UNRESOLVED_COLUMN.WITH_SUGGESTION] A column or function parameter with name `rating` cannot be resolved. Did you mean one of the following? [`count`, `movieId`].;\n'Filter ('rating = 5.0)\n+- Aggregate [movieId#213], [movieId#213, count(1) AS count#698L]\n   +- Relation [userId#212,movieId#213,rating#214,timestamp#215] csv\n"
          ]
        }
      ]
    },
    {
      "cell_type": "code",
      "source": [
        "from pyspark.sql.functions import max\n",
        "ratings_df.select(max(ratings_df['rating'])).show()"
      ],
      "metadata": {
        "id": "ZJFTiv_TAEyF",
        "outputId": "8044da24-4cf6-426b-8779-35e123496d63",
        "colab": {
          "base_uri": "https://localhost:8080/"
        }
      },
      "id": "ZJFTiv_TAEyF",
      "execution_count": 65,
      "outputs": [
        {
          "output_type": "stream",
          "name": "stdout",
          "text": [
            "+-----------+\n",
            "|max(rating)|\n",
            "+-----------+\n",
            "|        5.0|\n",
            "+-----------+\n",
            "\n"
          ]
        }
      ]
    },
    {
      "cell_type": "code",
      "source": [
        "type(max_rating)"
      ],
      "metadata": {
        "id": "4Wjct0H9Ap7T",
        "outputId": "304d6865-efd0-4de9-e83b-1018e9de6e12",
        "colab": {
          "base_uri": "https://localhost:8080/"
        }
      },
      "id": "4Wjct0H9Ap7T",
      "execution_count": 68,
      "outputs": [
        {
          "output_type": "execute_result",
          "data": {
            "text/plain": [
              "NoneType"
            ]
          },
          "metadata": {},
          "execution_count": 68
        }
      ]
    },
    {
      "cell_type": "code",
      "source": [
        "# Znalezienie filmów, które mają tylko ocenę 5\n",
        "movie_ratings = ratings_df.groupBy(\"movieId\").agg(count(\"rating\").alias(\"num_ratings\"), max(\"rating\").alias(\"max_rating\"))\n",
        "\n",
        "# Wczytanie pliku CSV z informacjami o filmach\n",
        "movies_info_df = spark.read.csv(\"movies.csv\", header=True, inferSchema=True)\n",
        "\n",
        "# Połączenie informacji o filmach z wynikami ocen\n",
        "result_df = movies_info_df.join(movies_with_only_rating_5, on=\"movieId\", how=\"inner\")\n",
        "\n",
        "# Wyświetlenie wyników\n",
        "result_df.count()\n",
        "\n",
        "print(f'{result_df.count()/movies_df.count()}')"
      ],
      "metadata": {
        "id": "PG3PtByYBAB8",
        "outputId": "fd5b0857-7222-44d7-c60e-e88d86ba3874",
        "colab": {
          "base_uri": "https://localhost:8080/"
        }
      },
      "id": "PG3PtByYBAB8",
      "execution_count": 89,
      "outputs": [
        {
          "output_type": "stream",
          "name": "stdout",
          "text": [
            "0.02966536645452679\n"
          ]
        }
      ]
    },
    {
      "cell_type": "code",
      "source": [
        "max_rated_movies.show()"
      ],
      "metadata": {
        "id": "aTByT2R4EsCT",
        "outputId": "846d85e4-610f-48b4-da06-4d9a13409072",
        "colab": {
          "base_uri": "https://localhost:8080/"
        }
      },
      "id": "aTByT2R4EsCT",
      "execution_count": 85,
      "outputs": [
        {
          "output_type": "stream",
          "name": "stdout",
          "text": [
            "+-------+----------+\n",
            "|movieId|max_rating|\n",
            "+-------+----------+\n",
            "|   1580|       5.0|\n",
            "|   2366|       5.0|\n",
            "|   3175|       5.0|\n",
            "|   1088|       5.0|\n",
            "|  32460|       5.0|\n",
            "|  44022|       4.5|\n",
            "|  96488|       4.5|\n",
            "|   1238|       5.0|\n",
            "|   1342|       4.0|\n",
            "|   1591|       5.0|\n",
            "|   1645|       5.0|\n",
            "|   4519|       4.0|\n",
            "|   2142|       3.5|\n",
            "|    471|       5.0|\n",
            "|   3997|       3.0|\n",
            "|    833|       4.0|\n",
            "|   3918|       5.0|\n",
            "|   7982|       4.5|\n",
            "|   1959|       5.0|\n",
            "|  68135|       4.5|\n",
            "+-------+----------+\n",
            "only showing top 20 rows\n",
            "\n"
          ]
        }
      ]
    },
    {
      "cell_type": "code",
      "source": [
        "movies_df.distinct().count()"
      ],
      "metadata": {
        "id": "brNKPbwFBh5W",
        "outputId": "a7b99c17-fde9-4eb9-bad2-31262096bc5d",
        "colab": {
          "base_uri": "https://localhost:8080/"
        }
      },
      "id": "brNKPbwFBh5W",
      "execution_count": 76,
      "outputs": [
        {
          "output_type": "execute_result",
          "data": {
            "text/plain": [
              "9742"
            ]
          },
          "metadata": {},
          "execution_count": 76
        }
      ]
    },
    {
      "cell_type": "code",
      "source": [],
      "metadata": {
        "id": "zqJRronnGbyQ"
      },
      "id": "zqJRronnGbyQ",
      "execution_count": null,
      "outputs": []
    },
    {
      "cell_type": "code",
      "source": [
        "#8. Ktory film na najwyzsza minimalna ocene? Jesli jest takich wiele podaj ten z najwieksza liczba glosow.\n",
        "\n",
        "# Znalezienie minimalnej oceny dla każdego filmu\n",
        "movie_min_ratings = ratings_df.groupBy('movieId').agg(count('rating'), min('rating'))"
      ],
      "metadata": {
        "id": "QHSUTnd4B-10",
        "outputId": "5fa0bb6f-c954-418c-f25d-b93e2a86130a",
        "colab": {
          "base_uri": "https://localhost:8080/",
          "height": 331
        }
      },
      "id": "QHSUTnd4B-10",
      "execution_count": 98,
      "outputs": [
        {
          "output_type": "error",
          "ename": "AssertionError",
          "evalue": "ignored",
          "traceback": [
            "\u001b[0;31m---------------------------------------------------------------------------\u001b[0m",
            "\u001b[0;31mAssertionError\u001b[0m                            Traceback (most recent call last)",
            "\u001b[0;32m<ipython-input-98-9067c95fa00d>\u001b[0m in \u001b[0;36m<cell line: 4>\u001b[0;34m()\u001b[0m\n\u001b[1;32m      2\u001b[0m \u001b[0;34m\u001b[0m\u001b[0m\n\u001b[1;32m      3\u001b[0m \u001b[0;31m# Znalezienie minimalnej oceny dla każdego filmu\u001b[0m\u001b[0;34m\u001b[0m\u001b[0;34m\u001b[0m\u001b[0m\n\u001b[0;32m----> 4\u001b[0;31m \u001b[0mmovie_min_ratings\u001b[0m \u001b[0;34m=\u001b[0m \u001b[0mratings_df\u001b[0m\u001b[0;34m.\u001b[0m\u001b[0mgroupBy\u001b[0m\u001b[0;34m(\u001b[0m\u001b[0;34m'movieId'\u001b[0m\u001b[0;34m)\u001b[0m\u001b[0;34m.\u001b[0m\u001b[0magg\u001b[0m\u001b[0;34m(\u001b[0m\u001b[0mcount\u001b[0m\u001b[0;34m(\u001b[0m\u001b[0;34m'rating'\u001b[0m\u001b[0;34m)\u001b[0m\u001b[0;34m,\u001b[0m \u001b[0mmin\u001b[0m\u001b[0;34m(\u001b[0m\u001b[0;34m'rating'\u001b[0m\u001b[0;34m)\u001b[0m\u001b[0;34m)\u001b[0m\u001b[0;34m\u001b[0m\u001b[0;34m\u001b[0m\u001b[0m\n\u001b[0m",
            "\u001b[0;32m/usr/local/lib/python3.10/dist-packages/pyspark/sql/group.py\u001b[0m in \u001b[0;36magg\u001b[0;34m(self, *exprs)\u001b[0m\n\u001b[1;32m    182\u001b[0m         \u001b[0;32melse\u001b[0m\u001b[0;34m:\u001b[0m\u001b[0;34m\u001b[0m\u001b[0;34m\u001b[0m\u001b[0m\n\u001b[1;32m    183\u001b[0m             \u001b[0;31m# Columns\u001b[0m\u001b[0;34m\u001b[0m\u001b[0;34m\u001b[0m\u001b[0m\n\u001b[0;32m--> 184\u001b[0;31m             \u001b[0;32massert\u001b[0m \u001b[0mall\u001b[0m\u001b[0;34m(\u001b[0m\u001b[0misinstance\u001b[0m\u001b[0;34m(\u001b[0m\u001b[0mc\u001b[0m\u001b[0;34m,\u001b[0m \u001b[0mColumn\u001b[0m\u001b[0;34m)\u001b[0m \u001b[0;32mfor\u001b[0m \u001b[0mc\u001b[0m \u001b[0;32min\u001b[0m \u001b[0mexprs\u001b[0m\u001b[0;34m)\u001b[0m\u001b[0;34m,\u001b[0m \u001b[0;34m\"all exprs should be Column\"\u001b[0m\u001b[0;34m\u001b[0m\u001b[0;34m\u001b[0m\u001b[0m\n\u001b[0m\u001b[1;32m    185\u001b[0m             \u001b[0mexprs\u001b[0m \u001b[0;34m=\u001b[0m \u001b[0mcast\u001b[0m\u001b[0;34m(\u001b[0m\u001b[0mTuple\u001b[0m\u001b[0;34m[\u001b[0m\u001b[0mColumn\u001b[0m\u001b[0;34m,\u001b[0m \u001b[0;34m...\u001b[0m\u001b[0;34m]\u001b[0m\u001b[0;34m,\u001b[0m \u001b[0mexprs\u001b[0m\u001b[0;34m)\u001b[0m\u001b[0;34m\u001b[0m\u001b[0;34m\u001b[0m\u001b[0m\n\u001b[1;32m    186\u001b[0m             \u001b[0mjdf\u001b[0m \u001b[0;34m=\u001b[0m \u001b[0mself\u001b[0m\u001b[0;34m.\u001b[0m\u001b[0m_jgd\u001b[0m\u001b[0;34m.\u001b[0m\u001b[0magg\u001b[0m\u001b[0;34m(\u001b[0m\u001b[0mexprs\u001b[0m\u001b[0;34m[\u001b[0m\u001b[0;36m0\u001b[0m\u001b[0;34m]\u001b[0m\u001b[0;34m.\u001b[0m\u001b[0m_jc\u001b[0m\u001b[0;34m,\u001b[0m \u001b[0m_to_seq\u001b[0m\u001b[0;34m(\u001b[0m\u001b[0mself\u001b[0m\u001b[0;34m.\u001b[0m\u001b[0msession\u001b[0m\u001b[0;34m.\u001b[0m\u001b[0m_sc\u001b[0m\u001b[0;34m,\u001b[0m \u001b[0;34m[\u001b[0m\u001b[0mc\u001b[0m\u001b[0;34m.\u001b[0m\u001b[0m_jc\u001b[0m \u001b[0;32mfor\u001b[0m \u001b[0mc\u001b[0m \u001b[0;32min\u001b[0m \u001b[0mexprs\u001b[0m\u001b[0;34m[\u001b[0m\u001b[0;36m1\u001b[0m\u001b[0;34m:\u001b[0m\u001b[0;34m]\u001b[0m\u001b[0;34m]\u001b[0m\u001b[0;34m)\u001b[0m\u001b[0;34m)\u001b[0m\u001b[0;34m\u001b[0m\u001b[0;34m\u001b[0m\u001b[0m\n",
            "\u001b[0;31mAssertionError\u001b[0m: all exprs should be Column"
          ]
        }
      ]
    },
    {
      "cell_type": "code",
      "source": [],
      "metadata": {
        "id": "Z4cCfh6IF3PP"
      },
      "id": "Z4cCfh6IF3PP",
      "execution_count": null,
      "outputs": []
    }
  ],
  "metadata": {
    "kernelspec": {
      "display_name": "Python 3 (ipykernel)",
      "language": "python",
      "name": "python3"
    },
    "language_info": {
      "codemirror_mode": {
        "name": "ipython",
        "version": 3
      },
      "file_extension": ".py",
      "mimetype": "text/x-python",
      "name": "python",
      "nbconvert_exporter": "python",
      "pygments_lexer": "ipython3",
      "version": "3.8.12"
    },
    "colab": {
      "provenance": []
    }
  },
  "nbformat": 4,
  "nbformat_minor": 5
}