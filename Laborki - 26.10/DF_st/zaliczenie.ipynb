{
  "cells": [
    {
      "cell_type": "markdown",
      "id": "0faa9187",
      "metadata": {
        "id": "0faa9187"
      },
      "source": [
        "**Zaliczenie części Wprowadzenie do Sparka**"
      ]
    },
    {
      "cell_type": "code",
      "source": [
        "!pip install pyspark"
      ],
      "metadata": {
        "id": "OCoHFSMtp1Er",
        "outputId": "76f96859-1ef1-429f-bc93-1241c10721c9",
        "colab": {
          "base_uri": "https://localhost:8080/"
        }
      },
      "id": "OCoHFSMtp1Er",
      "execution_count": 63,
      "outputs": [
        {
          "output_type": "stream",
          "name": "stdout",
          "text": [
            "Requirement already satisfied: pyspark in /usr/local/lib/python3.10/dist-packages (3.5.0)\n",
            "Requirement already satisfied: py4j==0.10.9.7 in /usr/local/lib/python3.10/dist-packages (from pyspark) (0.10.9.7)\n"
          ]
        }
      ]
    },
    {
      "cell_type": "markdown",
      "id": "f2b6ed2e",
      "metadata": {
        "id": "f2b6ed2e"
      },
      "source": [
        "Zbior danych to oceny filmow. Dane pochodza z projektu https://movielens.org/\n",
        "Wiecej informacji o danych mozna znalezc pod adresem: http://files.grouplens.org/datasets/movielens/ml-latest-small-README.html"
      ]
    },
    {
      "cell_type": "code",
      "source": [
        "import pandas as pd"
      ],
      "metadata": {
        "id": "j1Q473M6qOaA"
      },
      "id": "j1Q473M6qOaA",
      "execution_count": 64,
      "outputs": []
    },
    {
      "cell_type": "code",
      "execution_count": 65,
      "id": "2b2be38c",
      "metadata": {
        "id": "2b2be38c"
      },
      "outputs": [],
      "source": [
        "from pyspark.sql import SparkSession\n",
        "spark = SparkSession.builder.appName('DataFrame_add').master('local[*]').getOrCreate()\n",
        "\n",
        "data_path = '/'"
      ]
    },
    {
      "cell_type": "markdown",
      "id": "620da2a8",
      "metadata": {
        "id": "620da2a8"
      },
      "source": [
        "Do rozważenia: Zalecanym formatem przechowywania danych jest Apache Parquet.\n",
        "Wiecej o tym formacie danych mozna sie dowiedziec np. tutaj: https://parquet.apache.org/.\n",
        "W skrocie, tak strona projektu podsumowuje misje stojaca za tym formatem:\n",
        "\"We created Parquet to make the advantages of compressed, efficient columnar data representation available to any project in the Hadoop ecosystem\"."
      ]
    },
    {
      "cell_type": "markdown",
      "id": "3a873c49",
      "metadata": {
        "id": "3a873c49"
      },
      "source": [
        "Przyjrzyj sie danym i przeanalizuj.\n",
        "\n",
        "Sugestie:\n",
        "1. Z jakich kolumn skladaja sie wczytane powyzej zbiory?\n",
        "2. Informacje o ilu filmach znajduja sie w dostarczonym zbiorze?\n",
        "3. Oceny ilu uzytkownikow znajduja sie w zbiorze?\n",
        "4. Czy w zbiorze znajduja sie braki danych?\n",
        "5. Ile filmow nie ma ocen? Ktore filmy nie maja ocen?\n",
        "6. Ktory film ma najlepsza srednia ocen? Jesli jest takich wiele podaj ten z najwieksza liczba glosow.\n",
        "7. Jaki procent filmow ma tylko maksymalne oceny?\n",
        "8. Ktory film na najwyzsza minimalna ocene? Jesli jest takich wiele podaj ten z najwieksza liczba glosow.\n",
        "9. Jaki jest rozklad ocen?\n",
        "10. Ile jest filmow zaklasyfikowanych jako dokumentalne 'documentary'?\n",
        "11. Ktory z filmow dokumentalnych z conajmniej 10 glosami ma najwysza srednia ocene?\n",
        "12. ~~Jakie sa roznice pomiedzy liczba filmow w zbiorze z roku na rok? Zaloz, ze timestamp reprezentuje liczbe sekund od roku 1960.~~\n",
        "13. Ile srednio kategorii przypisanych jest do 1 filmu? Ktory film ma najwiecej kategorii (+co to za kategorie)?"
      ]
    },
    {
      "cell_type": "code",
      "source": [
        "#Wczytanie zbiorów\n",
        "\n",
        "links_df = spark.read.csv('links.csv', header=True, inferSchema=True)\n",
        "movies_df = spark.read.csv('movies.csv', header=True, inferSchema=True)\n",
        "ratings_df = spark.read.csv('ratings.csv', header=True, inferSchema=True)\n",
        "tags_df = spark.read.csv('tags.csv', header=True, inferSchema=True)"
      ],
      "metadata": {
        "id": "XMKT0YXp-pud"
      },
      "id": "XMKT0YXp-pud",
      "execution_count": 66,
      "outputs": []
    },
    {
      "cell_type": "code",
      "execution_count": 67,
      "id": "f96a3871",
      "metadata": {
        "id": "f96a3871",
        "outputId": "652e266d-b70d-4811-81a5-63a4cf028886",
        "colab": {
          "base_uri": "https://localhost:8080/"
        }
      },
      "outputs": [
        {
          "output_type": "stream",
          "name": "stdout",
          "text": [
            "Columns in links.csv: ['movieId', 'imdbId', 'tmdbId']\n",
            "Columns in movies.csv: ['movieId', 'title', 'genres']\n",
            "Columns in ratings.csv: ['userId', 'movieId', 'rating', 'timestamp']\n",
            "Columns in tags.csv: ['userId', 'movieId', 'tag', 'timestamp']\n"
          ]
        }
      ],
      "source": [
        "#1. Z jakich kolumn składają się zbiory?\n",
        "print(f\"Columns in links.csv: {pd.read_csv('links.csv').columns.to_list()}\")\n",
        "print(f\"Columns in movies.csv: {pd.read_csv('movies.csv').columns.to_list()}\")\n",
        "print(f\"Columns in ratings.csv: {pd.read_csv('ratings.csv').columns.to_list()}\")\n",
        "print(f\"Columns in tags.csv: {pd.read_csv('tags.csv').columns.to_list()}\")"
      ]
    },
    {
      "cell_type": "code",
      "source": [
        "#2. Informacje o ilu filmach znajduja sie w dostarczonym zbiorze?\n",
        "print(f\"links.csv: {pd.read_csv('links.csv').shape}\")\n",
        "print(f\"movies.csv: {pd.read_csv('movies.csv').shape}\")\n",
        "print(f\"ratings.csv: {pd.read_csv('ratings.csv').shape}\")\n",
        "print(f\"tags.csv: {pd.read_csv('tags.csv').shape}\")"
      ],
      "metadata": {
        "id": "vB-7IXBhusWH",
        "outputId": "f363bfa6-81ad-438f-bff5-d64be235fb44",
        "colab": {
          "base_uri": "https://localhost:8080/"
        }
      },
      "id": "vB-7IXBhusWH",
      "execution_count": 68,
      "outputs": [
        {
          "output_type": "stream",
          "name": "stdout",
          "text": [
            "links.csv: (9742, 3)\n",
            "movies.csv: (9742, 3)\n",
            "ratings.csv: (100836, 4)\n",
            "tags.csv: (3683, 4)\n"
          ]
        }
      ]
    },
    {
      "cell_type": "code",
      "source": [
        "#3. Oceny ilu uzytkownikow znajduja sie w zbiorze?\n",
        "pd.read_csv('ratings.csv')['userId'].drop_duplicates().count()"
      ],
      "metadata": {
        "id": "bmd9_uux3RYl",
        "outputId": "e1e0a11a-a35a-444e-8ea8-6d6c412b8be1",
        "colab": {
          "base_uri": "https://localhost:8080/"
        }
      },
      "id": "bmd9_uux3RYl",
      "execution_count": 69,
      "outputs": [
        {
          "output_type": "execute_result",
          "data": {
            "text/plain": [
              "610"
            ]
          },
          "metadata": {},
          "execution_count": 69
        }
      ]
    },
    {
      "cell_type": "code",
      "source": [
        "#4. Czy w zbiorze znajduja sie braki danych?\n",
        "import os\n",
        "\n",
        "csvs = [file for file in os.listdir('/content') if os.path.splitext(file)[1] == '.csv']\n",
        "\n",
        "missing_values = 0\n",
        "for csv in csvs:\n",
        "  na = pd.read_csv(csv).isnull().sum().sum()\n",
        "  if na != 0:\n",
        "    print(f'{na} braków danych w {csv}')\n",
        "  missing_values += na\n",
        "\n",
        "print(f'Łącznie {missing_values} braków danych w całym zbiorze')"
      ],
      "metadata": {
        "id": "avqtd8SI5KD6",
        "outputId": "758c1432-08c2-4976-e040-70d0ae660e64",
        "colab": {
          "base_uri": "https://localhost:8080/"
        }
      },
      "id": "avqtd8SI5KD6",
      "execution_count": 70,
      "outputs": [
        {
          "output_type": "stream",
          "name": "stdout",
          "text": [
            "8 braków danych w links.csv\n",
            "Łącznie 8 braków danych w całym zbiorze\n"
          ]
        }
      ]
    },
    {
      "cell_type": "code",
      "source": [
        "#5. Ile filmow nie ma ocen? Ktore filmy nie maja ocen?\n",
        "\n",
        "movies_with_ratings = movies_df.join(ratings_df, on=['movieId'], how='left')\n",
        "movies_with_no_ratings = movies_with_ratings.filter(movies_with_ratings.rating.isNull())\n",
        "\n",
        "#filmy bez ocen\n",
        "print(\"Ilość filmów bez ocen:\", movies_with_no_ratings.count())\n",
        "movies_with_no_ratings.select(\"movieId\", \"title\").show()"
      ],
      "metadata": {
        "id": "t20brQnL6o6O",
        "outputId": "418073e3-ca88-47ed-99e0-18f21fab314e",
        "colab": {
          "base_uri": "https://localhost:8080/"
        }
      },
      "id": "t20brQnL6o6O",
      "execution_count": 71,
      "outputs": [
        {
          "output_type": "stream",
          "name": "stdout",
          "text": [
            "Ilość filmów bez ocen: 18\n",
            "+-------+--------------------+\n",
            "|movieId|               title|\n",
            "+-------+--------------------+\n",
            "|   1076|Innocents, The (1...|\n",
            "|   2939|      Niagara (1953)|\n",
            "|   3338|For All Mankind (...|\n",
            "|   3456|Color of Paradise...|\n",
            "|   4194|I Know Where I'm ...|\n",
            "|   5721|  Chosen, The (1981)|\n",
            "|   6668|Road Home, The (W...|\n",
            "|   6849|      Scrooge (1970)|\n",
            "|   7020|        Proof (1991)|\n",
            "|   7792|Parallax View, Th...|\n",
            "|   8765|This Gun for Hire...|\n",
            "|  25855|Roaring Twenties,...|\n",
            "|  26085|Mutiny on the Bou...|\n",
            "|  30892|In the Realms of ...|\n",
            "|  32160|Twentieth Century...|\n",
            "|  32371|Call Northside 77...|\n",
            "|  34482|Browning Version,...|\n",
            "|  85565|  Chalet Girl (2011)|\n",
            "+-------+--------------------+\n",
            "\n"
          ]
        }
      ]
    },
    {
      "cell_type": "code",
      "source": [
        "#6. Ktory film ma najlepsza srednia ocen? Jesli jest takich wiele podaj ten z najwieksza liczba glosow.\n",
        "\n",
        "from pyspark.sql.functions import col, avg, count\n",
        "\n",
        "#średnie oceny dla filmów\n",
        "movie_ratings = ratings_df.groupBy(\"movieId\").agg(avg(\"rating\").alias(\"average_rating\"), count(\"rating\").alias(\"num_ratings\"))\n",
        "\n",
        "#film z najlepszą średnią oceną\n",
        "best_rated_movie = movie_ratings.orderBy(col(\"average_rating\").desc(), col(\"num_ratings\").desc()).limit(1)\n",
        "\n",
        "#znalezienie tytułu najlepiej ocenionego filmu\n",
        "best_rated_movie.show()\n",
        "best_rated_movie_title = best_rated_movie.join(movies_df, on=[\"movieId\"], how=\"left\")\n",
        "best_rated_movie_title.select(\"title\", \"average_rating\").show()"
      ],
      "metadata": {
        "id": "XGGaJxyX9I5P",
        "outputId": "e4e4ad81-f870-49a3-fe94-684e40a57b14",
        "colab": {
          "base_uri": "https://localhost:8080/"
        }
      },
      "id": "XGGaJxyX9I5P",
      "execution_count": 72,
      "outputs": [
        {
          "output_type": "stream",
          "name": "stdout",
          "text": [
            "+-------+--------------+-----------+\n",
            "|movieId|average_rating|num_ratings|\n",
            "+-------+--------------+-----------+\n",
            "|     53|           5.0|          2|\n",
            "+-------+--------------+-----------+\n",
            "\n",
            "+---------------+--------------+\n",
            "|          title|average_rating|\n",
            "+---------------+--------------+\n",
            "|Lamerica (1994)|           5.0|\n",
            "+---------------+--------------+\n",
            "\n"
          ]
        }
      ]
    },
    {
      "cell_type": "code",
      "source": [
        "#7. Jaki procent filmów ma tylko maksymalne oceny?\n",
        "\n",
        "from pyspark.sql.functions import max\n",
        "\n",
        "#wczytanie zbiorów\n",
        "movies_df = spark.read.csv('movies.csv', header=True, inferSchema=True)\n",
        "ratings_df = spark.read.csv('ratings.csv', header=True, inferSchema=True)\n",
        "\n",
        "#wykonanie joina\n",
        "joined_df = ratings_df.join(movies_df, on=\"movieId\", how=\"inner\")\n",
        "\n",
        "#wyświetlenie wyników\n",
        "joined_df.show()"
      ],
      "metadata": {
        "id": "PG3PtByYBAB8",
        "outputId": "2cfc421b-c53c-496f-abc3-b2d43cfca291",
        "colab": {
          "base_uri": "https://localhost:8080/"
        }
      },
      "id": "PG3PtByYBAB8",
      "execution_count": 73,
      "outputs": [
        {
          "output_type": "stream",
          "name": "stdout",
          "text": [
            "+-------+------+------+---------+--------------------+--------------------+\n",
            "|movieId|userId|rating|timestamp|               title|              genres|\n",
            "+-------+------+------+---------+--------------------+--------------------+\n",
            "|      1|     1|   4.0|964982703|    Toy Story (1995)|Adventure|Animati...|\n",
            "|      3|     1|   4.0|964981247|Grumpier Old Men ...|      Comedy|Romance|\n",
            "|      6|     1|   4.0|964982224|         Heat (1995)|Action|Crime|Thri...|\n",
            "|     47|     1|   5.0|964983815|Seven (a.k.a. Se7...|    Mystery|Thriller|\n",
            "|     50|     1|   5.0|964982931|Usual Suspects, T...|Crime|Mystery|Thr...|\n",
            "|     70|     1|   3.0|964982400|From Dusk Till Da...|Action|Comedy|Hor...|\n",
            "|    101|     1|   5.0|964980868|Bottle Rocket (1996)|Adventure|Comedy|...|\n",
            "|    110|     1|   4.0|964982176|   Braveheart (1995)|    Action|Drama|War|\n",
            "|    151|     1|   5.0|964984041|      Rob Roy (1995)|Action|Drama|Roma...|\n",
            "|    157|     1|   5.0|964984100|Canadian Bacon (1...|          Comedy|War|\n",
            "|    163|     1|   5.0|964983650|    Desperado (1995)|Action|Romance|We...|\n",
            "|    216|     1|   5.0|964981208|Billy Madison (1995)|              Comedy|\n",
            "|    223|     1|   3.0|964980985|       Clerks (1994)|              Comedy|\n",
            "|    231|     1|   5.0|964981179|Dumb & Dumber (Du...|    Adventure|Comedy|\n",
            "|    235|     1|   4.0|964980908|      Ed Wood (1994)|        Comedy|Drama|\n",
            "|    260|     1|   5.0|964981680|Star Wars: Episod...|Action|Adventure|...|\n",
            "|    296|     1|   3.0|964982967| Pulp Fiction (1994)|Comedy|Crime|Dram...|\n",
            "|    316|     1|   3.0|964982310|     Stargate (1994)|Action|Adventure|...|\n",
            "|    333|     1|   5.0|964981179|    Tommy Boy (1995)|              Comedy|\n",
            "|    349|     1|   4.0|964982563|Clear and Present...|Action|Crime|Dram...|\n",
            "+-------+------+------+---------+--------------------+--------------------+\n",
            "only showing top 20 rows\n",
            "\n"
          ]
        }
      ]
    },
    {
      "cell_type": "code",
      "source": [
        "#7. Jaki procent filmow ma tylko maksymalne oceny?\n",
        "\n",
        "from pyspark.sql.functions import col, avg\n",
        "\n",
        "#wczytanie potrzebnych zbiorów\n",
        "movies_df = spark.read.csv('movies.csv', header=True, inferSchema=True)\n",
        "ratings_df = spark.read.csv('ratings.csv', header=True, inferSchema=True)\n",
        "\n",
        "#joinuje tabele z ocenami i filmami po movieId\n",
        "joined_df = ratings_df.join(movies_df, on=\"movieId\", how=\"inner\")\n",
        "\n",
        "#znalezienie średniej oceny dla każdego filmu\n",
        "avg_ratings_df = joined_df.groupBy(\"title\").agg(avg(\"rating\").alias(\"avg_rating\"))\n",
        "\n",
        "#znalezienie filmów których średnia ocena wynosi 5.0 (jeśli średnia wynosi 5 to wiemy że każda ocena dla tego filmu była 5.0 czyli maksymalna)\n",
        "max_avg_rating_movies_df = avg_ratings_df.filter(col(\"avg_rating\") == 5.0)\n",
        "\n",
        "#obliczenie procentu filmów, których średnia ocena wynosi 5.0\n",
        "total_movies = avg_ratings_df.select(\"title\").distinct().count()\n",
        "max_avg_rating_movies_count = max_avg_rating_movies_df.select(\"title\").distinct().count()\n",
        "\n",
        "percentage_max_avg_rating_movies = (max_avg_rating_movies_count / total_movies) * 100\n",
        "\n",
        "print('Procent filmów wyłącznie z maksymalną oceną:', percentage_max_avg_rating_movies)"
      ],
      "metadata": {
        "id": "wwdJ-KXgVR7a",
        "outputId": "b4b5ac3e-d5ac-4983-e19c-2bc98c99096e",
        "colab": {
          "base_uri": "https://localhost:8080/"
        }
      },
      "id": "wwdJ-KXgVR7a",
      "execution_count": 74,
      "outputs": [
        {
          "output_type": "stream",
          "name": "stdout",
          "text": [
            "Procent filmów wyłącznie z maksymalną oceną: 3.045580821072127\n"
          ]
        }
      ]
    },
    {
      "cell_type": "code",
      "source": [
        "#8. Ktory film na najwyzsza minimalna ocene? Jesli jest takich wiele podaj ten z najwieksza liczba glosow.\n",
        "\n",
        "from pyspark.sql.functions import col, min, count\n",
        "\n",
        "#wczytanie zbiorów\n",
        "ratings_df = spark.read.csv('ratings.csv', header=True, inferSchema=True)\n",
        "movies_df = spark.read.csv('movies.csv', header=True, inferSchema=True)\n",
        "\n",
        "#znalezienie minimalnej oceny dla każdego filmu\n",
        "min_ratings_per_movie = ratings_df.groupBy(\"movieId\").agg(min(\"rating\").alias(\"min_rating\"))\n",
        "\n",
        "#znalezienie filmu z najwyższą minimalną oceną i największą liczbą głosów\n",
        "top_movie = min_ratings_per_movie.join(\n",
        "    ratings_df,\n",
        "    on=[\"movieId\"],\n",
        "    how=\"inner\"\n",
        ").join(\n",
        "    movies_df.select(\"movieId\", \"title\"),\n",
        "    on=\"movieId\",\n",
        "    how=\"inner\"\n",
        ").groupBy(\"movieId\", \"title\", \"min_rating\").agg(count(\"*\").alias(\"num_votes\")).orderBy(\n",
        "    col(\"min_rating\").desc(), col(\"num_votes\").desc()\n",
        ").first()\n",
        "\n",
        "print(\"Film z najwyższą minimalną oceną:\")\n",
        "print(f\"Tytuł: {top_movie['title']}\")\n",
        "print(f\"Ocena: {top_movie['min_rating']}\")\n",
        "print(f\"Liczba głosów: {top_movie['num_votes']}\")"
      ],
      "metadata": {
        "id": "QHSUTnd4B-10",
        "outputId": "63b4aa58-c8bd-4a1f-bd07-0b0f19014a75",
        "colab": {
          "base_uri": "https://localhost:8080/"
        }
      },
      "id": "QHSUTnd4B-10",
      "execution_count": 75,
      "outputs": [
        {
          "output_type": "stream",
          "name": "stdout",
          "text": [
            "Film z najwyższą minimalną oceną:\n",
            "Tytuł: Lamerica (1994)\n",
            "Ocena: 5.0\n",
            "Liczba głosów: 2\n"
          ]
        }
      ]
    },
    {
      "cell_type": "code",
      "source": [
        "#9. Jaki jest rozklad ocen?\n",
        "from pyspark.sql.functions import col, count\n",
        "\n",
        "#wczytanie zbioru\n",
        "ratings_df = spark.read.csv('ratings.csv', header=True, inferSchema=True)\n",
        "\n",
        "#obliczenie rozkładu ocen\n",
        "rating_distribution = ratings_df.groupBy(\"rating\").agg(count(\"*\").alias(\"count\")).orderBy(\"rating\")\n",
        "\n",
        "print(\"Rozkład ocen:\")\n",
        "rating_distribution.show()"
      ],
      "metadata": {
        "id": "Z4cCfh6IF3PP",
        "outputId": "76ecdddc-f59c-4691-deea-4de324c2fa06",
        "colab": {
          "base_uri": "https://localhost:8080/"
        }
      },
      "id": "Z4cCfh6IF3PP",
      "execution_count": 76,
      "outputs": [
        {
          "output_type": "stream",
          "name": "stdout",
          "text": [
            "Rozkład ocen:\n",
            "+------+-----+\n",
            "|rating|count|\n",
            "+------+-----+\n",
            "|   0.5| 1370|\n",
            "|   1.0| 2811|\n",
            "|   1.5| 1791|\n",
            "|   2.0| 7551|\n",
            "|   2.5| 5550|\n",
            "|   3.0|20047|\n",
            "|   3.5|13136|\n",
            "|   4.0|26818|\n",
            "|   4.5| 8551|\n",
            "|   5.0|13211|\n",
            "+------+-----+\n",
            "\n"
          ]
        }
      ]
    },
    {
      "cell_type": "code",
      "source": [
        "#10. Ile jest filmow zaklasyfikowanych jako dokumentalne 'documentary'?\n",
        "\n",
        "from pyspark.sql.functions import col\n",
        "\n",
        "#wczytanie zbioru\n",
        "movies_df = spark.read.csv('movies.csv', header=True, inferSchema=True)\n",
        "\n",
        "#obliczenie liczby filmów zaklasyfikowanych jako dokumentalne\n",
        "documentary_count = movies_df.filter(col(\"genres\").contains(\"Documentary\")).count()\n",
        "\n",
        "print(\"Liczba filmów sklasyfikowanych jako dokumenty\", documentary_count)"
      ],
      "metadata": {
        "id": "JaNmakDiOSb_",
        "outputId": "fd9bea10-3212-4615-9d7b-cf5c79e0ecf7",
        "colab": {
          "base_uri": "https://localhost:8080/"
        }
      },
      "id": "JaNmakDiOSb_",
      "execution_count": 77,
      "outputs": [
        {
          "output_type": "stream",
          "name": "stdout",
          "text": [
            "Liczba filmów sklasyfikowanych jako dokumenty 440\n"
          ]
        }
      ]
    },
    {
      "cell_type": "code",
      "source": [
        "#11. Ktory z filmow dokumentalnych z conajmniej 10 glosami ma najwysza srednia ocene?\n",
        "\n",
        "from pyspark.sql.functions import col, count, avg\n",
        "\n",
        "#wczytanie zbiorów\n",
        "ratings_df = spark.read.csv('ratings.csv', header=True, inferSchema=True)\n",
        "movies_df = spark.read.csv('movies.csv', header=True, inferSchema=True)\n",
        "\n",
        "#znalezienie filmów dokumentalnych z co najmniej 10 ocenami\n",
        "documentary_ratings = ratings_df.join(movies_df, on=\"movieId\", how=\"inner\").filter(col(\"genres\").contains(\"Documentary\"))\n",
        "documentary_ratings_count = documentary_ratings.groupBy(\"movieId\").agg(count(\"*\").alias(\"num_ratings\"))\n",
        "documentary_with_min_10_ratings = documentary_ratings_count.filter(col(\"num_ratings\") >= 10)\n",
        "\n",
        "#obliczenie średniej oceny i znalezienie filmu z najwyższą średnią oceną\n",
        "top_documentary = documentary_with_min_10_ratings.join(\n",
        "    ratings_df,\n",
        "    on=\"movieId\",\n",
        "    how=\"inner\"\n",
        ").join(\n",
        "    movies_df.select(\"movieId\", \"title\"),\n",
        "    on=\"movieId\",\n",
        "    how=\"inner\"\n",
        ").groupBy(\"movieId\", \"title\").agg(avg(\"rating\").alias(\"avg_rating\")).orderBy(\n",
        "    col(\"avg_rating\").desc()\n",
        ").first()\n",
        "\n",
        "# Wyświetlenie wyników\n",
        "print(\"Film dokumentalny z min 10 głosami i najwyższą oceną średnią:\")\n",
        "print(f\"Tytuł: {top_documentary['title']}\")\n",
        "print(f\"Średnia ocen: {top_documentary['avg_rating']}\")"
      ],
      "metadata": {
        "id": "wNLRR61xOTCs",
        "outputId": "2fb3526e-d75d-4993-b858-6a23207af2cf",
        "colab": {
          "base_uri": "https://localhost:8080/"
        }
      },
      "id": "wNLRR61xOTCs",
      "execution_count": 78,
      "outputs": [
        {
          "output_type": "stream",
          "name": "stdout",
          "text": [
            "Film dokumentalny z min 10 głosami i najwyższą oceną średnią:\n",
            "Tytuł: Fog of War: Eleven Lessons from the Life of Robert S. McNamara, The (2003)\n",
            "Średnia ocen: 4.3076923076923075\n"
          ]
        }
      ]
    },
    {
      "cell_type": "code",
      "source": [
        "#13. Ile srednio kategorii przypisanych jest do 1 filmu? Ktory film ma najwiecej kategorii (+co to za kategorie)?\n",
        "\n",
        "from pyspark.sql.functions import col, size, split, desc\n",
        "\n",
        "#wczytanie zbioru\n",
        "movies_df = spark.read.csv('movies.csv', header=True, inferSchema=True)\n",
        "\n",
        "#obliczenie średniej liczby kategorii przypisanych do jednego filmu\n",
        "avg_categories_per_movie = movies_df.withColumn(\"categories\", size(split(col(\"genres\"), \"\\\\|\"))) \\\n",
        "    .agg({\"categories\": \"avg\"}).collect()[0][0]\n",
        "\n",
        "print(\"Średnia liczba kategorii przypisanych do jednego filmu:\", avg_categories_per_movie)\n",
        "\n",
        "#znalezienie filmu z największą liczbą kategorii i wyświetlenie tych kategorii\n",
        "max_categories_movie = movies_df.withColumn(\"categories\", size(split(col(\"genres\"), \"\\\\|\"))) \\\n",
        "    .select(\"movieId\", \"title\", \"genres\", \"categories\") \\\n",
        "    .orderBy(desc(\"categories\")).first()\n",
        "\n",
        "print(\"Film z największą liczbą przypisanych kategorii:\")\n",
        "print(\"ID filmu:\", max_categories_movie[\"movieId\"])\n",
        "print(\"Tytuł:\", max_categories_movie[\"title\"])\n",
        "print(\"Przypisane kategorie:\", max_categories_movie[\"genres\"])\n",
        "print(\"Liczba kategorii:\", max_categories_movie[\"categories\"])"
      ],
      "metadata": {
        "id": "9_SG-LGdPCL4",
        "outputId": "04060dbd-a7d6-46d9-b06c-d69eabba0300",
        "colab": {
          "base_uri": "https://localhost:8080/"
        }
      },
      "id": "9_SG-LGdPCL4",
      "execution_count": 79,
      "outputs": [
        {
          "output_type": "stream",
          "name": "stdout",
          "text": [
            "Średnia liczba kategorii przypisanych do jednego filmu: 2.2668856497639087\n",
            "Film z największą liczbą przypisanych kategorii:\n",
            "ID filmu: 81132\n",
            "Tytuł: Rubber (2010)\n",
            "Przypisane kategorie: Action|Adventure|Comedy|Crime|Drama|Film-Noir|Horror|Mystery|Thriller|Western\n",
            "Liczba kategorii: 10\n"
          ]
        }
      ]
    }
  ],
  "metadata": {
    "kernelspec": {
      "display_name": "Python 3 (ipykernel)",
      "language": "python",
      "name": "python3"
    },
    "language_info": {
      "codemirror_mode": {
        "name": "ipython",
        "version": 3
      },
      "file_extension": ".py",
      "mimetype": "text/x-python",
      "name": "python",
      "nbconvert_exporter": "python",
      "pygments_lexer": "ipython3",
      "version": "3.8.12"
    },
    "colab": {
      "provenance": []
    }
  },
  "nbformat": 4,
  "nbformat_minor": 5
}