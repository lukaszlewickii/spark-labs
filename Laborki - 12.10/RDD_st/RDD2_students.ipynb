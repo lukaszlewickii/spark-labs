{
 "cells": [
  {
   "cell_type": "code",
   "execution_count": null,
   "metadata": {},
   "outputs": [],
   "source": [
    "%matplotlib inline\n",
    "import matplotlib.pyplot as plt\n",
    "import pyspark\n",
    "sc = pyspark.SparkContext(master=\"local[*]\",appName=\"RDDfun\")"
   ]
  },
  {
   "cell_type": "markdown",
   "metadata": {},
   "source": [
    "https://archive.ics.uci.edu/ml/datasets/Adult\n",
    "\n",
    "### Zmienne\n",
    "**age**: continuous.\n",
    "\n",
    "**workclass**: Private, Self-emp-not-inc, Self-emp-inc, Federal-gov, Local-gov, State-gov, Without-pay, Never-worked.\n",
    "\n",
    "_**fnlwgt**: continuous._\n",
    "\n",
    "**education**: Bachelors, Some-college, 11th, HS-grad, Prof-school, Assoc-acdm, Assoc-voc, 9th, 7th-8th, 12th, Masters, 1st-4th, 10th, Doctorate, 5th-6th, Preschool.\n",
    "\n",
    "**education-num**: continuous.\n",
    "\n",
    "**marital-status**: Married-civ-spouse, Divorced, Never-married, Separated, Widowed, Married-spouse-absent, Married-AF-spouse.\n",
    "\n",
    "**occupation**: Tech-support, Craft-repair, Other-service, Sales, Exec-managerial, Prof-specialty, Handlers-cleaners, Machine-op-inspct, Adm-clerical, Farming-fishing, Transport-moving, Priv-house-serv, Protective-serv, Armed-Forces.\n",
    "\n",
    "**relationship**: Wife, Own-child, Husband, Not-in-family, Other-relative, Unmarried.\n",
    "\n",
    "**race**: White, Asian-Pac-Islander, Amer-Indian-Eskimo, Other, Black.\n",
    "\n",
    "**sex**: Female, Male.\n",
    "\n",
    "**capital-gain**: continuous.\n",
    "\n",
    "**capital-loss**: continuous.\n",
    "\n",
    "**hours-per-week**: continuous.\n",
    "\n",
    "**native-country**: United-States, Cambodia, England, Puerto-Rico, Canada, Germany, Outlying-US(Guam-USVI-etc), India, Japan, Greece, South, China, Cuba, Iran, Honduras, Philippines, Italy, Poland, Jamaica, Vietnam, Mexico, Portugal, Ireland, France, Dominican-Republic, Laos, Ecuador, Taiwan, Haiti, Columbia, Hungary, Guatemala, Nicaragua, Scotland, Thailand, Yugoslavia, El-Salvador, Trinadad&Tobago, Peru, Hong, Holand-Netherlands."
   ]
  },
  {
   "cell_type": "code",
   "execution_count": null,
   "metadata": {
    "scrolled": true
   },
   "outputs": [],
   "source": [
    "rawData = sc.textFile(\".../adult.data\")\n",
    "rawData.take(2)"
   ]
  },
  {
   "cell_type": "markdown",
   "metadata": {},
   "source": [
    "### Przygotowanie danych\n",
    "- podzielenie stringow\n",
    "- sprawdzenie czy występuja braki danych i ewentualne rozwiazanie problemu\n",
    "- usuniecie niechcianej zmiennej `fnlwgt`\n",
    "- cache() otrzymanego zbioru"
   ]
  },
  {
   "cell_type": "markdown",
   "metadata": {},
   "source": [
    "### Wstępna eksploracja zmiennych\n",
    "1. stworzenie wykresu zmiennej `age` ( (age, l.wystapien) -> plt.bar() )\n",
    "2. zliczenie liczby wystapien poziomow zmiennej `workclass`\n",
    "3. sprawdzenie czy czestosc wystapien wartosci zmiennej `education` zgadza sie z czestoscia wystapien zmiennej `education-num`; polaczenie poziomu wyksztalcenia z dlugoscia nauki wykorzystujac liczbe wystapien jako klucz\n",
    "4. porownanie wykonywanych zawodow (`occupation`) przez osoby w zwiazku malzenskim (`marital-status` = 'Married-civ-spouse') oraz poza ('Never-married')\n",
    "5. zliczenie liczby obserwacji dla kazdej wartosci zmiennej `relationship`\n",
    "6. stworzenie macierzy kontyngencji `race` x `sex`\n",
    "7. pogrupowanie obserwacji ze wzgledu na `capital-gain` w przedzialy ['0','1-1000','1001-10000','10001-50000','>50000'] oraz zliczenie liczby rekordow w kazdej z nich\n",
    "8. pogrupowanie obserwacji ze wzgledu na `capital-loss` w przedzialy ['0','1-100','101-1000','1001-2000','>2000'] oraz zliczenie liczby rekordow w kazdej z nich\n",
    "9. stworzenie histogramu zmiennej `hours-per-week` o przedzialach [0,8,16,24,32,40,48,56,64,72,80,88,96,100]\n",
    "10. stworzenie wykresu zmiennej `native-country` (barplot)"
   ]
  },
  {
   "cell_type": "markdown",
   "metadata": {},
   "source": [
    "### I dalej...\n",
    "1. tabela zawierajaca kolumny: wiek, liczba obserwacji, % udzial kobiet, % udzial mezczyzn\n",
    "2. tabela zawierajaca kolumny: wyksztalcenie, zawod (`occupation`), liczba obserwacji, sredni wiek, sredni `capital-gain`\n",
    "3. crosstabela `education` x `sex` z liczba obserwacji i procentowym udzialem osob zarabiajacych `>50K`"
   ]
  }
 ],
 "metadata": {
  "kernelspec": {
   "display_name": "Python 3 (ipykernel)",
   "language": "python",
   "name": "python3"
  },
  "language_info": {
   "codemirror_mode": {
    "name": "ipython",
    "version": 3
   },
   "file_extension": ".py",
   "mimetype": "text/x-python",
   "name": "python",
   "nbconvert_exporter": "python",
   "pygments_lexer": "ipython3",
   "version": "3.8.12"
  }
 },
 "nbformat": 4,
 "nbformat_minor": 2
}
