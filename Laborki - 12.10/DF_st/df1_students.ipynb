{
  "cells": [
    {
      "cell_type": "markdown",
      "metadata": {
        "id": "view-in-github",
        "colab_type": "text"
      },
      "source": [
        "<a href=\"https://colab.research.google.com/github/lukaszlewickii/spark_labs/blob/main/df1_students.ipynb\" target=\"_parent\"><img src=\"https://colab.research.google.com/assets/colab-badge.svg\" alt=\"Open In Colab\"/></a>"
      ]
    },
    {
      "cell_type": "markdown",
      "metadata": {
        "id": "q5sHiCUmkItP"
      },
      "source": [
        "# DataFrame"
      ]
    },
    {
      "cell_type": "markdown",
      "metadata": {
        "id": "qYO6m00QkItQ"
      },
      "source": [
        "http://spark.apache.org/docs/2.2.0/api/python/pyspark.sql.html#pyspark-sql-module"
      ]
    },
    {
      "cell_type": "code",
      "source": [
        "!pip install pyspark"
      ],
      "metadata": {
        "colab": {
          "base_uri": "https://localhost:8080/"
        },
        "id": "9O4VP_pSkO8w",
        "outputId": "b492d54a-3b48-4718-94be-7b3cb57f54e9"
      },
      "execution_count": null,
      "outputs": [
        {
          "output_type": "stream",
          "name": "stdout",
          "text": [
            "Collecting pyspark\n",
            "  Downloading pyspark-3.5.0.tar.gz (316.9 MB)\n",
            "\u001b[2K     \u001b[90m━━━━━━━━━━━━━━━━━━━━━━━━━━━━━━━━━━━━━━━━\u001b[0m \u001b[32m316.9/316.9 MB\u001b[0m \u001b[31m3.7 MB/s\u001b[0m eta \u001b[36m0:00:00\u001b[0m\n",
            "\u001b[?25h  Preparing metadata (setup.py) ... \u001b[?25l\u001b[?25hdone\n",
            "Requirement already satisfied: py4j==0.10.9.7 in /usr/local/lib/python3.10/dist-packages (from pyspark) (0.10.9.7)\n",
            "Building wheels for collected packages: pyspark\n",
            "  Building wheel for pyspark (setup.py) ... \u001b[?25l\u001b[?25hdone\n",
            "  Created wheel for pyspark: filename=pyspark-3.5.0-py2.py3-none-any.whl size=317425344 sha256=b0d5e6ab038d74fa965a8ca615eda0c44192de72ca7a9508b2db3dd4d1d4d118\n",
            "  Stored in directory: /root/.cache/pip/wheels/41/4e/10/c2cf2467f71c678cfc8a6b9ac9241e5e44a01940da8fbb17fc\n",
            "Successfully built pyspark\n",
            "Installing collected packages: pyspark\n",
            "Successfully installed pyspark-3.5.0\n"
          ]
        }
      ]
    },
    {
      "cell_type": "code",
      "execution_count": null,
      "metadata": {
        "id": "VEhFZ3uBkItQ"
      },
      "outputs": [],
      "source": [
        "from pyspark.sql import SparkSession\n",
        "from pyspark.sql import Row\n",
        "\n",
        "spark = SparkSession.builder \\\n",
        "    .appName('DataFrame_1') \\\n",
        "    .master('local[*]') \\\n",
        "    .getOrCreate()"
      ]
    },
    {
      "cell_type": "code",
      "execution_count": null,
      "metadata": {
        "id": "IzGo0wErkItR"
      },
      "outputs": [],
      "source": [
        "sc = spark.sparkContext"
      ]
    },
    {
      "cell_type": "code",
      "execution_count": null,
      "metadata": {
        "id": "KZp_xgUukItR"
      },
      "outputs": [],
      "source": [
        "# Wczytanie DataFrame bezposrednio z JSON oraz CSV\n",
        "people = spark.read.json('people.json')\n",
        "employees = spark.read.json('employees.json')\n",
        "people_txt = spark.read.option(\"inferSchema\", \"true\").csv('people.txt')"
      ]
    },
    {
      "cell_type": "code",
      "execution_count": null,
      "metadata": {
        "colab": {
          "base_uri": "https://localhost:8080/"
        },
        "id": "Kc46wELakItR",
        "outputId": "98fe5461-69cd-4b97-d0b9-5d7c32e981e3"
      },
      "outputs": [
        {
          "output_type": "stream",
          "name": "stdout",
          "text": [
            "+-------+----+\n",
            "|    _c0| _c1|\n",
            "+-------+----+\n",
            "|Michael|29.0|\n",
            "|   Andy|30.0|\n",
            "| Justin|19.0|\n",
            "+-------+----+\n",
            "\n"
          ]
        }
      ],
      "source": [
        "people_txt.show()"
      ]
    },
    {
      "cell_type": "markdown",
      "metadata": {
        "id": "O1-kiKxHkItR"
      },
      "source": [
        "****"
      ]
    },
    {
      "cell_type": "markdown",
      "metadata": {
        "id": "9oAXoJoNkItS"
      },
      "source": [
        "### DataFrame to lista wierszy"
      ]
    },
    {
      "cell_type": "code",
      "execution_count": null,
      "metadata": {
        "id": "aoaZxZoKkItS"
      },
      "outputs": [],
      "source": [
        "newPerson1 = Row(name='Greg', age=32)"
      ]
    },
    {
      "cell_type": "code",
      "execution_count": null,
      "metadata": {
        "colab": {
          "base_uri": "https://localhost:8080/"
        },
        "id": "35782ln5kItS",
        "outputId": "96414351-8f2b-4b10-aa17-b03552420c00"
      },
      "outputs": [
        {
          "output_type": "execute_result",
          "data": {
            "text/plain": [
              "Row(name='Greg', age=32)"
            ]
          },
          "metadata": {},
          "execution_count": 12
        }
      ],
      "source": [
        "newPerson1"
      ]
    },
    {
      "cell_type": "code",
      "execution_count": null,
      "metadata": {
        "colab": {
          "base_uri": "https://localhost:8080/",
          "height": 36
        },
        "id": "RpgTMW5UkItS",
        "outputId": "f14e9aff-33cf-40f5-9336-384267af77d8"
      },
      "outputs": [
        {
          "output_type": "execute_result",
          "data": {
            "text/plain": [
              "'Greg'"
            ],
            "application/vnd.google.colaboratory.intrinsic+json": {
              "type": "string"
            }
          },
          "metadata": {},
          "execution_count": 13
        }
      ],
      "source": [
        "newPerson1.name"
      ]
    },
    {
      "cell_type": "code",
      "execution_count": null,
      "metadata": {
        "colab": {
          "base_uri": "https://localhost:8080/"
        },
        "id": "MEmJOSPJkItS",
        "outputId": "cc43c41a-e765-4a18-e3a9-e0a28ca31b57"
      },
      "outputs": [
        {
          "output_type": "execute_result",
          "data": {
            "text/plain": [
              "32"
            ]
          },
          "metadata": {},
          "execution_count": 14
        }
      ],
      "source": [
        "newPerson1.age"
      ]
    },
    {
      "cell_type": "code",
      "execution_count": null,
      "metadata": {
        "colab": {
          "base_uri": "https://localhost:8080/"
        },
        "id": "k0Y__b-okItS",
        "outputId": "f69b5a1f-ce94-4a94-c538-3f467f794d06"
      },
      "outputs": [
        {
          "output_type": "execute_result",
          "data": {
            "text/plain": [
              "32"
            ]
          },
          "metadata": {},
          "execution_count": 15
        }
      ],
      "source": [
        "newPerson1['age']"
      ]
    },
    {
      "cell_type": "code",
      "execution_count": null,
      "metadata": {
        "colab": {
          "base_uri": "https://localhost:8080/"
        },
        "id": "rl5ZN9bskItS",
        "outputId": "b748166e-318b-4233-e39a-cd64776a91e1"
      },
      "outputs": [
        {
          "output_type": "execute_result",
          "data": {
            "text/plain": [
              "True"
            ]
          },
          "metadata": {},
          "execution_count": 16
        }
      ],
      "source": [
        "'age' in newPerson1"
      ]
    },
    {
      "cell_type": "code",
      "execution_count": null,
      "metadata": {
        "id": "0tOluC8qkItT"
      },
      "outputs": [],
      "source": [
        "newPerson = Row(\"age\", \"name\")"
      ]
    },
    {
      "cell_type": "code",
      "execution_count": null,
      "metadata": {
        "id": "f8QaxekTkItT"
      },
      "outputs": [],
      "source": [
        "newPerson2 = newPerson(24, 'Alice')"
      ]
    },
    {
      "cell_type": "code",
      "execution_count": null,
      "metadata": {
        "colab": {
          "base_uri": "https://localhost:8080/"
        },
        "id": "g4zAdHpjkItT",
        "outputId": "cf3df8c6-69a7-415f-8203-960c4d171a54"
      },
      "outputs": [
        {
          "output_type": "execute_result",
          "data": {
            "text/plain": [
              "Row(age=24, name='Alice')"
            ]
          },
          "metadata": {},
          "execution_count": 19
        }
      ],
      "source": [
        "newPerson2"
      ]
    },
    {
      "cell_type": "code",
      "execution_count": null,
      "metadata": {
        "id": "yqZzcMNEkItT"
      },
      "outputs": [],
      "source": [
        "newPerson3 = newPerson(None, None)\n",
        "newPerson4 = newPerson(33, None)\n",
        "newPerson5 = newPerson(None, 'Peter')\n",
        "newPerson6 = newPerson(32, 'Peter')\n",
        "newPerson7 = newPerson(40, 'Greg')"
      ]
    },
    {
      "cell_type": "code",
      "execution_count": null,
      "metadata": {
        "id": "eJ1vfyvwkItT"
      },
      "outputs": [],
      "source": [
        "newPeopleDF = spark.createDataFrame([newPerson1, newPerson2, newPerson3, newPerson4, newPerson5, newPerson6, newPerson7])"
      ]
    },
    {
      "cell_type": "code",
      "execution_count": null,
      "metadata": {
        "scrolled": true,
        "colab": {
          "base_uri": "https://localhost:8080/"
        },
        "id": "GENiXZU_kItT",
        "outputId": "2b97f3d6-5c86-4c12-e68b-0105c79ddc0c"
      },
      "outputs": [
        {
          "output_type": "stream",
          "name": "stdout",
          "text": [
            "+----+----+\n",
            "|name| age|\n",
            "+----+----+\n",
            "|Greg|  32|\n",
            "|  24|NULL|\n",
            "|NULL|NULL|\n",
            "|  33|NULL|\n",
            "|NULL|NULL|\n",
            "|  32|NULL|\n",
            "|  40|NULL|\n",
            "+----+----+\n",
            "\n"
          ]
        }
      ],
      "source": [
        "newPeopleDF.show()"
      ]
    },
    {
      "cell_type": "markdown",
      "metadata": {
        "id": "Qt2xsVTPkItT"
      },
      "source": [
        "### Przechodzenie RDD <-> DF"
      ]
    },
    {
      "cell_type": "code",
      "execution_count": null,
      "metadata": {
        "colab": {
          "base_uri": "https://localhost:8080/"
        },
        "id": "GQOprXsrkItT",
        "outputId": "ab9bf182-bf23-4266-cf21-eb6c1e623471"
      },
      "outputs": [
        {
          "output_type": "execute_result",
          "data": {
            "text/plain": [
              "pyspark.sql.dataframe.DataFrame"
            ]
          },
          "metadata": {},
          "execution_count": 23
        }
      ],
      "source": [
        "type(people)"
      ]
    },
    {
      "cell_type": "code",
      "execution_count": null,
      "metadata": {
        "colab": {
          "base_uri": "https://localhost:8080/"
        },
        "id": "_HfY2to-kItT",
        "outputId": "9c2fbb49-0b1f-4fa2-9814-b247888dfbce"
      },
      "outputs": [
        {
          "output_type": "execute_result",
          "data": {
            "text/plain": [
              "DataFrame[age: bigint, name: string]"
            ]
          },
          "metadata": {},
          "execution_count": 24
        }
      ],
      "source": [
        "people"
      ]
    },
    {
      "cell_type": "code",
      "execution_count": null,
      "metadata": {
        "colab": {
          "base_uri": "https://localhost:8080/"
        },
        "id": "GgffPDM7kItU",
        "outputId": "3de9d7ec-bc35-4f9f-829b-df004459146c"
      },
      "outputs": [
        {
          "output_type": "execute_result",
          "data": {
            "text/plain": [
              "[Row(age=None, name='Michael'),\n",
              " Row(age=30, name='Andy'),\n",
              " Row(age=19, name='Justin')]"
            ]
          },
          "metadata": {},
          "execution_count": 25
        }
      ],
      "source": [
        "people.collect()"
      ]
    },
    {
      "cell_type": "markdown",
      "metadata": {
        "id": "N7I8D59akItU"
      },
      "source": [
        "DF -> RDD"
      ]
    },
    {
      "cell_type": "code",
      "execution_count": null,
      "metadata": {
        "scrolled": true,
        "colab": {
          "base_uri": "https://localhost:8080/"
        },
        "id": "WBKk6wC-kItU",
        "outputId": "31874af2-5a27-4165-88ee-9438470ea40f"
      },
      "outputs": [
        {
          "output_type": "execute_result",
          "data": {
            "text/plain": [
              "pyspark.rdd.RDD"
            ]
          },
          "metadata": {},
          "execution_count": 26
        }
      ],
      "source": [
        "type(people.rdd)"
      ]
    },
    {
      "cell_type": "code",
      "execution_count": null,
      "metadata": {
        "colab": {
          "base_uri": "https://localhost:8080/"
        },
        "id": "CYnZhyS_kItU",
        "outputId": "51a2a5f1-dcc8-4d7a-ea49-3a2c76747ec2"
      },
      "outputs": [
        {
          "output_type": "execute_result",
          "data": {
            "text/plain": [
              "[Row(age=None, name='Michael'),\n",
              " Row(age=30, name='Andy'),\n",
              " Row(age=19, name='Justin')]"
            ]
          },
          "metadata": {},
          "execution_count": 27
        }
      ],
      "source": [
        "people.rdd.collect()"
      ]
    },
    {
      "cell_type": "code",
      "execution_count": null,
      "metadata": {
        "colab": {
          "base_uri": "https://localhost:8080/"
        },
        "id": "zk9WL38OkItU",
        "outputId": "e11c42ff-d80d-4b26-cb39-3233b8f88e02"
      },
      "outputs": [
        {
          "output_type": "execute_result",
          "data": {
            "text/plain": [
              "[(None, 'Michael'), (30, 'Andy'), (19, 'Justin')]"
            ]
          },
          "metadata": {},
          "execution_count": 28
        }
      ],
      "source": [
        "people.rdd.map(tuple).collect()"
      ]
    },
    {
      "cell_type": "markdown",
      "metadata": {
        "id": "-FAP52BikItU"
      },
      "source": [
        "RDD -> DF"
      ]
    },
    {
      "cell_type": "code",
      "execution_count": null,
      "metadata": {
        "colab": {
          "base_uri": "https://localhost:8080/"
        },
        "id": "FZ4gHkaVkItU",
        "outputId": "7bf5a6f8-e17e-4ee3-d9f1-d79744f1b08c"
      },
      "outputs": [
        {
          "output_type": "execute_result",
          "data": {
            "text/plain": [
              "DataFrame[age: bigint, name: string]"
            ]
          },
          "metadata": {},
          "execution_count": 30
        }
      ],
      "source": [
        "people.rdd.toDF()"
      ]
    },
    {
      "cell_type": "code",
      "execution_count": null,
      "metadata": {
        "colab": {
          "base_uri": "https://localhost:8080/"
        },
        "id": "SFsNKwaqkItU",
        "outputId": "52bfebc5-6dd5-4d61-b4fa-17eb66aef2c2"
      },
      "outputs": [
        {
          "output_type": "execute_result",
          "data": {
            "text/plain": [
              "[Row(_1=None, _2='Michael'), Row(_1=30, _2='Andy'), Row(_1=19, _2='Justin')]"
            ]
          },
          "metadata": {},
          "execution_count": 31
        }
      ],
      "source": [
        "people.rdd.map(tuple).toDF().collect()"
      ]
    },
    {
      "cell_type": "markdown",
      "metadata": {
        "id": "leLOgKT3kItU"
      },
      "source": [
        "Podanie schematu wprost przy tworzeniu DF"
      ]
    },
    {
      "cell_type": "markdown",
      "metadata": {
        "id": "PPFwUR1fkItU"
      },
      "source": [
        "Typy danych: http://spark.apache.org/docs/2.1.0/api/python/pyspark.sql.html#module-pyspark.sql.types <br>\n",
        "https://spark.apache.org/docs/latest/sql-programming-guide.html#data-types <br>\n",
        "Kilka podstawowych: IntegerType, DoubleType, FloatType, StringType, BooleanType, NullType"
      ]
    },
    {
      "cell_type": "code",
      "execution_count": null,
      "metadata": {
        "id": "j4HOHIdSkItU"
      },
      "outputs": [],
      "source": [
        "from pyspark.sql.types import IntegerType, StringType, StructType, StructField\n",
        "schema = StructType([StructField(\"V1\", IntegerType()), StructField(\"V2\", StringType())])\n",
        "df = spark.createDataFrame([[1,2],[3,4]], schema)"
      ]
    },
    {
      "cell_type": "code",
      "execution_count": null,
      "metadata": {
        "scrolled": true,
        "colab": {
          "base_uri": "https://localhost:8080/"
        },
        "id": "kv0TRGXHkItV",
        "outputId": "9e40f550-0116-460f-be40-422980143919"
      },
      "outputs": [
        {
          "output_type": "stream",
          "name": "stdout",
          "text": [
            "+---+---+\n",
            "| V1| V2|\n",
            "+---+---+\n",
            "|  1|  2|\n",
            "|  3|  4|\n",
            "+---+---+\n",
            "\n"
          ]
        }
      ],
      "source": [
        "# Data Frame nadal jest lista wierszy\n",
        "df.show()"
      ]
    },
    {
      "cell_type": "markdown",
      "metadata": {
        "id": "AQcfJhhKkItV"
      },
      "source": [
        "> **TODO**: Z podanego RDD utworz DataFrame. <br>\n",
        "Wskazowka: DataFrame stworzymy latwo z RDD Rows<br>"
      ]
    },
    {
      "cell_type": "code",
      "source": [
        "myRDD = sc.textFile('people.txt')\n",
        "print(type(myRDD))"
      ],
      "metadata": {
        "colab": {
          "base_uri": "https://localhost:8080/"
        },
        "id": "dg_-9FJmmBmd",
        "outputId": "34786ebd-6457-44b4-a94e-c746c34b46c8"
      },
      "execution_count": null,
      "outputs": [
        {
          "output_type": "stream",
          "name": "stdout",
          "text": [
            "<class 'pyspark.rdd.RDD'>\n"
          ]
        }
      ]
    },
    {
      "cell_type": "code",
      "source": [
        "myRDD"
      ],
      "metadata": {
        "colab": {
          "base_uri": "https://localhost:8080/"
        },
        "id": "ghCQKOu8rWSF",
        "outputId": "1cb9bf81-5d18-4a18-edd1-91481893b100"
      },
      "execution_count": null,
      "outputs": [
        {
          "output_type": "execute_result",
          "data": {
            "text/plain": [
              "people.txt MapPartitionsRDD[112] at textFile at NativeMethodAccessorImpl.java:0"
            ]
          },
          "metadata": {},
          "execution_count": 61
        }
      ]
    },
    {
      "cell_type": "markdown",
      "metadata": {
        "id": "mFCsVSC8kItV"
      },
      "source": [
        "#### Ogolne wiadomosci na temat danych\n",
        "printSchema, show, columns, dtypes <br>\n",
        "Znane z RDD np: count, take, head"
      ]
    },
    {
      "cell_type": "code",
      "execution_count": null,
      "metadata": {
        "colab": {
          "base_uri": "https://localhost:8080/"
        },
        "id": "SOIRSrh6kItV",
        "outputId": "15121852-6c35-458a-e20b-2e19419b1614"
      },
      "outputs": [
        {
          "output_type": "stream",
          "name": "stdout",
          "text": [
            "+----+-------+\n",
            "| age|   name|\n",
            "+----+-------+\n",
            "|NULL|Michael|\n",
            "|  30|   Andy|\n",
            "|  19| Justin|\n",
            "+----+-------+\n",
            "\n"
          ]
        }
      ],
      "source": [
        "people.show()"
      ]
    },
    {
      "cell_type": "code",
      "execution_count": null,
      "metadata": {
        "scrolled": true,
        "colab": {
          "base_uri": "https://localhost:8080/"
        },
        "id": "CwYB1mp1kItV",
        "outputId": "c5c2413f-171a-4926-f626-b3484d42d774"
      },
      "outputs": [
        {
          "output_type": "stream",
          "name": "stdout",
          "text": [
            "root\n",
            " |-- age: long (nullable = true)\n",
            " |-- name: string (nullable = true)\n",
            "\n"
          ]
        }
      ],
      "source": [
        "people.printSchema() ## Print the schema in a tree format"
      ]
    },
    {
      "cell_type": "code",
      "execution_count": null,
      "metadata": {
        "colab": {
          "base_uri": "https://localhost:8080/"
        },
        "id": "SrG6TYB_kItZ",
        "outputId": "4bc1d733-ed94-4c3b-f363-c6b29e23a97a"
      },
      "outputs": [
        {
          "output_type": "stream",
          "name": "stdout",
          "text": [
            "root\n",
            " |-- name: string (nullable = true)\n",
            " |-- salary: long (nullable = true)\n",
            "\n"
          ]
        }
      ],
      "source": [
        "employees.printSchema()"
      ]
    },
    {
      "cell_type": "code",
      "execution_count": null,
      "metadata": {
        "colab": {
          "base_uri": "https://localhost:8080/"
        },
        "id": "l49tK0ahkItZ",
        "outputId": "7e09d5ab-fe50-48dd-af89-ba571165e47a"
      },
      "outputs": [
        {
          "output_type": "stream",
          "name": "stdout",
          "text": [
            "root\n",
            " |-- _c0: string (nullable = true)\n",
            " |-- _c1: double (nullable = true)\n",
            "\n"
          ]
        }
      ],
      "source": [
        "people_txt.printSchema()"
      ]
    },
    {
      "cell_type": "code",
      "execution_count": null,
      "metadata": {
        "colab": {
          "base_uri": "https://localhost:8080/"
        },
        "id": "JVJ8J2qWkItZ",
        "outputId": "7a478d5c-ee20-4ad6-e15b-a60d1fc9428b"
      },
      "outputs": [
        {
          "output_type": "stream",
          "name": "stdout",
          "text": [
            "+-------+----+\n",
            "|    _c0| _c1|\n",
            "+-------+----+\n",
            "|Michael|29.0|\n",
            "+-------+----+\n",
            "only showing top 1 row\n",
            "\n"
          ]
        }
      ],
      "source": [
        "people_txt.show(1)"
      ]
    },
    {
      "cell_type": "code",
      "execution_count": null,
      "metadata": {
        "colab": {
          "base_uri": "https://localhost:8080/"
        },
        "id": "zT5XtkOHkIta",
        "outputId": "c8bdb800-2383-415b-a17f-25ff14cf5233"
      },
      "outputs": [
        {
          "output_type": "stream",
          "name": "stdout",
          "text": [
            "+----+-------+\n",
            "| age|   name|\n",
            "+----+-------+\n",
            "|NULL|Michael|\n",
            "+----+-------+\n",
            "only showing top 1 row\n",
            "\n"
          ]
        }
      ],
      "source": [
        "people.show(1)"
      ]
    },
    {
      "cell_type": "code",
      "execution_count": null,
      "metadata": {
        "colab": {
          "base_uri": "https://localhost:8080/"
        },
        "id": "nwKi4WO7kIta",
        "outputId": "ea1b5104-c588-4b41-8da6-f7d0429cfaa6"
      },
      "outputs": [
        {
          "output_type": "stream",
          "name": "stdout",
          "text": [
            "+-------+----+\n",
            "|    _c0| _c1|\n",
            "+-------+----+\n",
            "|Michael|29.0|\n",
            "+-------+----+\n",
            "only showing top 1 row\n",
            "\n"
          ]
        }
      ],
      "source": [
        "people_txt.show(1)"
      ]
    },
    {
      "cell_type": "markdown",
      "metadata": {
        "id": "Pag3k3FDkIta"
      },
      "source": [
        "Liczba wierszy"
      ]
    },
    {
      "cell_type": "code",
      "execution_count": null,
      "metadata": {
        "colab": {
          "base_uri": "https://localhost:8080/"
        },
        "id": "mqFNWyJ9kIta",
        "outputId": "a99dbb27-ae8e-4006-f1b4-eeb3da22d9c6"
      },
      "outputs": [
        {
          "output_type": "execute_result",
          "data": {
            "text/plain": [
              "3"
            ]
          },
          "metadata": {},
          "execution_count": 45
        }
      ],
      "source": [
        "people.count()"
      ]
    },
    {
      "cell_type": "markdown",
      "metadata": {
        "id": "IobFqld2kIta"
      },
      "source": [
        "Lista kolumn"
      ]
    },
    {
      "cell_type": "code",
      "execution_count": null,
      "metadata": {
        "colab": {
          "base_uri": "https://localhost:8080/"
        },
        "id": "ef3HsuX-kIta",
        "outputId": "14651eb8-a71f-4c61-eca5-4980725fbde0"
      },
      "outputs": [
        {
          "output_type": "execute_result",
          "data": {
            "text/plain": [
              "['age', 'name']"
            ]
          },
          "metadata": {},
          "execution_count": 46
        }
      ],
      "source": [
        "people.columns"
      ]
    },
    {
      "cell_type": "markdown",
      "metadata": {
        "id": "ijom3q2fkIta"
      },
      "source": [
        "Lista kolumn wraz z typami danych"
      ]
    },
    {
      "cell_type": "code",
      "execution_count": null,
      "metadata": {
        "colab": {
          "base_uri": "https://localhost:8080/"
        },
        "id": "hwUWb8F-kIta",
        "outputId": "694e8afb-1f9c-4b10-b738-2b44754909ae"
      },
      "outputs": [
        {
          "output_type": "execute_result",
          "data": {
            "text/plain": [
              "[('age', 'bigint'), ('name', 'string')]"
            ]
          },
          "metadata": {},
          "execution_count": 47
        }
      ],
      "source": [
        "people.dtypes"
      ]
    },
    {
      "cell_type": "markdown",
      "metadata": {
        "id": "nkbKV8pqkIta"
      },
      "source": [
        "#### Odwolania do poszczegolnych kolumn"
      ]
    },
    {
      "cell_type": "code",
      "execution_count": null,
      "metadata": {
        "colab": {
          "base_uri": "https://localhost:8080/"
        },
        "id": "EBrIqXadkItb",
        "outputId": "c4ed8b52-c8a7-45b6-d0b5-d0dc8feb06a3"
      },
      "outputs": [
        {
          "output_type": "execute_result",
          "data": {
            "text/plain": [
              "Column<'age'>"
            ]
          },
          "metadata": {},
          "execution_count": 48
        }
      ],
      "source": [
        "people.age"
      ]
    },
    {
      "cell_type": "code",
      "execution_count": null,
      "metadata": {
        "colab": {
          "base_uri": "https://localhost:8080/"
        },
        "id": "jr0-r5PjkItb",
        "outputId": "3868b3c3-9425-454e-ef0b-5d7bee7a1ef2"
      },
      "outputs": [
        {
          "output_type": "execute_result",
          "data": {
            "text/plain": [
              "Column<'age'>"
            ]
          },
          "metadata": {},
          "execution_count": 49
        }
      ],
      "source": [
        "people['age']"
      ]
    },
    {
      "cell_type": "code",
      "execution_count": null,
      "metadata": {
        "colab": {
          "base_uri": "https://localhost:8080/"
        },
        "id": "Ufv6npcCkItb",
        "outputId": "af5a079b-80e9-4191-be4e-9354bf1e6005"
      },
      "outputs": [
        {
          "output_type": "execute_result",
          "data": {
            "text/plain": [
              "Column<'age'>"
            ]
          },
          "metadata": {},
          "execution_count": 50
        }
      ],
      "source": [
        "people[0]"
      ]
    },
    {
      "cell_type": "markdown",
      "metadata": {
        "id": "KTRazEFOkItb"
      },
      "source": [
        "#### Dodanie/usuniecie kolumny\n",
        "withColumn, drop"
      ]
    },
    {
      "cell_type": "code",
      "execution_count": null,
      "metadata": {
        "colab": {
          "base_uri": "https://localhost:8080/"
        },
        "id": "JgcZM2iAkItb",
        "outputId": "bc2fa8d3-72da-4fa0-e556-5c90176b0431"
      },
      "outputs": [
        {
          "output_type": "stream",
          "name": "stdout",
          "text": [
            "+----+-------+\n",
            "| age|   name|\n",
            "+----+-------+\n",
            "|NULL|Michael|\n",
            "|  30|   Andy|\n",
            "+----+-------+\n",
            "only showing top 2 rows\n",
            "\n"
          ]
        }
      ],
      "source": [
        "people.show(2)"
      ]
    },
    {
      "cell_type": "code",
      "execution_count": null,
      "metadata": {
        "colab": {
          "base_uri": "https://localhost:8080/"
        },
        "id": "STVv1tprkItb",
        "outputId": "d77f02ea-1689-496b-d4f5-f26322d20d4f"
      },
      "outputs": [
        {
          "output_type": "stream",
          "name": "stdout",
          "text": [
            "+----+-------+-----------+\n",
            "| age|   name|ageNextYear|\n",
            "+----+-------+-----------+\n",
            "|NULL|Michael|       NULL|\n",
            "|  30|   Andy|         31|\n",
            "+----+-------+-----------+\n",
            "only showing top 2 rows\n",
            "\n"
          ]
        }
      ],
      "source": [
        "people.withColumn(colName = 'ageNextYear', col = people.age +1).show(2)"
      ]
    },
    {
      "cell_type": "code",
      "execution_count": null,
      "metadata": {
        "colab": {
          "base_uri": "https://localhost:8080/"
        },
        "id": "CUDwn96kkItb",
        "outputId": "0edc9f25-a862-4349-a90e-27ac4c2f75b5"
      },
      "outputs": [
        {
          "output_type": "stream",
          "name": "stdout",
          "text": [
            "+-------+\n",
            "|   name|\n",
            "+-------+\n",
            "|Michael|\n",
            "|   Andy|\n",
            "| Justin|\n",
            "+-------+\n",
            "\n"
          ]
        }
      ],
      "source": [
        "people.drop('age').show()"
      ]
    },
    {
      "cell_type": "markdown",
      "metadata": {
        "id": "_8jIGlB5kItc"
      },
      "source": [
        "#### Zmiany nazwy kolumny"
      ]
    },
    {
      "cell_type": "markdown",
      "metadata": {
        "id": "xjHkUWdPkItc"
      },
      "source": [
        "DataFrame people_txt ma domyslne nazwy kolumn ze Sparka. Niewiele nam one mowia."
      ]
    },
    {
      "cell_type": "code",
      "execution_count": null,
      "metadata": {
        "id": "uhDo2S8DkItc"
      },
      "outputs": [],
      "source": [
        "people_txt = people_txt.withColumnRenamed('_c0', 'name').withColumnRenamed('_c1', 'age')\n",
        "people_txt.show(1)"
      ]
    },
    {
      "cell_type": "markdown",
      "metadata": {
        "id": "xdAKabEhkItc"
      },
      "source": [
        "#### Podstawowe statystyki kolumn w DataFrames\n",
        "describe"
      ]
    },
    {
      "cell_type": "code",
      "execution_count": null,
      "metadata": {
        "id": "dacj8exckItc"
      },
      "outputs": [],
      "source": [
        "people.describe()"
      ]
    },
    {
      "cell_type": "code",
      "execution_count": null,
      "metadata": {
        "id": "ZifKahZ0kItc"
      },
      "outputs": [],
      "source": [
        "employees.describe('salary').show()"
      ]
    },
    {
      "cell_type": "markdown",
      "metadata": {
        "id": "enTnNCggkItc"
      },
      "source": [
        "#### Braki danych\n",
        "isNull, isNotNull<br>\n",
        "fillna, dropna, replace"
      ]
    },
    {
      "cell_type": "code",
      "execution_count": null,
      "metadata": {
        "id": "P9HU2ekTkItc"
      },
      "outputs": [],
      "source": [
        "newPeopleDF.show()"
      ]
    },
    {
      "cell_type": "code",
      "execution_count": null,
      "metadata": {
        "id": "a5kdVBa7kItd"
      },
      "outputs": [],
      "source": [
        "newPeopleDF.filter(newPeopleDF.age.isNull()).show()"
      ]
    },
    {
      "cell_type": "code",
      "execution_count": null,
      "metadata": {
        "id": "aK36VgcDkItd"
      },
      "outputs": [],
      "source": [
        "newPeopleDF.filter(newPeopleDF.age.isNotNull()).show()"
      ]
    },
    {
      "cell_type": "code",
      "execution_count": null,
      "metadata": {
        "id": "LuLiJN7qkItd"
      },
      "outputs": [],
      "source": [
        "newPeopleDF.fillna(-1).show()"
      ]
    },
    {
      "cell_type": "code",
      "execution_count": null,
      "metadata": {
        "id": "TQ4qUeY8kItd"
      },
      "outputs": [],
      "source": [
        "newPeopleDF.fillna({'age':-1, 'name':'unknown'}).show()"
      ]
    },
    {
      "cell_type": "code",
      "execution_count": null,
      "metadata": {
        "id": "DR-JmLk1kItd"
      },
      "outputs": [],
      "source": [
        "newPeopleDF.fillna({'name':'unknown'}).replace('unknown', 'NN').show()"
      ]
    },
    {
      "cell_type": "code",
      "execution_count": null,
      "metadata": {
        "id": "FitgZHPHkItd"
      },
      "outputs": [],
      "source": [
        "newPeopleDF.dropna().show()"
      ]
    },
    {
      "cell_type": "code",
      "execution_count": null,
      "metadata": {
        "id": "P2Ki7zgPkItd"
      },
      "outputs": [],
      "source": [
        "newPeopleDF.dropna(subset='age').show()"
      ]
    },
    {
      "cell_type": "code",
      "execution_count": null,
      "metadata": {
        "id": "s2tvBkXLkItd"
      },
      "outputs": [],
      "source": [
        "newPeopleDF.dropna?"
      ]
    },
    {
      "cell_type": "markdown",
      "metadata": {
        "id": "8jod5ho9kItd"
      },
      "source": [
        "#### Funkcje wprost ze skladni SQL\n",
        "select, where (wymienne z filter), orderBy"
      ]
    },
    {
      "cell_type": "code",
      "execution_count": null,
      "metadata": {
        "colab": {
          "base_uri": "https://localhost:8080/"
        },
        "id": "4n1threBkIte",
        "outputId": "84c818ed-9e73-4be3-afa3-852f04a5477b"
      },
      "outputs": [
        {
          "output_type": "stream",
          "name": "stdout",
          "text": [
            "+----+-------+\n",
            "| age|   name|\n",
            "+----+-------+\n",
            "|NULL|Michael|\n",
            "|  30|   Andy|\n",
            "|  19| Justin|\n",
            "+----+-------+\n",
            "\n"
          ]
        }
      ],
      "source": [
        "people.show()"
      ]
    },
    {
      "cell_type": "code",
      "execution_count": null,
      "metadata": {
        "scrolled": true,
        "colab": {
          "base_uri": "https://localhost:8080/"
        },
        "id": "c-scJ2IjkIte",
        "outputId": "53af9fe9-cdb7-4cc5-bea6-27f7909ee587"
      },
      "outputs": [
        {
          "output_type": "stream",
          "name": "stdout",
          "text": [
            "+------+\n",
            "|  name|\n",
            "+------+\n",
            "|Justin|\n",
            "|  Andy|\n",
            "+------+\n",
            "\n"
          ]
        }
      ],
      "source": [
        "people.\\\n",
        "select('name').\\\n",
        "where(people.name.like('%n%')).\\\n",
        "orderBy(people.age.asc()).\\\n",
        "show()"
      ]
    },
    {
      "cell_type": "markdown",
      "metadata": {
        "id": "-y6BoAGykIte"
      },
      "source": [
        "> **TODO**: Wyswietl imiona ludzi ze zbioru 'people' starszych niz 29 lat"
      ]
    },
    {
      "cell_type": "markdown",
      "metadata": {
        "id": "1J0nIU-zkIte"
      },
      "source": [
        "#### Operacje na zbiorach\n",
        "union - dziala jak UNION ALL w SQL. <br>\n",
        "intersect (INTERSECT z SQLa), subtract (EXCEPT z SQLa)"
      ]
    },
    {
      "cell_type": "code",
      "execution_count": null,
      "metadata": {
        "id": "t-MdHG6kkIte"
      },
      "outputs": [],
      "source": [
        "people.union?"
      ]
    },
    {
      "cell_type": "code",
      "execution_count": null,
      "metadata": {
        "colab": {
          "base_uri": "https://localhost:8080/"
        },
        "id": "AmZQELGMkIte",
        "outputId": "7aa75a8a-f3df-4701-f598-8329257d8f76"
      },
      "outputs": [
        {
          "output_type": "stream",
          "name": "stdout",
          "text": [
            "+----+-------+\n",
            "| age|   name|\n",
            "+----+-------+\n",
            "|NULL|Michael|\n",
            "|  30|   Andy|\n",
            "|  19| Justin|\n",
            "+----+-------+\n",
            "\n"
          ]
        }
      ],
      "source": [
        "people.show()"
      ]
    },
    {
      "cell_type": "code",
      "execution_count": null,
      "metadata": {
        "colab": {
          "base_uri": "https://localhost:8080/"
        },
        "id": "4dbhT14NkIte",
        "outputId": "4020968d-cbd5-4191-dd87-83b6b8f369c5"
      },
      "outputs": [
        {
          "output_type": "stream",
          "name": "stdout",
          "text": [
            "+-------+----+\n",
            "|    _c0| _c1|\n",
            "+-------+----+\n",
            "|Michael|29.0|\n",
            "|   Andy|30.0|\n",
            "| Justin|19.0|\n",
            "+-------+----+\n",
            "\n"
          ]
        }
      ],
      "source": [
        "people_txt.show()"
      ]
    },
    {
      "cell_type": "code",
      "execution_count": null,
      "metadata": {
        "colab": {
          "base_uri": "https://localhost:8080/"
        },
        "id": "eWq63d8RkIte",
        "outputId": "faee11f2-0185-4797-f750-fc551632d749"
      },
      "outputs": [
        {
          "output_type": "stream",
          "name": "stdout",
          "text": [
            "+----+----+\n",
            "|name| age|\n",
            "+----+----+\n",
            "|Greg|  32|\n",
            "|  24|NULL|\n",
            "|NULL|NULL|\n",
            "|  33|NULL|\n",
            "|NULL|NULL|\n",
            "|  32|NULL|\n",
            "|  40|NULL|\n",
            "+----+----+\n",
            "\n"
          ]
        }
      ],
      "source": [
        "newPeopleDF.show()"
      ]
    },
    {
      "cell_type": "code",
      "source": [
        "from google.colab import drive\n",
        "drive.mount('/content/drive')"
      ],
      "metadata": {
        "id": "kChrPi-vsl1S"
      },
      "execution_count": null,
      "outputs": []
    }
  ],
  "metadata": {
    "kernelspec": {
      "display_name": "Python 3 (ipykernel)",
      "language": "python",
      "name": "python3"
    },
    "language_info": {
      "codemirror_mode": {
        "name": "ipython",
        "version": 3
      },
      "file_extension": ".py",
      "mimetype": "text/x-python",
      "name": "python",
      "nbconvert_exporter": "python",
      "pygments_lexer": "ipython3",
      "version": "3.8.12"
    },
    "colab": {
      "provenance": [],
      "include_colab_link": true
    }
  },
  "nbformat": 4,
  "nbformat_minor": 0
}