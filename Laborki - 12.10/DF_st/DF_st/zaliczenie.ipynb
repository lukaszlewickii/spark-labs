{
 "cells": [
  {
   "cell_type": "markdown",
   "id": "0faa9187",
   "metadata": {},
   "source": [
    "**Zaliczenie części Wprowadzenie do Sparka**"
   ]
  },
  {
   "cell_type": "markdown",
   "id": "f2b6ed2e",
   "metadata": {},
   "source": [
    "Zbior danych to oceny filmow. Dane pochodza z projektu https://movielens.org/\n",
    "Wiecej informacji o danych mozna znalezc pod adresem: http://files.grouplens.org/datasets/movielens/ml-latest-small-README.html"
   ]
  },
  {
   "cell_type": "code",
   "execution_count": 2,
   "id": "2b2be38c",
   "metadata": {},
   "outputs": [],
   "source": [
    "from pyspark.sql import SparkSession\n",
    "spark = SparkSession.builder.appName('DataFrame_add').master('local[*]').getOrCreate()\n",
    "\n",
    "data_path = '/'"
   ]
  },
  {
   "cell_type": "markdown",
   "id": "620da2a8",
   "metadata": {},
   "source": [
    "Do rozważenia: Zalecanym formatem przechowywania danych jest Apache Parquet.\n",
    "Wiecej o tym formacie danych mozna sie dowiedziec np. tutaj: https://parquet.apache.org/.\n",
    "W skrocie, tak strona projektu podsumowuje misje stojaca za tym formatem:\n",
    "\"We created Parquet to make the advantages of compressed, efficient columnar data representation available to any project in the Hadoop ecosystem\"."
   ]
  },
  {
   "cell_type": "markdown",
   "id": "3a873c49",
   "metadata": {},
   "source": [
    "Przyjrzyj sie danym i przeanalizuj. \n",
    "\n",
    "Sugestie:\n",
    "1. Z jakich kolumn skladaja sie wczytane powyzej zbiory?\n",
    "2. Informacje o ilu filmach znajduja sie w dostarczonym zbiorze?\n",
    "3. Oceny ilu uzytkownikow znajduja sie w zbiorze?\n",
    "4. Czy w zbiorze znajduja sie braki danych?\n",
    "5. Ile filmow nie ma ocen? Ktore filmy nie maja ocen?\n",
    "6. Ktory film ma najlepsza srednia ocen? Jesli jest takich wiele podaj ten z najwieksza liczba glosow.\n",
    "7. Jaki procent filmow ma tylko maksymalne oceny?\n",
    "8. Ktory film na najwyzsza minimalna ocene? Jesli jest takich wiele podaj ten z najwieksza liczba glosow.\n",
    "9. Jaki jest rozklad ocen?\n",
    "10. Ile jest filmow zaklasyfikowanych jako dokumentalne 'documentary'?\n",
    "11. Ktory z filmow dokumentalnych z conajmniej 10 glosami ma najwysza srednia ocene?\n",
    "12. Jakie sa roznice pomiedzy liczba filmow w zbiorze z roku na rok? Zaloz, ze timestamp reprezentuje liczbe sekund od roku 1960.\n",
    "13. Ile srednio kategorii przypisanych jest do 1 filmu? Ktory film ma najwiecej kategorii (+co to za kategorie)?"
   ]
  },
  {
   "cell_type": "code",
   "execution_count": null,
   "id": "f96a3871",
   "metadata": {},
   "outputs": [],
   "source": []
  }
 ],
 "metadata": {
  "kernelspec": {
   "display_name": "Python 3 (ipykernel)",
   "language": "python",
   "name": "python3"
  },
  "language_info": {
   "codemirror_mode": {
    "name": "ipython",
    "version": 3
   },
   "file_extension": ".py",
   "mimetype": "text/x-python",
   "name": "python",
   "nbconvert_exporter": "python",
   "pygments_lexer": "ipython3",
   "version": "3.8.12"
  }
 },
 "nbformat": 4,
 "nbformat_minor": 5
}
